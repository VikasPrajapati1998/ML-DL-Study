{
 "cells": [
  {
   "cell_type": "markdown",
   "id": "b9a13d63-b15c-4520-a27d-da04c547a5dc",
   "metadata": {},
   "source": [
    "# **Numpy**"
   ]
  },
  {
   "cell_type": "code",
   "execution_count": 1,
   "id": "297c2441-b077-4212-9508-fec8918ea45f",
   "metadata": {
    "tags": []
   },
   "outputs": [
    {
     "name": "stdout",
     "output_type": "stream",
     "text": [
      "[1, 2, 3, 4, 5, 6, 7, 8, 9, 10] <class 'list'> 184 168\n",
      "[ 1  2  3  4  5  6  7  8  9 10] <class 'numpy.ndarray'> 192 192\n",
      "[ 1  2  3  4  5  6  7  8  9 10] <class 'numpy.ndarray'> 192 192\n",
      "[ 2.  4.  6.  8. 10. 12. 14. 16. 18. 20.] <class 'numpy.ndarray'> 192 192\n",
      "[False  True False  True False  True False  True False  True] <class 'numpy.ndarray'> 122 122\n"
     ]
    }
   ],
   "source": [
    "import numpy as np\n",
    "import sys\n",
    "\n",
    "# create a list\n",
    "lst = [x for x in range(1, 11)]\n",
    "print(lst, type(lst), sys.getsizeof(lst), lst.__sizeof__())\n",
    "\n",
    "# create a array\n",
    "arr = np.array([x for x in range(1, 11)])\n",
    "print(arr, type(arr), sys.getsizeof(arr), arr.__sizeof__())\n",
    "\n",
    "# create a array of int type\n",
    "arrInt = np.array([x for x in range(1, 11)], int)\n",
    "print(arrInt, type(arrInt), sys.getsizeof(arrInt), arrInt.__sizeof__())\n",
    "\n",
    "# create a array of float type\n",
    "arrFloat = np.array([x for x in range(2, 21, 2)], float)\n",
    "print(arrFloat, type(arrFloat), sys.getsizeof(arrFloat), arrFloat.__sizeof__())\n",
    "\n",
    "# create a array of bool type\n",
    "arrBool = np.array([bool(x%2==0) for x in range(1, 11)], bool)\n",
    "print(arrBool, type(arrFloat), sys.getsizeof(arrBool), arrBool.__sizeof__())\n"
   ]
  },
  {
   "cell_type": "markdown",
   "id": "5993bd17-d139-429a-b485-dcc5bd53967a",
   "metadata": {},
   "source": [
    "### ***Compare execution time of list and array***\n",
    "Which one is more fast.\n",
    "- array is more fast than list.\n",
    "- list takes more memory than array"
   ]
  },
  {
   "cell_type": "code",
   "execution_count": 2,
   "id": "13000f1b-80c9-4b2b-bc4f-cb9e7862ef30",
   "metadata": {
    "tags": []
   },
   "outputs": [
    {
     "name": "stdout",
     "output_type": "stream",
     "text": [
      "4.57 µs ± 142 ns per loop (mean ± std. dev. of 7 runs, 100,000 loops each)\n",
      "3.13 µs ± 66.1 ns per loop (mean ± std. dev. of 7 runs, 100,000 loops each)\n"
     ]
    }
   ],
   "source": [
    "%timeit [x**4 for x in range(2, 21, 2)] # list creation time\n",
    "%timeit np.arange(2, 21, 2)**4 # array creation time\n",
    "# %timeit function to calculate time for a statement"
   ]
  },
  {
   "cell_type": "markdown",
   "id": "53e79480-284e-4f47-b454-b97784827569",
   "metadata": {},
   "source": [
    "## **Array**"
   ]
  },
  {
   "cell_type": "code",
   "execution_count": 3,
   "id": "d0e551cc-d3be-432f-96e8-98b3a42e5751",
   "metadata": {
    "tags": []
   },
   "outputs": [
    {
     "data": {
      "text/plain": [
       "array([1, 2, 3, 4, 5, 6, 7, 8])"
      ]
     },
     "execution_count": 3,
     "metadata": {},
     "output_type": "execute_result"
    }
   ],
   "source": [
    "arr1 = np.array([x for x in range(1, 9)])\n",
    "arr1"
   ]
  },
  {
   "cell_type": "code",
   "execution_count": 4,
   "id": "d571115c-639c-48cc-86dc-05ff275941f1",
   "metadata": {
    "tags": []
   },
   "outputs": [
    {
     "name": "stdin",
     "output_type": "stream",
     "text": [
      "Enter value :  1 2 3 4 5 6\n"
     ]
    },
    {
     "name": "stdout",
     "output_type": "stream",
     "text": [
      "[1 2 3 4 5 6]\n"
     ]
    }
   ],
   "source": [
    "arr2 = np.array([int(x) for x in input(\"Enter value : \").split()])\n",
    "print(arr2)"
   ]
  },
  {
   "cell_type": "markdown",
   "id": "aab41c97-8103-4556-8d0c-66c94ce999e5",
   "metadata": {},
   "source": [
    "### ***Dimensions in Arrays***\n",
    "- 1D Arrays\n",
    "- 2D Arrays\n",
    "- 3D Arrays\n",
    "- nD Arrays\n",
    "- Use \"ndim\" method to check dimenstion."
   ]
  },
  {
   "cell_type": "code",
   "execution_count": 5,
   "id": "fd753bc0-c1fa-4070-8691-a01bd5a7186d",
   "metadata": {
    "tags": []
   },
   "outputs": [
    {
     "name": "stdout",
     "output_type": "stream",
     "text": [
      "arr1d =  [ 1  2  3  4  5  6  7  8  9 10]\n",
      "Dimension =  1\n",
      "\n",
      "arr2d = \n",
      " [[1 2 3]\n",
      " [2 4 6]\n",
      " [3 6 9]]\n",
      "Dimension =  2\n",
      "\n",
      "arr3d = \n",
      " [[[  1   2   3   4]\n",
      "  [  2   4   6   8]\n",
      "  [  3   6   9  12]]\n",
      "\n",
      " [[ 10  20  30  40]\n",
      "  [ 20  40  60  80]\n",
      "  [ 30  60  90 120]]]\n",
      "Dimension =  3\n",
      "\n",
      "arrnd = \n",
      " [[[[  1   2   3   4   5]\n",
      "   [  2   4   6   8  10]\n",
      "   [  3   6   9  12  15]\n",
      "   [  4   8  12  16  20]]\n",
      "\n",
      "  [[ 11  12  13  14  15]\n",
      "   [ 21  22  23  24  25]\n",
      "   [ 31  32  33  34  35]\n",
      "   [ 41  42  43  44  45]]\n",
      "\n",
      "  [[  1   2   3   4   5]\n",
      "   [  1   4   9  16  25]\n",
      "   [  1   8  27  64 125]\n",
      "   [  1  16  81 256 625]]]]\n",
      "Dimension =  4\n",
      "\n"
     ]
    }
   ],
   "source": [
    "# 1D Array\n",
    "arr1d = np.array([x for x in range(1, 11)])\n",
    "print(\"arr1d = \", arr1d)\n",
    "print(\"Dimension = \", arr1d.ndim)\n",
    "print()\n",
    "\n",
    "# 2D Array\n",
    "arr2d = np.array([[1, 2, 3], [2, 4, 6], [3, 6, 9]])\n",
    "print(\"arr2d = \\n\", arr2d)\n",
    "print(\"Dimension = \", arr2d.ndim)\n",
    "print()\n",
    "\n",
    "# 3D Array\n",
    "arr3d = np.array([\n",
    "                    [\n",
    "                        [1, 2, 3, 4],\n",
    "                        [2, 4, 6, 8],\n",
    "                        [3, 6, 9, 12]\n",
    "                    ],\n",
    "                    [\n",
    "                        [10, 20, 30, 40],\n",
    "                        [20, 40, 60, 80],\n",
    "                        [30, 60, 90, 120]\n",
    "                    ]\n",
    "                ])\n",
    "print(\"arr3d = \\n\", arr3d)   \n",
    "print(\"Dimension = \", arr3d.ndim)\n",
    "print()\n",
    "\n",
    "# nd Array\n",
    "arrnd = np.array([\n",
    "    [\n",
    "        [\n",
    "            [x*1 for x in range(1, 6)],\n",
    "            [x*2 for x in range(1, 6)],\n",
    "            [x*3 for x in range(1, 6)],\n",
    "            [x*4 for x in range(1, 6)]\n",
    "        ],\n",
    "        [\n",
    "            [x+10 for x in range(1, 6)],\n",
    "            [x+20 for x in range(1, 6)],\n",
    "            [x+30 for x in range(1, 6)],\n",
    "            [x+40 for x in range(1, 6)]\n",
    "        ],\n",
    "        [\n",
    "            [x**1 for x in range(1, 6)],\n",
    "            [x**2 for x in range(1, 6)],\n",
    "            [x**3 for x in range(1, 6)],\n",
    "            [x**4 for x in range(1, 6)]\n",
    "        ]\n",
    "    ]\n",
    "])\n",
    "print(\"arrnd = \\n\", arrnd)\n",
    "print(\"Dimension = \", arrnd.ndim)\n",
    "print() \n",
    "            "
   ]
  },
  {
   "cell_type": "code",
   "execution_count": 6,
   "id": "0b5f06a7-0b77-44d7-be50-ec80c70f5b55",
   "metadata": {
    "tags": []
   },
   "outputs": [
    {
     "name": "stdout",
     "output_type": "stream",
     "text": [
      "[[1 2 3]\n",
      " [2 4 6]]\n"
     ]
    }
   ],
   "source": [
    "arr3 = np.array([[1, 2, 3], [2, 4, 6]], int)\n",
    "print(arr3)"
   ]
  },
  {
   "cell_type": "code",
   "execution_count": 7,
   "id": "fcf389c7-b93c-4a0e-aa04-fc21be8eecd4",
   "metadata": {
    "tags": []
   },
   "outputs": [
    {
     "name": "stdout",
     "output_type": "stream",
     "text": [
      "[[[[ 1  2  3  4  5  6  7  8  9 10]\n",
      "   [ 2  4  6  8 10 12 14 16 18 20]]]]\n",
      "4\n"
     ]
    }
   ],
   "source": [
    "arr4 = np.array([[x for x in range(1, 11)], [y for y in range(2, 21, 2)]], ndmin=4)\n",
    "print(arr4)\n",
    "print(arr4.ndim)"
   ]
  },
  {
   "cell_type": "markdown",
   "id": "5629f520-e9f3-4d1c-9025-d79aa34162d3",
   "metadata": {},
   "source": [
    "## **Create Numpy Array**\n",
    "- Array filled with 0's\n",
    "- Array filled with 1's\n",
    "- Create an empty array\n",
    "- An array with a range of elements\n",
    "- Array diagonal element filled with 1's\n",
    "- Create an array with values that are spaced linearly in a specified interval."
   ]
  },
  {
   "cell_type": "markdown",
   "id": "85f5dab3-7b52-40c4-a6fe-dbc6acd358f3",
   "metadata": {},
   "source": [
    "### **zeros**"
   ]
  },
  {
   "cell_type": "code",
   "execution_count": 8,
   "id": "3164ce0c-05d2-4573-aaba-aa56f15d2ac9",
   "metadata": {
    "tags": []
   },
   "outputs": [
    {
     "name": "stdout",
     "output_type": "stream",
     "text": [
      "[0. 0. 0. 0.]\n",
      "\n",
      "\n",
      "[[0 0 0 0]\n",
      " [0 0 0 0]\n",
      " [0 0 0 0]]\n"
     ]
    }
   ],
   "source": [
    "arr_zero = np.zeros(4)\n",
    "print(arr_zero)\n",
    "print(\"\\n\")\n",
    "\n",
    "arr_zero1 = np.zeros((3, 4), int)\n",
    "print(arr_zero1)\n"
   ]
  },
  {
   "cell_type": "markdown",
   "id": "27602ea5-6df6-4977-9255-0ee916730eb5",
   "metadata": {},
   "source": [
    "### **ones**"
   ]
  },
  {
   "cell_type": "code",
   "execution_count": 9,
   "id": "64cd303c-8588-4955-b623-8fdf5700ab98",
   "metadata": {
    "tags": []
   },
   "outputs": [
    {
     "name": "stdout",
     "output_type": "stream",
     "text": [
      "[1 1 1 1 1]\n",
      "\n",
      "\n",
      "[[1 1 1 1]\n",
      " [1 1 1 1]\n",
      " [1 1 1 1]]\n"
     ]
    }
   ],
   "source": [
    "arr_ones = np.ones(5, int)\n",
    "print(arr_ones)\n",
    "print(\"\\n\")\n",
    "\n",
    "arr_ones1 = np.ones((3, 4), int)\n",
    "print(arr_ones1)\n"
   ]
  },
  {
   "cell_type": "markdown",
   "id": "0eef3bbb-0d48-4c32-9a6a-ca1642545e90",
   "metadata": {},
   "source": [
    "### **empty**"
   ]
  },
  {
   "cell_type": "code",
   "execution_count": 10,
   "id": "946fa1a7-c0eb-4be3-89b8-e37f45bb23fa",
   "metadata": {
    "tags": []
   },
   "outputs": [
    {
     "name": "stdout",
     "output_type": "stream",
     "text": [
      "[2.12843436e-316 0.00000000e+000 1.06688523e+224 2.70746011e-005\n",
      " 6.94091743e-310]\n",
      "\n",
      "\n",
      "[[41732178        0        0        0        0]\n",
      " [       0        0        0        0        0]\n",
      " [       0        0        0        0        0]\n",
      " [       0        0        0        0        0]]\n"
     ]
    }
   ],
   "source": [
    "arr_empty = np.empty(5)\n",
    "print(arr_empty)\n",
    "print(\"\\n\")\n",
    "arr_empty1 = np.empty((4,5), int)\n",
    "print(arr_empty1)\n"
   ]
  },
  {
   "cell_type": "markdown",
   "id": "80e63a4f-22b8-4861-8a82-dc6751d59b61",
   "metadata": {},
   "source": [
    "### **arange**"
   ]
  },
  {
   "cell_type": "code",
   "execution_count": 11,
   "id": "5ee6acda-d4f9-49a5-a4f5-36b58387fb88",
   "metadata": {
    "tags": []
   },
   "outputs": [
    {
     "name": "stdout",
     "output_type": "stream",
     "text": [
      "[0 1 2 3 4]\n",
      "\n",
      "[ 1  4  7 10 13 16 19]\n",
      "\n",
      "[ 1.  4.  7. 10. 13. 16. 19.]\n"
     ]
    }
   ],
   "source": [
    "arr_r = np.arange(5)\n",
    "print(arr_r)\n",
    "print()\n",
    "\n",
    "arr_arange = np.arange(1, 20, 3)\n",
    "print(arr_arange)\n",
    "print()\n",
    "\n",
    "arr_arange = np.arange(1, 20, 3, dtype=\"float\")\n",
    "print(arr_arange)"
   ]
  },
  {
   "cell_type": "markdown",
   "id": "01a63964-8ba0-422f-baf5-a520709b54f8",
   "metadata": {},
   "source": [
    "### **Diagonal**"
   ]
  },
  {
   "cell_type": "code",
   "execution_count": 12,
   "id": "eb7709b3-4191-4de0-a61f-217a33aa4b69",
   "metadata": {
    "tags": []
   },
   "outputs": [
    {
     "name": "stdout",
     "output_type": "stream",
     "text": [
      "[[1. 0. 0.]\n",
      " [0. 1. 0.]\n",
      " [0. 0. 1.]]\n",
      "\n",
      "[[1. 0. 0. 0.]\n",
      " [0. 1. 0. 0.]\n",
      " [0. 0. 1. 0.]]\n",
      "\n",
      "[[1 0 0 0]\n",
      " [0 1 0 0]\n",
      " [0 0 1 0]]\n"
     ]
    }
   ],
   "source": [
    "arr_dia = np.eye(3)\n",
    "print(arr_dia)\n",
    "print()\n",
    "\n",
    "arr_d = np.eye(3, 4)\n",
    "print(arr_d)\n",
    "print()\n",
    "\n",
    "arr_d = np.eye(3, 4, dtype=\"int\")\n",
    "print(arr_d)"
   ]
  },
  {
   "cell_type": "markdown",
   "id": "66ba49ec-4dae-47dc-a56d-1b3b16cd1630",
   "metadata": {},
   "source": [
    "### **linspace**"
   ]
  },
  {
   "cell_type": "code",
   "execution_count": 13,
   "id": "8a93423b-bbce-44a1-90bc-67fa5417414d",
   "metadata": {
    "tags": []
   },
   "outputs": [
    {
     "name": "stdout",
     "output_type": "stream",
     "text": [
      "[ 0.   2.5  5.   7.5 10. ]\n",
      "\n",
      "[ 0.  5. 10. 15. 20.]\n",
      "\n",
      "[ 0  5 10 15 20]\n",
      "\n",
      "[ 0  5 10 15 20]\n"
     ]
    }
   ],
   "source": [
    "arr_lin = np.linspace(0, 10, 5)\n",
    "print(arr_lin)\n",
    "print()\n",
    "arr_lin1 = np.linspace(0, 20, num=5)\n",
    "print(arr_lin1)\n",
    "print()\n",
    "arr_lin1 = np.linspace(0, 20, 5, dtype=\"int\")\n",
    "print(arr_lin1)\n",
    "print()\n",
    "arr_lin1 = np.linspace(0, 20, num=5, dtype=\"int\")\n",
    "print(arr_lin1)"
   ]
  },
  {
   "cell_type": "markdown",
   "id": "061efa4f-eaa3-4a2b-bec4-2a5431c6c877",
   "metadata": {},
   "source": [
    "### **repeat**"
   ]
  },
  {
   "cell_type": "code",
   "execution_count": 14,
   "id": "0fa0d077-4646-4b8f-a2dd-021333e2c6a5",
   "metadata": {
    "tags": []
   },
   "outputs": [
    {
     "name": "stdout",
     "output_type": "stream",
     "text": [
      "[3 3 3 3 3]\n",
      "\n",
      "[7 7 7 7]\n",
      "\n"
     ]
    }
   ],
   "source": [
    "arr = np.repeat(3, 5)\n",
    "print(arr)\n",
    "print()\n",
    "\n",
    "arr = np.repeat(7, 4, axis=0)\n",
    "print(arr)\n",
    "print()\n",
    "\n",
    "# arr = np.repeat(9, 6, axis=1)  # Error"
   ]
  },
  {
   "cell_type": "markdown",
   "id": "204e35cb-0b55-44c0-bea6-84bd7dba4163",
   "metadata": {},
   "source": [
    "### **Numpy Array with Random Numbers**\n",
    "- rand() # interval (0, 1)\n",
    "- randn() # value closer to zero.\n",
    "- randint(a, b, c) # interval [a, b]\n",
    "- seed() "
   ]
  },
  {
   "cell_type": "code",
   "execution_count": 15,
   "id": "1af3deeb-d0b5-4069-a61a-87b05cb187d3",
   "metadata": {
    "tags": []
   },
   "outputs": [
    {
     "name": "stdout",
     "output_type": "stream",
     "text": [
      "[0.17822795 0.7277228  0.95974705 0.11697778]\n",
      "\n",
      "\n",
      "[[0.46816214 0.86302876 0.79023969 0.15318439]\n",
      " [0.45058294 0.53200012 0.1429604  0.87021037]\n",
      " [0.75803913 0.14901999 0.83946728 0.2276903 ]]\n"
     ]
    }
   ],
   "source": [
    "# rand()\n",
    "arr_rand = np.random.rand(4)\n",
    "print(arr_rand)\n",
    "print(\"\\n\")\n",
    "arr_rand1 = np.random.rand(3, 4)\n",
    "print(arr_rand1)"
   ]
  },
  {
   "cell_type": "code",
   "execution_count": 16,
   "id": "64fcc66c-c6ed-4eb3-8a48-f701e558c406",
   "metadata": {
    "tags": []
   },
   "outputs": [
    {
     "name": "stdout",
     "output_type": "stream",
     "text": [
      "[ 1.01516591  1.38153227  0.37346886 -1.49139085]\n",
      "\n",
      "\n",
      "[[-0.19112054 -0.4389348  -0.797345   -0.76957866]\n",
      " [-0.22675973  0.84701001 -1.30146314 -0.38636105]\n",
      " [-0.04599618 -0.07468557  0.42243134 -0.47775185]]\n"
     ]
    }
   ],
   "source": [
    "# randn()\n",
    "arr_randn = np.random.randn(4)\n",
    "print(arr_randn)\n",
    "print(\"\\n\")\n",
    "arr_randn1 = np.random.randn(3, 4)\n",
    "print(arr_randn1)"
   ]
  },
  {
   "cell_type": "code",
   "execution_count": 17,
   "id": "e555237d-be72-4fbb-91c6-5789cdc542d7",
   "metadata": {
    "tags": []
   },
   "outputs": [
    {
     "name": "stdout",
     "output_type": "stream",
     "text": [
      "[5 2 2 4 4]\n",
      "\n",
      "[4 4 7 6 2]\n",
      "\n"
     ]
    }
   ],
   "source": [
    "# randint()\n",
    "arr_randint = np.random.randint(1, 8, 5)\n",
    "print(arr_randint)\n",
    "print()\n",
    "\n",
    "# seed()\n",
    "np.random.seed(12) \n",
    "arr_randint = np.random.randint(1, 8, 5)\n",
    "print(arr_randint)\n",
    "print()"
   ]
  },
  {
   "cell_type": "code",
   "execution_count": 18,
   "id": "c0bcb01c-a96a-4b6e-b4a0-3a87a57d04d0",
   "metadata": {
    "tags": []
   },
   "outputs": [
    {
     "name": "stdout",
     "output_type": "stream",
     "text": [
      "[[3 4 4 5]\n",
      " [1 7 2 5]\n",
      " [6 6 2 3]]\n",
      "\n",
      "[[4 4 7 6]\n",
      " [2 3 4 4]\n",
      " [5 1 7 2]]\n",
      "\n"
     ]
    }
   ],
   "source": [
    "# randint()\n",
    "arr_randint1 = np.random.randint(1, 9, (3, 4))\n",
    "print(arr_randint1)\n",
    "print()\n",
    "\n",
    "# seed()\n",
    "np.random.seed(12) \n",
    "arr_randint1 = np.random.randint(1, 9, (3, 4))\n",
    "print(arr_randint1)\n",
    "print()"
   ]
  },
  {
   "cell_type": "code",
   "execution_count": 19,
   "id": "28d90175-bf13-4e72-87b8-cb436e6a5530",
   "metadata": {
    "tags": []
   },
   "outputs": [
    {
     "name": "stdout",
     "output_type": "stream",
     "text": [
      "[[[5 6 6 2 3]\n",
      "  [4 7 3 1 6]\n",
      "  [1 5 6 3 2]\n",
      "  [4 7 5 4 2]]\n",
      "\n",
      " [[7 1 3 7 3]\n",
      "  [1 5 7 4 6]\n",
      "  [2 6 7 1 1]\n",
      "  [7 4 4 2 4]]\n",
      "\n",
      " [[1 2 7 2 1]\n",
      "  [5 1 5 2 4]\n",
      "  [5 6 4 6 4]\n",
      "  [5 6 4 6 4]]]\n"
     ]
    }
   ],
   "source": [
    "# randint()\n",
    "arr_randint2 = np.random.randint(1, 8, (3, 4, 5))\n",
    "print(arr_randint2)"
   ]
  },
  {
   "cell_type": "code",
   "execution_count": 20,
   "id": "fa49fe88-edd5-4898-a6a9-611ad6391b46",
   "metadata": {
    "tags": []
   },
   "outputs": [
    {
     "name": "stdout",
     "output_type": "stream",
     "text": [
      "[[[[0 6 6 3 2 4 3]\n",
      "   [6 7 4 1 4 5 3]\n",
      "   [5 0 2 6 4 7 6]\n",
      "   [2 3 2 6 4 5 0]\n",
      "   [0 5 4 0 3 7 6]\n",
      "   [8 6 1 4 6 5 2]\n",
      "   [4 0 8 4 4 3 7]]\n",
      "\n",
      "  [[3 6 1 4 3 8 8]\n",
      "   [6 8 4 4 1 4 1]\n",
      "   [4 3 2 8 0 1 4]\n",
      "   [6 5 4 2 0 1 2]\n",
      "   [5 2 0 1 4 7 7]\n",
      "   [1 6 1 3 0 1 8]\n",
      "   [4 8 8 8 8 3 5]]\n",
      "\n",
      "  [[1 6 3 2 3 1 3]\n",
      "   [2 2 8 3 5 1 7]\n",
      "   [4 0 8 3 1 4 7]\n",
      "   [2 2 4 0 8 3 5]\n",
      "   [2 4 7 5 0 2 4]\n",
      "   [6 6 2 7 2 5 1]\n",
      "   [5 3 7 7 1 2 1]]\n",
      "\n",
      "  [[5 8 0 8 6 5 6]\n",
      "   [4 7 8 7 1 8 2]\n",
      "   [2 7 0 1 0 5 0]\n",
      "   [0 7 4 3 2 6 3]\n",
      "   [4 4 7 2 2 3 0]\n",
      "   [3 7 8 1 6 1 8]\n",
      "   [6 6 1 3 0 5 5]]\n",
      "\n",
      "  [[3 3 7 5 1 7 7]\n",
      "   [2 3 0 2 5 8 4]\n",
      "   [3 0 1 8 4 8 0]\n",
      "   [1 5 1 2 3 5 6]\n",
      "   [0 8 3 4 4 2 7]\n",
      "   [7 0 3 4 0 2 4]\n",
      "   [2 2 5 1 2 2 2]]]\n",
      "\n",
      "\n",
      " [[[6 0 7 4 8 3 8]\n",
      "   [8 7 4 2 2 3 3]\n",
      "   [7 4 8 7 6 0 8]\n",
      "   [0 6 7 4 0 1 6]\n",
      "   [4 2 0 2 8 2 0]\n",
      "   [5 0 3 0 8 1 0]\n",
      "   [6 0 0 2 4 3 1]]\n",
      "\n",
      "  [[5 0 2 2 8 5 0]\n",
      "   [7 0 2 8 0 5 3]\n",
      "   [5 7 6 6 4 6 1]\n",
      "   [1 2 4 4 6 2 3]\n",
      "   [4 4 3 0 8 7 5]\n",
      "   [1 1 3 7 5 0 7]\n",
      "   [8 5 0 5 1 4 6]]\n",
      "\n",
      "  [[2 3 4 7 4 7 6]\n",
      "   [4 6 3 1 2 4 2]\n",
      "   [8 8 3 5 3 1 4]\n",
      "   [5 4 7 4 0 4 2]\n",
      "   [2 7 7 6 0 6 1]\n",
      "   [2 2 6 3 1 6 3]\n",
      "   [7 2 0 6 4 2 8]]\n",
      "\n",
      "  [[0 1 7 3 4 3 5]\n",
      "   [4 4 5 5 6 1 7]\n",
      "   [7 1 7 0 1 8 7]\n",
      "   [7 3 1 6 0 0 7]\n",
      "   [2 2 6 3 7 3 6]\n",
      "   [1 5 1 1 1 8 0]\n",
      "   [5 5 0 2 3 3 5]]\n",
      "\n",
      "  [[0 3 5 1 4 6 0]\n",
      "   [0 5 3 0 5 5 8]\n",
      "   [5 5 4 4 6 5 3]\n",
      "   [1 5 7 1 2 2 0]\n",
      "   [4 8 1 6 5 6 6]\n",
      "   [6 1 7 6 5 5 3]\n",
      "   [0 3 5 3 5 5 6]]]\n",
      "\n",
      "\n",
      " [[[2 8 0 5 7 0 7]\n",
      "   [7 2 4 4 0 5 6]\n",
      "   [6 5 3 3 4 4 8]\n",
      "   [0 6 8 0 3 8 2]\n",
      "   [3 6 4 1 0 5 5]\n",
      "   [8 5 7 4 4 4 4]\n",
      "   [6 3 1 6 3 0 3]]\n",
      "\n",
      "  [[5 2 2 7 6 8 5]\n",
      "   [8 6 6 2 6 1 7]\n",
      "   [3 5 3 1 6 2 0]\n",
      "   [0 4 2 3 0 8 0]\n",
      "   [8 7 4 2 1 1 3]\n",
      "   [8 5 8 2 0 5 6]\n",
      "   [3 0 7 5 8 8 4]]\n",
      "\n",
      "  [[8 3 5 7 1 1 2]\n",
      "   [2 4 5 2 3 3 6]\n",
      "   [2 5 2 8 3 6 8]\n",
      "   [2 8 0 3 4 5 3]\n",
      "   [3 8 2 0 4 5 2]\n",
      "   [1 8 6 5 5 5 2]\n",
      "   [0 6 1 8 0 7 5]]\n",
      "\n",
      "  [[8 6 5 8 4 0 5]\n",
      "   [8 1 6 4 2 6 0]\n",
      "   [3 0 0 3 3 5 1]\n",
      "   [8 4 5 4 3 2 5]\n",
      "   [1 8 7 6 7 3 8]\n",
      "   [7 4 4 8 1 7 5]\n",
      "   [4 7 3 7 4 2 2]]\n",
      "\n",
      "  [[5 6 0 3 4 1 8]\n",
      "   [7 2 8 6 8 3 1]\n",
      "   [6 3 0 0 6 8 4]\n",
      "   [5 4 1 2 2 2 0]\n",
      "   [8 3 8 8 1 1 0]\n",
      "   [2 4 8 6 6 6 4]\n",
      "   [7 0 0 2 6 6 8]]]\n",
      "\n",
      "\n",
      " [[[5 1 2 5 0 0 8]\n",
      "   [1 5 7 5 8 0 4]\n",
      "   [4 5 5 2 7 5 4]\n",
      "   [3 3 3 1 6 7 2]\n",
      "   [8 0 0 8 8 8 5]\n",
      "   [4 0 4 6 8 5 3]\n",
      "   [2 1 2 6 7 8 2]]\n",
      "\n",
      "  [[6 6 3 7 8 2 5]\n",
      "   [6 7 6 7 0 8 3]\n",
      "   [2 8 0 4 3 1 0]\n",
      "   [8 6 4 5 7 3 6]\n",
      "   [2 5 6 3 4 7 2]\n",
      "   [4 3 2 5 4 0 7]\n",
      "   [5 6 7 7 8 8 3]]\n",
      "\n",
      "  [[1 6 5 7 5 7 8]\n",
      "   [1 8 3 2 8 8 8]\n",
      "   [6 0 2 1 0 0 5]\n",
      "   [3 3 8 6 7 8 1]\n",
      "   [4 6 3 1 6 3 0]\n",
      "   [6 5 0 7 5 4 1]\n",
      "   [5 1 8 4 8 7 4]]\n",
      "\n",
      "  [[2 0 7 0 3 6 0]\n",
      "   [2 0 3 0 6 0 1]\n",
      "   [6 7 6 7 4 6 5]\n",
      "   [3 0 5 6 0 1 6]\n",
      "   [7 5 1 5 7 7 7]\n",
      "   [8 2 7 5 3 8 8]\n",
      "   [0 4 5 6 3 7 0]]\n",
      "\n",
      "  [[7 2 5 1 3 1 0]\n",
      "   [6 5 3 1 6 1 7]\n",
      "   [4 0 7 6 5 5 6]\n",
      "   [6 8 5 3 5 3 0]\n",
      "   [7 5 8 5 1 4 4]\n",
      "   [6 6 0 8 5 0 6]\n",
      "   [4 6 1 0 4 7 3]]]]\n",
      "4\n",
      "(4, 5, 7, 7)\n"
     ]
    }
   ],
   "source": [
    "arr_randint3 = np.random.randint(0, 9, (4, 5, 7, 7))\n",
    "print(arr_randint3)\n",
    "print(arr_randint3.ndim)\n",
    "print(arr_randint3.shape)"
   ]
  },
  {
   "cell_type": "markdown",
   "id": "50ce06b7-0cdf-4547-b0bc-b2c7ad3f0ed5",
   "metadata": {},
   "source": [
    "## **Data Type in Numpy Arrays**\n",
    "- bool_\n",
    "- int_\n",
    "- Intc\n",
    "- Intp\n",
    "- int8, int16, int32, int64\n",
    "- uint8, uint16, uint32, uint64\n",
    "- float_\n",
    "- float16, float32, float64\n",
    "- complex_\n",
    "- complex64\n",
    "- complex128"
   ]
  },
  {
   "cell_type": "code",
   "execution_count": 21,
   "id": "f94b842a-647b-40a0-8944-d4c36fc784c5",
   "metadata": {},
   "outputs": [
    {
     "name": "stdout",
     "output_type": "stream",
     "text": [
      "[[1 1 2]\n",
      " [2 4 6]]\n",
      "int64\n"
     ]
    }
   ],
   "source": [
    "arr = np.random.randint(0, 9, (2, 3))\n",
    "print(arr)\n",
    "print(arr.dtype)"
   ]
  },
  {
   "cell_type": "code",
   "execution_count": 22,
   "id": "b4c41380-dd41-4684-98b0-5dab80cedc60",
   "metadata": {
    "tags": []
   },
   "outputs": [
    {
     "name": "stdout",
     "output_type": "stream",
     "text": [
      "[[-1.13670265 -0.54675506  1.0915574 ]\n",
      " [ 0.39445575 -1.25352767 -2.13398235]]\n",
      "float64\n"
     ]
    }
   ],
   "source": [
    "arr = np.random.randn(2, 3)\n",
    "print(arr)\n",
    "print(arr.dtype)"
   ]
  },
  {
   "cell_type": "code",
   "execution_count": 23,
   "id": "d4666dc0-99cd-4ac1-ae59-3e8990979b39",
   "metadata": {
    "tags": []
   },
   "outputs": [
    {
     "name": "stdout",
     "output_type": "stream",
     "text": [
      "['a' 'b' 'c' 'd' 'e']\n",
      "<U1\n"
     ]
    }
   ],
   "source": [
    "arr = np.array(['a', 'b', 'c', 'd', 'e'])\n",
    "print(arr)\n",
    "print(arr.dtype)"
   ]
  },
  {
   "cell_type": "code",
   "execution_count": 24,
   "id": "6ca25e76-bde3-4a6b-b59e-d9e5052db983",
   "metadata": {
    "tags": []
   },
   "outputs": [
    {
     "name": "stdout",
     "output_type": "stream",
     "text": [
      "['A' 'B' 'C' '1' '2' '3']\n",
      "<U21\n"
     ]
    }
   ],
   "source": [
    "arr = np.array(['A', 'B', 'C', 1, 2, 3])\n",
    "print(arr)\n",
    "print(arr.dtype)"
   ]
  },
  {
   "cell_type": "markdown",
   "id": "fb4a6e6e-cccf-4442-aca3-ff4069eedb77",
   "metadata": {},
   "source": [
    "### ***Data Types as Function***\n",
    "- i : integer\n",
    "- b : boolean\n",
    "- u : unsigned integer\n",
    "- f : float\n",
    "- c : complex float\n",
    "- m : timedelta\n",
    "- M : datetime\n",
    "- O : object\n",
    "- S : string\n",
    "- U : Unicode string\n",
    "- V : the fixed chunk of memory for other types (void)"
   ]
  },
  {
   "cell_type": "code",
   "execution_count": 25,
   "id": "65b8d387-6ae4-43c8-9f1e-350edf2def56",
   "metadata": {
    "tags": []
   },
   "outputs": [
    {
     "name": "stdout",
     "output_type": "stream",
     "text": [
      "[ 2  5  8 11 14 17]\n",
      "int8\n"
     ]
    }
   ],
   "source": [
    "arr = np.arange(2, 20, 3, dtype = np.int8)\n",
    "print(arr)\n",
    "print(arr.dtype)"
   ]
  },
  {
   "cell_type": "code",
   "execution_count": 26,
   "id": "5d574b7b-9489-43ce-8bcd-b44cafd80846",
   "metadata": {
    "tags": []
   },
   "outputs": [
    {
     "name": "stdout",
     "output_type": "stream",
     "text": [
      "[ 2.  5.  8. 11. 14. 17.]\n",
      "float16\n"
     ]
    }
   ],
   "source": [
    "arr = np.arange(2, 20, 3, dtype = np.float16)\n",
    "print(arr)\n",
    "print(arr.dtype)"
   ]
  },
  {
   "cell_type": "code",
   "execution_count": 27,
   "id": "50a9e1f0-a2f4-4c74-897f-eb647e559547",
   "metadata": {
    "tags": []
   },
   "outputs": [
    {
     "name": "stdout",
     "output_type": "stream",
     "text": [
      "[ 2.  5.  8. 11. 14. 17.]\n",
      "float32\n"
     ]
    }
   ],
   "source": [
    "arr = np.arange(2, 20, 3, dtype = 'f')\n",
    "print(arr)\n",
    "print(arr.dtype)"
   ]
  },
  {
   "cell_type": "code",
   "execution_count": 28,
   "id": "1e806e81-d6ab-4c57-a0a2-ca6f40496af2",
   "metadata": {
    "tags": []
   },
   "outputs": [
    {
     "name": "stdout",
     "output_type": "stream",
     "text": [
      "[ 2.  5.  8. 11. 14. 17.]\n",
      "float64\n"
     ]
    }
   ],
   "source": [
    "arr = np.arange(2, 20, 3, dtype = 'float')\n",
    "print(arr)\n",
    "print(arr.dtype)"
   ]
  },
  {
   "cell_type": "code",
   "execution_count": 29,
   "id": "3e6969d5-5214-415d-bf84-7f7ad1ba1cad",
   "metadata": {
    "tags": []
   },
   "outputs": [
    {
     "name": "stdout",
     "output_type": "stream",
     "text": [
      "[ 2.  5.  8. 11. 14. 17.]\n",
      "float32\n"
     ]
    }
   ],
   "source": [
    "arr = np.arange(2, 20, 3)\n",
    "n = np.float32(arr)\n",
    "print(n)\n",
    "print(n.dtype)"
   ]
  },
  {
   "cell_type": "code",
   "execution_count": 30,
   "id": "4248fb07-1390-48ef-ae79-c03c3585a361",
   "metadata": {
    "tags": []
   },
   "outputs": [
    {
     "name": "stdout",
     "output_type": "stream",
     "text": [
      "[ 2  6 11 15 20]\n",
      "int64\n"
     ]
    }
   ],
   "source": [
    "arr = np.linspace(2, 20, 5, dtype=np.int_)\n",
    "print(arr)\n",
    "print(arr.dtype)"
   ]
  },
  {
   "cell_type": "code",
   "execution_count": 31,
   "id": "fa0d121b-efb5-4fa1-8ce3-73c62c697fcc",
   "metadata": {
    "tags": []
   },
   "outputs": [
    {
     "name": "stdout",
     "output_type": "stream",
     "text": [
      "[ 2.   6.5 11.  15.5 20. ]\n",
      "float64\n",
      "[ 2  6 11 15 20]\n",
      "int64\n"
     ]
    }
   ],
   "source": [
    "arr = np.linspace(2, 20, 5)\n",
    "print(arr)\n",
    "print(arr.dtype)\n",
    "\n",
    "new_data = np.int_(arr)\n",
    "print(new_data)\n",
    "print(new_data.dtype)"
   ]
  },
  {
   "cell_type": "code",
   "execution_count": 32,
   "id": "aadc9335-860f-43fa-9a17-ed537c5f9ae5",
   "metadata": {
    "tags": []
   },
   "outputs": [
    {
     "name": "stdout",
     "output_type": "stream",
     "text": [
      "[[ 2  4  6]\n",
      " [ 8 10 12]\n",
      " [14 16 18]]\n",
      "\n",
      "\n",
      "[[ 2  4  6]\n",
      " [ 8 11 13]\n",
      " [15 17 20]]\n"
     ]
    }
   ],
   "source": [
    "arr = np.arange(2, 20, 2).reshape(3, 3)\n",
    "print(arr)\n",
    "print(\"\\n\")\n",
    "arr = np.linspace(2, 20, 9, dtype=np.int_).reshape(3, 3)\n",
    "print(arr)"
   ]
  },
  {
   "cell_type": "code",
   "execution_count": 33,
   "id": "7001e246-55b2-4f62-9c8d-994f8c5a78ee",
   "metadata": {
    "tags": []
   },
   "outputs": [
    {
     "name": "stdout",
     "output_type": "stream",
     "text": [
      "[1 2 3 4 5 6 7 8]\n",
      "int64\n",
      "\n",
      "\n",
      "[1. 2. 3. 4. 5. 6. 7. 8.]\n",
      "float64\n"
     ]
    }
   ],
   "source": [
    "arr = np.array([x for x in range(1, 9)], int)\n",
    "print(arr)\n",
    "print(arr.dtype)\n",
    "print(\"\\n\")\n",
    "x = arr.astype(float)\n",
    "print(x)\n",
    "print(x.dtype)\n"
   ]
  },
  {
   "cell_type": "markdown",
   "id": "1ff067a5-8003-4c0f-a600-67a2fc37a0d9",
   "metadata": {},
   "source": [
    "## **Arithmetic Operation on Arrays**\n",
    "- a+b : np.add(a, b)\n",
    "- a-b : np.subtract(a, b)\n",
    "- a*b : np.multiply(a, b)\n",
    "- a/b : np.divide(a, b)\n",
    "- a%b : np.mod(a, b)\n",
    "- a**b : np.power(a, b)\n",
    "- 1/a : np.reciprocal(a)"
   ]
  },
  {
   "cell_type": "code",
   "execution_count": 34,
   "id": "2be14f57-5f49-4d84-b4c6-3cf5e1bd932d",
   "metadata": {
    "tags": []
   },
   "outputs": [
    {
     "name": "stdout",
     "output_type": "stream",
     "text": [
      "[ 2  6 11 16 21 25 30 35 40]\n",
      "[ 5  9 14 19 24 28 33 38 43]\n",
      "\n",
      "\n",
      "[ 1  4  8 11 15 19 22 26 30]\n",
      "[  5  20  40  55  75  95 110 130 150]\n"
     ]
    }
   ],
   "source": [
    "a1 = np.linspace(2, 40, 9, dtype=np.int_)\n",
    "print(a1)\n",
    "a_sum = a1+3\n",
    "print(a_sum)\n",
    "print(\"\\n\")\n",
    "\n",
    "a2 = np.linspace(1, 30 , 9, dtype=np.int_)\n",
    "print(a2)\n",
    "a_sum = a2*5\n",
    "print(a_sum)\n"
   ]
  },
  {
   "cell_type": "code",
   "execution_count": 35,
   "id": "64bd9de4-d29e-4394-93c7-56a14bc23c07",
   "metadata": {
    "tags": []
   },
   "outputs": [
    {
     "name": "stdout",
     "output_type": "stream",
     "text": [
      "a1 =  [ 4 12 20 28 37 45 53 61 70]\n",
      "a2 =  [ 3  4  5  6  7  8  9 10 12]\n",
      "a1+a2 =  [ 7 16 25 34 44 53 62 71 82]\n",
      "a1-a2 =  [ 1  8 15 22 30 37 44 51 58]\n",
      "a1*a2 =  [ 12  48 100 168 259 360 477 610 840]\n",
      "a1//a2 =  [1 3 4 4 5 5 5 6 5]\n",
      "a1/a2 =  [1.33333333 3.         4.         4.66666667 5.28571429 5.625\n",
      " 5.88888889 6.1        5.83333333]\n",
      "a1%a2 =  [ 1  0  0  4  2  5  8  1 10]\n",
      "a1**a2 =  [                 64               20736             3200000\n",
      "           481890304         94931877133      16815125390625\n",
      "    3299763591802133  713342911662882601 6229145717836288000]\n"
     ]
    }
   ],
   "source": [
    "# arithmetic operation on array\n",
    "a1 = np.linspace(4, 70, 9, dtype=np.int_)\n",
    "print(\"a1 = \", a1)\n",
    "a2 = np.linspace(3, 12, 9, dtype=np.int_)\n",
    "print(\"a2 = \", a2)\n",
    "a3 = a1+a2\n",
    "print(\"a1+a2 = \", a3)\n",
    "a4 = a1-a2\n",
    "print(\"a1-a2 = \", a4)\n",
    "a5 = a1*a2\n",
    "print(\"a1*a2 = \", a5)\n",
    "a6 = a1//a2\n",
    "print(\"a1//a2 = \", a6)\n",
    "a7 = a1/a2\n",
    "print(\"a1/a2 = \", a7)\n",
    "a8 = a1%a2\n",
    "print(\"a1%a2 = \", a8)\n",
    "a9 = a1**a2\n",
    "print(\"a1**a2 = \", a9)"
   ]
  },
  {
   "cell_type": "markdown",
   "id": "bdb65c3a-2224-4346-a273-fa2a6050349f",
   "metadata": {},
   "source": [
    "### **Aarithmetic Operation using Functions**"
   ]
  },
  {
   "cell_type": "code",
   "execution_count": 36,
   "id": "b82fb41a-ec86-47dc-9c41-e12eeb164a27",
   "metadata": {
    "tags": []
   },
   "outputs": [
    {
     "name": "stdout",
     "output_type": "stream",
     "text": [
      "a1 =  [ 2 11 21 31 41 50 60 70 80]\n",
      "a2 =  [ 1  5 10 15 20 25 30 35 40]\n",
      "a1+a2 =  [  3  16  31  46  61  75  90 105 120]\n",
      "a1-a2 =  [ 1  6 11 16 21 25 30 35 40]\n",
      "a1*a2 =  [   2   55  210  465  820 1250 1800 2450 3200]\n",
      "a1/a2 =  [2.         2.2        2.1        2.06666667 2.05       2.\n",
      " 2.         2.         2.        ]\n",
      "a1%a2 =  [0 1 1 1 1 0 0 0 0]\n",
      "a1**a2 =  [                  2              161051      16679880978201\n",
      " 1003530086136274399 7757413047147151009  187601812243611648\n",
      " 1152921504606846976 2801405922193178624                   0]\n",
      "1/a1 =  [0 0 0 0 0 0 0 0 0]\n",
      "dot =  10252\n"
     ]
    }
   ],
   "source": [
    "# 1D array\n",
    "a1 = np.linspace(2, 80, 9, dtype=np.int_)\n",
    "print(\"a1 = \", a1)\n",
    "a2 = np.linspace(1, 40, 9, dtype=np.int_)\n",
    "print(\"a2 = \", a2)\n",
    "print(\"a1+a2 = \", np.add(a1, a2))\n",
    "print(\"a1-a2 = \", np.subtract(a1, a2))\n",
    "print(\"a1*a2 = \", np.multiply(a1, a2))\n",
    "print(\"a1/a2 = \", np.divide(a1, a2))\n",
    "print(\"a1%a2 = \", np.mod(a1, a2))\n",
    "print(\"a1**a2 = \", np.power(a1, a2))\n",
    "print(\"1/a1 = \", np.reciprocal(a1))\n",
    "print(\"dot = \", a1.dot(a2))\n"
   ]
  },
  {
   "cell_type": "code",
   "execution_count": 37,
   "id": "5abc71f3-248a-469a-888d-e0c238b63c7d",
   "metadata": {
    "tags": []
   },
   "outputs": [
    {
     "name": "stdout",
     "output_type": "stream",
     "text": [
      "v1 = \n",
      " [[ 3  5  7 10 12]\n",
      " [15 17 20 22 25]\n",
      " [27 30 32 35 37]\n",
      " [40 42 45 47 50]]\n",
      "v2 = \n",
      " [[ 2  3  4  5  6]\n",
      " [ 8  9 10 11 12]\n",
      " [14 15 16 17 18]\n",
      " [20 21 22 23 25]]\n",
      "\n",
      "\n",
      "v1+v2 = \n",
      " [[ 5  8 11 15 18]\n",
      " [23 26 30 33 37]\n",
      " [41 45 48 52 55]\n",
      " [60 63 67 70 75]]\n",
      "v1+v2 = \n",
      " [[ 5  8 11 15 18]\n",
      " [23 26 30 33 37]\n",
      " [41 45 48 52 55]\n",
      " [60 63 67 70 75]]\n",
      "\n",
      "\n",
      "v1-v2 = \n",
      " [[ 1  2  3  5  6]\n",
      " [ 7  8 10 11 13]\n",
      " [13 15 16 18 19]\n",
      " [20 21 23 24 25]]\n",
      "v1-v2 = \n",
      " [[ 1  2  3  5  6]\n",
      " [ 7  8 10 11 13]\n",
      " [13 15 16 18 19]\n",
      " [20 21 23 24 25]]\n",
      "\n",
      "\n",
      "v1*v2 = \n",
      " [[   6   15   28   50   72]\n",
      " [ 120  153  200  242  300]\n",
      " [ 378  450  512  595  666]\n",
      " [ 800  882  990 1081 1250]]\n",
      "v1*v2 = \n",
      " [[   6   15   28   50   72]\n",
      " [ 120  153  200  242  300]\n",
      " [ 378  450  512  595  666]\n",
      " [ 800  882  990 1081 1250]]\n",
      "\n",
      "\n",
      "v1/v2 = \n",
      " [[1.5        1.66666667 1.75       2.         2.        ]\n",
      " [1.875      1.88888889 2.         2.         2.08333333]\n",
      " [1.92857143 2.         2.         2.05882353 2.05555556]\n",
      " [2.         2.         2.04545455 2.04347826 2.        ]]\n",
      "v1/v2 = \n",
      " [[1.5        1.66666667 1.75       2.         2.        ]\n",
      " [1.875      1.88888889 2.         2.         2.08333333]\n",
      " [1.92857143 2.         2.         2.05882353 2.05555556]\n",
      " [2.         2.         2.04545455 2.04347826 2.        ]]\n",
      "\n",
      "\n",
      "v1%v2 = \n",
      " [[ 1  2  3  0  0]\n",
      " [ 7  8  0  0  1]\n",
      " [13  0  0  1  1]\n",
      " [ 0  0  1  1  0]]\n",
      "v1%v2 = \n",
      " [[ 1  2  3  0  0]\n",
      " [ 7  8  0  0  1]\n",
      " [13  0  0  1  1]\n",
      " [ 0  0  1  1  0]]\n",
      "\n",
      "\n",
      "v1**v2 = \n",
      " [[                   9                  125                 2401\n",
      "                100000              2985984]\n",
      " [          2562890625         118587876497       10240000000000\n",
      "       584318301411328    59604644775390625]\n",
      " [-1261475310744950487 -2659889346031157248                    0\n",
      "  -8247111717934116893 -4787111573351593703]\n",
      " [ 1152921504606846976 -6537385186737258496  8935724082269463737\n",
      "  -7600778221364400305   187601812243611648]]\n",
      "v1**v2 = \n",
      " [[                   9                  125                 2401\n",
      "                100000              2985984]\n",
      " [          2562890625         118587876497       10240000000000\n",
      "       584318301411328    59604644775390625]\n",
      " [-1261475310744950487 -2659889346031157248                    0\n",
      "  -8247111717934116893 -4787111573351593703]\n",
      " [ 1152921504606846976 -6537385186737258496  8935724082269463737\n",
      "  -7600778221364400305   187601812243611648]]\n"
     ]
    }
   ],
   "source": [
    "# 2D array\n",
    "v1 = np.linspace(3, 50, 20, dtype=np.int_).reshape(4, 5)\n",
    "print(\"v1 = \\n\", v1)\n",
    "v2 = np.linspace(2, 25, 20, dtype=np.int_).reshape(4, 5)\n",
    "print(\"v2 = \\n\", v2)\n",
    "print(\"\\n\")\n",
    "\n",
    "print(\"v1+v2 = \\n\", v1+v2) \n",
    "print(\"v1+v2 = \\n\", np.add(v1, v2))\n",
    "print(\"\\n\")\n",
    "\n",
    "print(\"v1-v2 = \\n\", v1-v2) \n",
    "print(\"v1-v2 = \\n\", np.subtract(v1, v2))\n",
    "print(\"\\n\")\n",
    "\n",
    "print(\"v1*v2 = \\n\", v1*v2) \n",
    "print(\"v1*v2 = \\n\", np.multiply(v1, v2))\n",
    "print(\"\\n\")\n",
    "\n",
    "print(\"v1/v2 = \\n\", v1/v2) \n",
    "print(\"v1/v2 = \\n\", np.divide(v1, v2))\n",
    "print(\"\\n\")\n",
    "\n",
    "print(\"v1%v2 = \\n\", v1%v2) \n",
    "print(\"v1%v2 = \\n\", np.mod(v1, v2))\n",
    "print(\"\\n\")\n",
    "\n",
    "print(\"v1**v2 = \\n\", v1**v2)\n",
    "print(\"v1**v2 = \\n\", np.power(v1, v2))\n"
   ]
  },
  {
   "cell_type": "code",
   "execution_count": 38,
   "id": "1b36427a-6053-4368-b9c7-157bc2086065",
   "metadata": {
    "tags": []
   },
   "outputs": [
    {
     "name": "stdout",
     "output_type": "stream",
     "text": [
      "v1 = \n",
      " [[ 3  5  7 10 12]\n",
      " [15 17 20 22 25]\n",
      " [27 30 32 35 37]\n",
      " [40 42 45 47 50]]\n",
      "v2 = \n",
      " [[ 2  3  4  5]\n",
      " [ 6  8  9 10]\n",
      " [11 12 14 15]\n",
      " [16 17 18 20]\n",
      " [21 22 23 25]]\n",
      "\n",
      "\n",
      "dot = \n",
      "[[ 525  567  611  670]\n",
      " [1229 1345 1464 1610]\n",
      " [1923 2114 2307 2540]\n",
      " [2629 2895 3164 3485]]\n"
     ]
    }
   ],
   "source": [
    "v1 = np.linspace(3, 50, 20, dtype=np.int_).reshape(4, 5)\n",
    "print(\"v1 = \\n\", v1)\n",
    "v2 = np.linspace(2, 25, 20, dtype=np.int_).reshape(5, 4)\n",
    "print(\"v2 = \\n\", v2)\n",
    "print(\"\\n\")\n",
    "adot = v1.dot(v2)\n",
    "print(\"dot = \")\n",
    "print(adot)"
   ]
  },
  {
   "cell_type": "markdown",
   "id": "50092955-054f-4930-8f7b-577cd713cb00",
   "metadata": {},
   "source": [
    "## **Arithmetic Functions in NumPy Arrays**\n",
    "- **np.min(x),    np.min(x, axis=0)** # axis=0 for column\n",
    "- **np.max(x),    np.max(x, axis=1)** # axis=1 for rows\n",
    "- **np.argmin(x)** : *return index number of min*,   np.argmin(x, axis=0) # axis=0 for column\n",
    "- **np.argmax(x)** : *return index number of max*,   np.argman(x, axis=1) # axis=1 for rows\n",
    "- **np.sqrt(x)**\n",
    "- **np.sin(x)**\n",
    "- **np.cos(x)**\n",
    "- **np.cumsum(x)** # add the result of previous one and make next element\n",
    "- **a.dot(b)**"
   ]
  },
  {
   "cell_type": "code",
   "execution_count": 39,
   "id": "78d88e85-ca4d-43ca-a403-98c254ca6643",
   "metadata": {
    "tags": []
   },
   "outputs": [
    {
     "name": "stdout",
     "output_type": "stream",
     "text": [
      "[[34 11 56 58 65]\n",
      " [51 89 10 78 27]\n",
      " [33 86 62 58 68]\n",
      " [27 70 80 21 60]]\n",
      "(4, 5)\n",
      "10 7\n",
      "89 6\n"
     ]
    }
   ],
   "source": [
    "arr = np.random.randint(10, 90, (4, 5))\n",
    "print(arr)\n",
    "print(arr.shape)\n",
    "print(np.min(arr), np.argmin(arr))\n",
    "print(np.max(arr), np.argmax(arr))\n"
   ]
  },
  {
   "cell_type": "code",
   "execution_count": 40,
   "id": "1d18923b-9bef-4b28-8235-89299fd05e7e",
   "metadata": {
    "tags": []
   },
   "outputs": [
    {
     "name": "stdout",
     "output_type": "stream",
     "text": [
      "[[46 46 44 51]\n",
      " [80 54 25 80]\n",
      " [29 85 52 83]\n",
      " [52 60 69 76]\n",
      " [49 56 19 34]]\n",
      "(5, 4)\n",
      "min and max values along columns : \n",
      "min :  [29 46 19 34] [2 0 4 4]\n",
      "max :  [80 85 69 83] [1 2 3 2]\n",
      "min and max values along rows : \n",
      "min :  [44 25 29 52 19] [2 2 0 0 2]\n",
      "max :  [51 80 85 76 56] [3 0 1 3 1]\n",
      "sqrt : \n",
      "[[6.78232998 6.78232998 6.63324958 7.14142843]\n",
      " [8.94427191 7.34846923 5.         8.94427191]\n",
      " [5.38516481 9.21954446 7.21110255 9.11043358]\n",
      " [7.21110255 7.74596669 8.30662386 8.71779789]\n",
      " [7.         7.48331477 4.35889894 5.83095189]]\n",
      "sin : \n",
      "[[ 0.90178835  0.90178835  0.01770193  0.67022918]\n",
      " [-0.99388865 -0.55878905 -0.13235175 -0.99388865]\n",
      " [-0.66363388 -0.17607562  0.98662759  0.96836446]\n",
      " [ 0.98662759 -0.30481062 -0.11478481  0.56610764]\n",
      " [-0.95375265 -0.521551    0.14987721  0.52908269]]\n",
      "cos : \n",
      "[[-0.43217794 -0.43217794  0.99984331  0.7421542 ]\n",
      " [-0.11038724 -0.82930983  0.99120281 -0.11038724]\n",
      " [-0.74805753 -0.98437664 -0.16299078  0.24954012]\n",
      " [-0.16299078 -0.95241298  0.99339038  0.82433133]\n",
      " [ 0.30059254  0.85322011  0.98870462 -0.84857027]]\n",
      "cumsum : \n",
      "[  46   92  136  187  267  321  346  426  455  540  592  675  727  787\n",
      "  856  932  981 1037 1056 1090]\n",
      "arr1 : \n",
      " [[46 46 44 51]\n",
      " [80 54 25 80]\n",
      " [29 85 52 83]\n",
      " [52 60 69 76]\n",
      " [49 56 19 34]]\n",
      "arr2 : \n",
      " [[39 53 49 52 43]\n",
      " [88 86 57 18 62]\n",
      " [72 32 26 82 14]\n",
      " [53 18 75 79 70]]\n",
      "dot arr : \n",
      " [[11713  8720  9845 10857  9016]\n",
      " [13912 11124 13648 13502 12738]\n",
      " [16754 12005 13843 13859 13055]\n",
      " [16304 11492 13462 15446 12242]\n",
      " [10009  8633  8637  7800  8225]]\n"
     ]
    }
   ],
   "source": [
    "arr = np.random.randint(10, 90, (5, 4))\n",
    "print(arr)\n",
    "print(arr.shape)\n",
    "print(\"min and max values along columns : \")\n",
    "print(\"min : \", np.min(arr, axis=0), np.argmin(arr, axis=0)) # axis=0 for column\n",
    "print(\"max : \", np.max(arr, axis=0), np.argmax(arr, axis=0)) \n",
    "print(\"min and max values along rows : \")\n",
    "print(\"min : \", np.min(arr, axis=1), np.argmin(arr, axis=1)) # axis=1 for rows\n",
    "print(\"max : \", np.max(arr, axis=1), np.argmax(arr, axis=1))\n",
    "print(\"sqrt : \")\n",
    "print(np.sqrt(arr))\n",
    "print(\"sin : \")\n",
    "print(np.sin(arr))\n",
    "print(\"cos : \")\n",
    "print(np.cos(arr))\n",
    "print(\"cumsum : \")\n",
    "print(np.cumsum(arr))\n",
    "\n",
    "arr1 = arr\n",
    "arr2 = np.random.randint(10, 90, (4, 5))\n",
    "print(\"arr1 : \\n\", arr1)\n",
    "print(\"arr2 : \\n\", arr2)\n",
    "arr = arr1.dot(arr2)\n",
    "print(\"dot arr : \\n\", arr)\n"
   ]
  },
  {
   "cell_type": "code",
   "execution_count": 41,
   "id": "ef9532b3-41ce-4b78-854f-4fe788b3adb6",
   "metadata": {
    "tags": []
   },
   "outputs": [
    {
     "name": "stdout",
     "output_type": "stream",
     "text": [
      "arr :  [1 2 3 4 5 6 7 8]\n",
      "cumsum :  [ 1  3  6 10 15 21 28 36]\n"
     ]
    }
   ],
   "source": [
    "arr = np.arange(1, 9)\n",
    "print(\"arr : \", arr)\n",
    "print(\"cumsum : \", np.cumsum(arr))"
   ]
  },
  {
   "cell_type": "markdown",
   "id": "c02bb57a-4ec7-45c2-beca-61f3d9c8728e",
   "metadata": {},
   "source": [
    "## **shape & reshape**"
   ]
  },
  {
   "cell_type": "code",
   "execution_count": 42,
   "id": "966697bf-cc2e-4489-8303-a468ceec4576",
   "metadata": {
    "tags": []
   },
   "outputs": [
    {
     "name": "stdout",
     "output_type": "stream",
     "text": [
      "arr : \n",
      " [[ 1  2  3  4  5]\n",
      " [ 2  4  6  8 10]]\n",
      "shape :  (2, 5)\n",
      "arr :  [[[[1 2 3 4 5 6 7 8 9]]]]\n",
      "(1, 1, 1, 9)\n",
      "arr : \n",
      " [[1 2 3]\n",
      " [4 5 6]\n",
      " [7 8 9]]\n",
      "(3, 3)\n",
      "arr : \n",
      " [[1 2 3 4 5 6 7 8 9]]\n",
      "arr : \n",
      " [[1]\n",
      " [2]\n",
      " [3]\n",
      " [4]\n",
      " [5]\n",
      " [6]\n",
      " [7]\n",
      " [8]\n",
      " [9]]\n"
     ]
    }
   ],
   "source": [
    "arr = np.array([[x for x in range(1, 6)], [y for y in range(2, 11, 2)]])\n",
    "print(\"arr : \\n\", arr)\n",
    "print(\"shape : \", arr.shape)\n",
    "\n",
    "arr = np.array([x for x in range(1, 10, 1)], ndmin=4)\n",
    "print(\"arr : \", arr)\n",
    "print(arr.shape)\n",
    "\n",
    "arr = np.array([x for x in range(1, 10, 1)]).reshape(3, 3)\n",
    "print(\"arr : \\n\", arr)\n",
    "print(arr.shape)\n",
    "print(\"arr : \\n\", arr.reshape(1, 9))\n",
    "print(\"arr : \\n\", arr.reshape(9, 1))"
   ]
  },
  {
   "cell_type": "code",
   "execution_count": 43,
   "id": "7d35602e-8084-4746-b934-205dea84b645",
   "metadata": {
    "tags": []
   },
   "outputs": [
    {
     "name": "stdout",
     "output_type": "stream",
     "text": [
      "arr : \n",
      " [[75 21 11 55 85 51 13]\n",
      " [34 68 53 80 88 56 27]\n",
      " [61 36 54 26 14 83 68]\n",
      " [84 13 68 26 47 31 76]\n",
      " [70 89 51 17 38 83 65]\n",
      " [10 74 47 25 85 46 76]]\n",
      "(6, 7)\n",
      "2\n",
      "arr : \n",
      " [[75 21 11 55 85 51 13 34 68 53 80 88 56 27]\n",
      " [61 36 54 26 14 83 68 84 13 68 26 47 31 76]\n",
      " [70 89 51 17 38 83 65 10 74 47 25 85 46 76]]\n",
      "(3, 14)\n",
      "2\n",
      "arr : \n",
      " [[[75 21]\n",
      "  [11 55]\n",
      "  [85 51]]\n",
      "\n",
      " [[13 34]\n",
      "  [68 53]\n",
      "  [80 88]]\n",
      "\n",
      " [[56 27]\n",
      "  [61 36]\n",
      "  [54 26]]\n",
      "\n",
      " [[14 83]\n",
      "  [68 84]\n",
      "  [13 68]]\n",
      "\n",
      " [[26 47]\n",
      "  [31 76]\n",
      "  [70 89]]\n",
      "\n",
      " [[51 17]\n",
      "  [38 83]\n",
      "  [65 10]]\n",
      "\n",
      " [[74 47]\n",
      "  [25 85]\n",
      "  [46 76]]]\n",
      "(7, 3, 2)\n",
      "3\n",
      "arr :  [75 21 11 55 85 51 13 34 68 53 80 88 56 27 61 36 54 26 14 83 68 84 13 68\n",
      " 26 47 31 76 70 89 51 17 38 83 65 10 74 47 25 85 46 76]\n",
      "(42,)\n",
      "1\n"
     ]
    }
   ],
   "source": [
    "arr = np.random.randint(10, 90, (6, 7))\n",
    "print(\"arr : \\n\", arr)\n",
    "print(arr.shape)\n",
    "print(arr.ndim)\n",
    "\n",
    "arr = arr.reshape(3, 14)\n",
    "print(\"arr : \\n\", arr)\n",
    "print(arr.shape)\n",
    "print(arr.ndim)\n",
    "\n",
    "arr = arr.reshape(7, 3, 2)\n",
    "print(\"arr : \\n\", arr)\n",
    "print(arr.shape)\n",
    "print(arr.ndim)\n",
    "\n",
    "arr = arr.reshape(-1) # convert it into 1D array\n",
    "print(\"arr : \", arr)\n",
    "print(arr.shape)\n",
    "print(arr.ndim)"
   ]
  },
  {
   "cell_type": "code",
   "execution_count": 44,
   "id": "518aa812-9e3b-4445-9b32-f5cc004438b9",
   "metadata": {
    "tags": []
   },
   "outputs": [
    {
     "name": "stdout",
     "output_type": "stream",
     "text": [
      "arr : \n",
      " [[[66 10 22 81]\n",
      "  [21 64 82 24]\n",
      "  [68 58 20 19]]\n",
      "\n",
      " [[19 71 39 89]\n",
      "  [11 83 22 44]\n",
      "  [37 21 30 89]]]\n",
      "(2, 3, 4)\n",
      "3\n",
      "arr : \n",
      " [[66 10 22 81]\n",
      " [21 64 82 24]\n",
      " [68 58 20 19]\n",
      " [19 71 39 89]\n",
      " [11 83 22 44]\n",
      " [37 21 30 89]]\n",
      "arr :  [66 10 22 81 21 64 82 24 68 58 20 19 19 71 39 89 11 83 22 44 37 21 30 89]\n"
     ]
    }
   ],
   "source": [
    "arr = np.random.randint(10, 90, (2, 3, 4))\n",
    "print(\"arr : \\n\", arr)\n",
    "print(arr.shape)\n",
    "print(arr.ndim)\n",
    "arr = arr.reshape(6, 4)\n",
    "print(\"arr : \\n\", arr)\n",
    "arr = arr.reshape(-1)\n",
    "print(\"arr : \", arr)"
   ]
  },
  {
   "cell_type": "code",
   "execution_count": 45,
   "id": "a574fdfe-beee-4b9a-a798-573745420405",
   "metadata": {
    "tags": []
   },
   "outputs": [
    {
     "name": "stdout",
     "output_type": "stream",
     "text": [
      "arr : \n",
      " [[64 86 81 61]\n",
      " [45 32 14 36]\n",
      " [73 23 35 77]\n",
      " [46 73 66 70]\n",
      " [40 34 82 79]\n",
      " [80 29 70 79]]\n",
      "(6, 4)\n",
      "2\n",
      "arr : \n",
      " [[[64 86 81]\n",
      "  [61 45 32]]\n",
      "\n",
      " [[14 36 73]\n",
      "  [23 35 77]]\n",
      "\n",
      " [[46 73 66]\n",
      "  [70 40 34]]\n",
      "\n",
      " [[82 79 80]\n",
      "  [29 70 79]]]\n",
      "(4, 2, 3)\n",
      "3\n",
      "arr : \n",
      " [[[64 86 81 61]\n",
      "  [45 32 14 36]]\n",
      "\n",
      " [[73 23 35 77]\n",
      "  [46 73 66 70]]\n",
      "\n",
      " [[40 34 82 79]\n",
      "  [80 29 70 79]]]\n",
      "(3, 2, 4)\n",
      "3\n",
      "arr : \n",
      " [64 86 81 61 45 32 14 36 73 23 35 77 46 73 66 70 40 34 82 79 80 29 70 79]\n",
      "(24,)\n",
      "1\n"
     ]
    }
   ],
   "source": [
    "arr = np.random.randint(10, 90, (6, 4))\n",
    "print(\"arr : \\n\", arr)\n",
    "print(arr.shape)\n",
    "print(arr.ndim)\n",
    "\n",
    "arr = arr.reshape(4, 2, 3)\n",
    "print(\"arr : \\n\", arr)\n",
    "print(arr.shape)\n",
    "print(arr.ndim)\n",
    "\n",
    "arr = arr.reshape(3, 2, 4)\n",
    "print(\"arr : \\n\", arr)\n",
    "print(arr.shape)\n",
    "print(arr.ndim)\n",
    "\n",
    "arr = arr.reshape(-1)\n",
    "print(\"arr : \\n\", arr)\n",
    "print(arr.shape)\n",
    "print(arr.ndim)\n"
   ]
  },
  {
   "cell_type": "code",
   "execution_count": 46,
   "id": "2168d990-97c5-4df0-a773-a2c7f2198966",
   "metadata": {
    "tags": []
   },
   "outputs": [
    {
     "name": "stdout",
     "output_type": "stream",
     "text": [
      "[[1 2 3]\n",
      " [4 5 6]\n",
      " [7 8 9]]\n",
      "[[ 2  4  6]\n",
      " [ 8 10 12]\n",
      " [14 16 18]]\n",
      "[[ 60  72  84]\n",
      " [132 162 192]\n",
      " [204 252 300]]\n"
     ]
    }
   ],
   "source": [
    "a = np.arange(1, 10, 1).reshape(3, 3)\n",
    "print(a)\n",
    "b = np.arange(2, 20, 2).reshape(3, 3)\n",
    "print(b)\n",
    "print(np.dot(a, b))\n"
   ]
  },
  {
   "cell_type": "markdown",
   "id": "57eddd80-5731-48f1-a4be-03ef7fe477ba",
   "metadata": {},
   "source": [
    "## **Broadcasting NumPy Array**\n",
    "- Same Dimension\n",
    "- Any Condition : *A(1xn) + B(nx1) or A(1xn) + B(nxn) or A(nx1) + B(nxn)*\n",
    "                                "
   ]
  },
  {
   "cell_type": "code",
   "execution_count": 47,
   "id": "9868d100-c3d3-41b9-9c2d-5f22cbea0880",
   "metadata": {
    "tags": []
   },
   "outputs": [
    {
     "name": "stdout",
     "output_type": "stream",
     "text": [
      "a : \n",
      " [[7 5 8]]\n",
      "\n",
      "b : \n",
      " [[2]\n",
      " [3]\n",
      " [1]]\n",
      "\n",
      "c : \n",
      " [[ 9  7 10]\n",
      " [10  8 11]\n",
      " [ 8  6  9]]\n",
      "\n"
     ]
    }
   ],
   "source": [
    "a = np.random.randint(1, 9, (1, 3))\n",
    "print(\"a : \\n\", a)\n",
    "print()\n",
    "b = np.random.randint(1, 9, (3, 1))\n",
    "print(\"b : \\n\", b)\n",
    "print()\n",
    "# we know matrix a(1x3) and b(3x1) row=column so c = a+b and c(3x3)\n",
    "c = a+b\n",
    "print(\"c : \\n\", c)\n",
    "print()\n"
   ]
  },
  {
   "cell_type": "code",
   "execution_count": 48,
   "id": "e11f1bcd-e623-4d77-be0f-26d62d4209e9",
   "metadata": {
    "tags": []
   },
   "outputs": [
    {
     "name": "stdout",
     "output_type": "stream",
     "text": [
      "a : \n",
      " [[6 4 5]]\n",
      "\n",
      "b : \n",
      " [[1 1 2]\n",
      " [1 2 5]\n",
      " [4 1 2]]\n",
      "\n",
      "c : \n",
      " [[ 7  5  7]\n",
      " [ 7  6 10]\n",
      " [10  5  7]]\n",
      "\n"
     ]
    }
   ],
   "source": [
    "a = np.random.randint(1, 9, (1, 3))\n",
    "print(\"a : \\n\", a)\n",
    "print()\n",
    "b = np.random.randint(1, 9, (3, 3))\n",
    "print(\"b : \\n\", b)\n",
    "print()\n",
    "c = a+b\n",
    "print(\"c : \\n\", c)\n",
    "print()\n"
   ]
  },
  {
   "cell_type": "code",
   "execution_count": 49,
   "id": "6bd9e461-69c5-4b09-ad28-85f53bad3687",
   "metadata": {
    "tags": []
   },
   "outputs": [
    {
     "name": "stdout",
     "output_type": "stream",
     "text": [
      "a : \n",
      " [[3]\n",
      " [8]\n",
      " [6]]\n",
      "\n",
      "b : \n",
      " [[5 1 6]\n",
      " [8 1 1]\n",
      " [4 2 3]]\n",
      "\n",
      "c : \n",
      " [[ 8  4  9]\n",
      " [16  9  9]\n",
      " [10  8  9]]\n",
      "\n"
     ]
    }
   ],
   "source": [
    "a = np.random.randint(1, 9, (3, 1))\n",
    "print(\"a : \\n\", a)\n",
    "print()\n",
    "b = np.random.randint(1, 9, (3, 3))\n",
    "print(\"b : \\n\", b)\n",
    "print()\n",
    "c = a+b\n",
    "print(\"c : \\n\", c)\n",
    "print()"
   ]
  },
  {
   "cell_type": "code",
   "execution_count": 50,
   "id": "f131b1cc-63ac-4336-a92b-5c92e59a5a64",
   "metadata": {
    "tags": []
   },
   "outputs": [
    {
     "name": "stdout",
     "output_type": "stream",
     "text": [
      "a : \n",
      " [[1]\n",
      " [4]\n",
      " [2]]\n",
      "\n",
      "b : \n",
      " [[8 5 1 6 5 5 6]\n",
      " [2 8 5 5 8 3 2]\n",
      " [6 8 1 3 7 3 5]]\n",
      "\n",
      "c : \n",
      " [[ 9  6  2  7  6  6  7]\n",
      " [ 6 12  9  9 12  7  6]\n",
      " [ 8 10  3  5  9  5  7]]\n",
      "\n"
     ]
    }
   ],
   "source": [
    "a = np.random.randint(1, 9, (3, 1))\n",
    "print(\"a : \\n\", a)\n",
    "print()\n",
    "b = np.random.randint(1, 9, (3, 7))\n",
    "print(\"b : \\n\", b)\n",
    "print()\n",
    "c = a+b\n",
    "print(\"c : \\n\", c)\n",
    "print()"
   ]
  },
  {
   "cell_type": "code",
   "execution_count": 51,
   "id": "82729102-a5ef-4954-8e73-0a748b256db4",
   "metadata": {},
   "outputs": [
    {
     "name": "stdout",
     "output_type": "stream",
     "text": [
      "a : \n",
      " [[8 6 6 7]]\n",
      "\n",
      "b : \n",
      " [[8 4 1 2]\n",
      " [3 4 5 6]\n",
      " [2 1 4 6]]\n",
      "\n",
      "c : \n",
      " [[16 10  7  9]\n",
      " [11 10 11 13]\n",
      " [10  7 10 13]]\n",
      "\n"
     ]
    }
   ],
   "source": [
    "a = np.random.randint(1, 9, (1, 4))\n",
    "print(\"a : \\n\", a)\n",
    "print()\n",
    "b = np.random.randint(1, 9, (3, 4))\n",
    "print(\"b : \\n\", b)\n",
    "print()\n",
    "c = a+b\n",
    "print(\"c : \\n\", c)\n",
    "print()"
   ]
  },
  {
   "cell_type": "markdown",
   "id": "82e774c9-2e96-4317-bdae-29797fb6c23a",
   "metadata": {},
   "source": [
    "## **Indexing & Slicing in NumPy Arrays**\n",
    "- **arr_name[** _start_ **:** _end_ **:** _step_ **]** \\\n",
    "    _start_, _end_, _step_ could be +ve -ve anything\n",
    "- Positive indexing and Negative indexing both posible like list\n",
    "- Excluding the last value like in list"
   ]
  },
  {
   "cell_type": "code",
   "execution_count": 52,
   "id": "02c704c2-4840-4411-abae-b0b2ab9a2955",
   "metadata": {},
   "outputs": [
    {
     "name": "stdout",
     "output_type": "stream",
     "text": [
      "[ 0  1  2  3  4  5  6  7  8  9 10 11 12 13]\n",
      "[ 3  6  9 12 15 18 21 24 27 30 33 36 39 42]\n",
      "1\n",
      "(14,)\n",
      "\n",
      "15\n",
      "[ 9 12 15 18]\n",
      "[ 3  9 15 21 27 33 39]\n",
      "[ 3  6  9 12 15 18 21 24 27 30 33 36 39 42]\n",
      "[ 3  9 15 21 27]\n",
      "[36 33 30 27 24 21 18 15 12]\n",
      "[ 9 18 27 36]\n",
      "[ 3 12 21 30 39]\n",
      "======================================\n",
      "42\n",
      "[15 18 21 24 27]\n",
      "[15 21 27]\n",
      "[42 39 36 33 30 27 24 21 18 15 12  9  6  3]\n",
      "[42 36 30 24 18 12  6]\n",
      "[42 33 24 15  6]\n",
      "[39 36 33 30 27 24 21 18 15 12]\n",
      "[39 33 27 21 15]\n",
      "[39 36 33 30 27 24 21 18 15 12]\n"
     ]
    }
   ],
   "source": [
    "idx = np.array([x for x in range(0, 14)])\n",
    "print(idx)\n",
    "arr = np.array([x*3 for x in range(1, 15)])\n",
    "print(arr)\n",
    "print(arr.ndim)\n",
    "print(arr.shape)\n",
    "print()\n",
    "\n",
    "print(arr[4])\n",
    "print(arr[2:6])\n",
    "print(arr[::2])\n",
    "print(arr[::1])\n",
    "print(arr[0:10:2])\n",
    "print(arr[11:2:-1])\n",
    "print(arr[2::3])\n",
    "print(arr[::3])\n",
    "\n",
    "print(\"======================================\")\n",
    "\n",
    "print(arr[-1])\n",
    "print(arr[-10:-5])\n",
    "print(arr[-10:-5:2])\n",
    "print(arr[::-1])\n",
    "print(arr[::-2])\n",
    "print(arr[::-3])\n",
    "print(arr[12:2:-1])\n",
    "print(arr[12:2:-2])\n",
    "print(arr[-2:-12:-1])"
   ]
  },
  {
   "cell_type": "code",
   "execution_count": 53,
   "id": "08270d46-c0e1-4ccf-a49d-2ad6076a5ddb",
   "metadata": {
    "tags": []
   },
   "outputs": [
    {
     "name": "stdout",
     "output_type": "stream",
     "text": [
      "[[[79 48 42 73 70 29]\n",
      "  [24 79 86 45 79 23]\n",
      "  [72 41 23 71 34 69]\n",
      "  [15 15 61 53 33 52]\n",
      "  [18 12 83 52 50 19]\n",
      "  [38 36 21 66 15 70]\n",
      "  [31 79 81 83 42 70]]\n",
      "\n",
      " [[54 81 71 53 85 79]\n",
      "  [72 16 11 49 14 14]\n",
      "  [33 10 48 37 76 50]\n",
      "  [48 60 72 12 44 89]\n",
      "  [86 57 25 79 22 51]\n",
      "  [15 52 70 45 29 65]\n",
      "  [88 30 41 19 13 80]]\n",
      "\n",
      " [[29 15 31 58 10 71]\n",
      "  [55 32 74 58 39 61]\n",
      "  [12 52 75 23 16 52]\n",
      "  [53 68 82 71 81 87]\n",
      "  [74 69 82 82 49 69]\n",
      "  [17 54 85 58 39 75]\n",
      "  [27 44 28 50 13 89]]\n",
      "\n",
      " [[25 27 22 40 69 82]\n",
      "  [47 55 26 67 61 40]\n",
      "  [55 15 32 38 19 19]\n",
      "  [77 29 22 38 14 10]\n",
      "  [12 29 61 13 17 77]\n",
      "  [21 17 11 38 66 84]\n",
      "  [20 11 79 26 84 10]]\n",
      "\n",
      " [[39 51 27 67 29 28]\n",
      "  [37 88 51 64 40 56]\n",
      "  [52 38 62 71 28 63]\n",
      "  [76 21 54 79 19 55]\n",
      "  [58 67 47 28 86 86]\n",
      "  [24 69 38 52 30 65]\n",
      "  [39 63 51 20 13 66]]\n",
      "\n",
      " [[88 55 45 85 42 38]\n",
      "  [68 43 74 54 73 59]\n",
      "  [17 32 16 67 67 83]\n",
      "  [81 55 60 47 31 23]\n",
      "  [26 23 46 38 74 47]\n",
      "  [42 47 66 28 64 65]\n",
      "  [20 80 83 80 56 77]]\n",
      "\n",
      " [[42 38 47 13 59 78]\n",
      "  [69 24 41 53 46 22]\n",
      "  [54 16 30 58 81 40]\n",
      "  [78 23 18 54 15 30]\n",
      "  [30 30 34 42 72 42]\n",
      "  [20 36 68 44 64 24]\n",
      "  [39 18 79 38 28 20]]\n",
      "\n",
      " [[34 75 14 38 88 57]\n",
      "  [76 61 29 77 51 55]\n",
      "  [48 59 59 27 38 27]\n",
      "  [45 19 79 15 13 17]\n",
      "  [60 58 20 25 27 81]\n",
      "  [48 85 69 49 51 34]\n",
      "  [19 23 36 84 37 38]]]\n",
      "3\n",
      "(8, 7, 6)\n",
      "\n",
      "[[29 15 31 58 10 71]\n",
      " [55 32 74 58 39 61]\n",
      " [12 52 75 23 16 52]\n",
      " [53 68 82 71 81 87]\n",
      " [74 69 82 82 49 69]\n",
      " [17 54 85 58 39 75]\n",
      " [27 44 28 50 13 89]]\n",
      "\n",
      "[53 68 82 71 81 87]\n",
      "\n",
      "68\n",
      "\n",
      "Slicing : \n",
      "[[[29 15 31 58 10 71]\n",
      "  [55 32 74 58 39 61]\n",
      "  [12 52 75 23 16 52]\n",
      "  [53 68 82 71 81 87]\n",
      "  [74 69 82 82 49 69]\n",
      "  [17 54 85 58 39 75]\n",
      "  [27 44 28 50 13 89]]\n",
      "\n",
      " [[25 27 22 40 69 82]\n",
      "  [47 55 26 67 61 40]\n",
      "  [55 15 32 38 19 19]\n",
      "  [77 29 22 38 14 10]\n",
      "  [12 29 61 13 17 77]\n",
      "  [21 17 11 38 66 84]\n",
      "  [20 11 79 26 84 10]]\n",
      "\n",
      " [[39 51 27 67 29 28]\n",
      "  [37 88 51 64 40 56]\n",
      "  [52 38 62 71 28 63]\n",
      "  [76 21 54 79 19 55]\n",
      "  [58 67 47 28 86 86]\n",
      "  [24 69 38 52 30 65]\n",
      "  [39 63 51 20 13 66]]\n",
      "\n",
      " [[88 55 45 85 42 38]\n",
      "  [68 43 74 54 73 59]\n",
      "  [17 32 16 67 67 83]\n",
      "  [81 55 60 47 31 23]\n",
      "  [26 23 46 38 74 47]\n",
      "  [42 47 66 28 64 65]\n",
      "  [20 80 83 80 56 77]]]\n",
      "\n",
      "------------------------\n",
      "[[39 51 27 67 29 28]\n",
      " [37 88 51 64 40 56]\n",
      " [52 38 62 71 28 63]\n",
      " [76 21 54 79 19 55]\n",
      " [58 67 47 28 86 86]\n",
      " [24 69 38 52 30 65]\n",
      " [39 63 51 20 13 66]]\n",
      "\n",
      "------------------------\n",
      "[[52 38 62 71 28 63]\n",
      " [76 21 54 79 19 55]\n",
      " [58 67 47 28 86 86]]\n",
      "\n",
      "------------------------\n",
      "[76 21 54 79 19 55]\n",
      "\n",
      "------------------------\n",
      "[21 54 79]\n",
      "\n",
      "------------------------\n",
      "[[[25 27 22 40 69 82]\n",
      "  [47 55 26 67 61 40]\n",
      "  [55 15 32 38 19 19]\n",
      "  [77 29 22 38 14 10]\n",
      "  [12 29 61 13 17 77]\n",
      "  [21 17 11 38 66 84]\n",
      "  [20 11 79 26 84 10]]\n",
      "\n",
      " [[39 51 27 67 29 28]\n",
      "  [37 88 51 64 40 56]\n",
      "  [52 38 62 71 28 63]\n",
      "  [76 21 54 79 19 55]\n",
      "  [58 67 47 28 86 86]\n",
      "  [24 69 38 52 30 65]\n",
      "  [39 63 51 20 13 66]]\n",
      "\n",
      " [[88 55 45 85 42 38]\n",
      "  [68 43 74 54 73 59]\n",
      "  [17 32 16 67 67 83]\n",
      "  [81 55 60 47 31 23]\n",
      "  [26 23 46 38 74 47]\n",
      "  [42 47 66 28 64 65]\n",
      "  [20 80 83 80 56 77]]\n",
      "\n",
      " [[42 38 47 13 59 78]\n",
      "  [69 24 41 53 46 22]\n",
      "  [54 16 30 58 81 40]\n",
      "  [78 23 18 54 15 30]\n",
      "  [30 30 34 42 72 42]\n",
      "  [20 36 68 44 64 24]\n",
      "  [39 18 79 38 28 20]]\n",
      "\n",
      " [[34 75 14 38 88 57]\n",
      "  [76 61 29 77 51 55]\n",
      "  [48 59 59 27 38 27]\n",
      "  [45 19 79 15 13 17]\n",
      "  [60 58 20 25 27 81]\n",
      "  [48 85 69 49 51 34]\n",
      "  [19 23 36 84 37 38]]]\n",
      "------------------------\n",
      "[[39 51 27 67 29 28]\n",
      " [37 88 51 64 40 56]\n",
      " [52 38 62 71 28 63]\n",
      " [76 21 54 79 19 55]]\n",
      "------------------------\n",
      "[[[79 48 42 73 70 29]\n",
      "  [24 79 86 45 79 23]\n",
      "  [72 41 23 71 34 69]\n",
      "  [15 15 61 53 33 52]\n",
      "  [18 12 83 52 50 19]\n",
      "  [38 36 21 66 15 70]\n",
      "  [31 79 81 83 42 70]]\n",
      "\n",
      " [[29 15 31 58 10 71]\n",
      "  [55 32 74 58 39 61]\n",
      "  [12 52 75 23 16 52]\n",
      "  [53 68 82 71 81 87]\n",
      "  [74 69 82 82 49 69]\n",
      "  [17 54 85 58 39 75]\n",
      "  [27 44 28 50 13 89]]\n",
      "\n",
      " [[39 51 27 67 29 28]\n",
      "  [37 88 51 64 40 56]\n",
      "  [52 38 62 71 28 63]\n",
      "  [76 21 54 79 19 55]\n",
      "  [58 67 47 28 86 86]\n",
      "  [24 69 38 52 30 65]\n",
      "  [39 63 51 20 13 66]]\n",
      "\n",
      " [[42 38 47 13 59 78]\n",
      "  [69 24 41 53 46 22]\n",
      "  [54 16 30 58 81 40]\n",
      "  [78 23 18 54 15 30]\n",
      "  [30 30 34 42 72 42]\n",
      "  [20 36 68 44 64 24]\n",
      "  [39 18 79 38 28 20]]]\n",
      "------------------------\n",
      "=================================================\n",
      "[[42 38 47 13 59 78]\n",
      " [69 24 41 53 46 22]\n",
      " [54 16 30 58 81 40]\n",
      " [78 23 18 54 15 30]\n",
      " [30 30 34 42 72 42]\n",
      " [20 36 68 44 64 24]\n",
      " [39 18 79 38 28 20]]\n",
      "\n",
      "[78 23 18 54 15 30]\n",
      "\n",
      "54\n",
      "\n",
      "------------------------\n",
      "[[[29 15 31 58 10 71]\n",
      "  [55 32 74 58 39 61]\n",
      "  [12 52 75 23 16 52]\n",
      "  [53 68 82 71 81 87]\n",
      "  [74 69 82 82 49 69]\n",
      "  [17 54 85 58 39 75]\n",
      "  [27 44 28 50 13 89]]\n",
      "\n",
      " [[25 27 22 40 69 82]\n",
      "  [47 55 26 67 61 40]\n",
      "  [55 15 32 38 19 19]\n",
      "  [77 29 22 38 14 10]\n",
      "  [12 29 61 13 17 77]\n",
      "  [21 17 11 38 66 84]\n",
      "  [20 11 79 26 84 10]]\n",
      "\n",
      " [[39 51 27 67 29 28]\n",
      "  [37 88 51 64 40 56]\n",
      "  [52 38 62 71 28 63]\n",
      "  [76 21 54 79 19 55]\n",
      "  [58 67 47 28 86 86]\n",
      "  [24 69 38 52 30 65]\n",
      "  [39 63 51 20 13 66]]\n",
      "\n",
      " [[88 55 45 85 42 38]\n",
      "  [68 43 74 54 73 59]\n",
      "  [17 32 16 67 67 83]\n",
      "  [81 55 60 47 31 23]\n",
      "  [26 23 46 38 74 47]\n",
      "  [42 47 66 28 64 65]\n",
      "  [20 80 83 80 56 77]]]\n",
      "\n",
      "------------------------\n",
      "[[39 51 27 67 29 28]\n",
      " [37 88 51 64 40 56]\n",
      " [52 38 62 71 28 63]\n",
      " [76 21 54 79 19 55]\n",
      " [58 67 47 28 86 86]\n",
      " [24 69 38 52 30 65]\n",
      " [39 63 51 20 13 66]]\n",
      "\n",
      "------------------------\n",
      "[[52 38 62 71 28 63]\n",
      " [76 21 54 79 19 55]\n",
      " [58 67 47 28 86 86]]\n",
      "\n",
      "------------------------\n",
      "79\n",
      "\n",
      "------------------------\n",
      "54\n",
      "\n",
      "------------------------\n"
     ]
    }
   ],
   "source": [
    "arr = np.random.randint(10, 90, (8, 7, 6))\n",
    "print(arr)\n",
    "print(arr.ndim)\n",
    "print(arr.shape)\n",
    "print()\n",
    "print(arr[2]); print()\n",
    "print(arr[2][3]); print()\n",
    "print(arr[2][3][1]); print()\n",
    "print('Slicing : ')\n",
    "print(arr[2:6]); print()\n",
    "print(\"------------------------\")\n",
    "print(arr[2:6][2]); print()\n",
    "print(\"------------------------\")\n",
    "print(arr[2:6][2][2:5]); print()\n",
    "print(\"------------------------\")\n",
    "print(arr[2:6][2][2:5][1]); print()\n",
    "print(\"------------------------\")\n",
    "print(arr[2:6][2][2:5][1][1:4]); print()\n",
    "print(\"------------------------\")\n",
    "print(arr[3:])\n",
    "print(\"------------------------\")\n",
    "print(arr[-4][:4])\n",
    "print(\"------------------------\")\n",
    "print(arr[0:8:2])\n",
    "print(\"------------------------\")\n",
    "\n",
    "print(\"=================================================\")\n",
    "\n",
    "print(arr[-2]); print()\n",
    "print(arr[-2][-4]); print()\n",
    "print(arr[-2][-4][-3]); print()\n",
    "print(\"------------------------\")\n",
    "print(arr[-6:-2]); print()\n",
    "print(\"------------------------\")\n",
    "print(arr[-6:-2][-2]); print()\n",
    "print(\"------------------------\")\n",
    "print(arr[-6:-2][-2][-5:-2]); print()\n",
    "print(\"------------------------\")\n",
    "print(arr[-6:-2][-2][-5:-2][-2][3]); print()\n",
    "print(\"------------------------\")\n",
    "print(arr[-6:-2][-2][-5:-2][-2][-4]); print()\n",
    "print(\"------------------------\")\n"
   ]
  },
  {
   "cell_type": "code",
   "execution_count": 54,
   "id": "e16e36d1-7c73-4dbd-9537-bd3516e1b736",
   "metadata": {
    "tags": []
   },
   "outputs": [
    {
     "name": "stdout",
     "output_type": "stream",
     "text": [
      "[[35 81 31 45 14]\n",
      " [27 37 70 68 76]\n",
      " [70 62 39 56 59]\n",
      " [11 32 42 70 33]\n",
      " [66 44 41 26 35]]\n",
      "2\n",
      "(5, 5)\n",
      "\n",
      "[10 20 30 40 50]\n",
      "\n",
      "[[35 81 31 45 14]\n",
      " [27 37 70 68 76]\n",
      " [70 62 39 56 59]\n",
      " [10 20 30 40 50]\n",
      " [66 44 41 26 35]]\n",
      "\n",
      "[[7 4 6 4 7]\n",
      " [2 1 4 2 5]]\n",
      "\n",
      "[[35 81 31 45 14]\n",
      " [ 7  4  6  4  7]\n",
      " [ 2  1  4  2  5]\n",
      " [10 20 30 40 50]\n",
      " [66 44 41 26 35]]\n"
     ]
    }
   ],
   "source": [
    "arr = np.random.randint(10, 90, (5, 5))\n",
    "print(arr)\n",
    "print(arr.ndim)\n",
    "print(arr.shape)\n",
    "print()\n",
    "\n",
    "data = np.array([x*10 for x in range(1, 6)])\n",
    "print(data)\n",
    "print()\n",
    "\n",
    "arr[3] = data\n",
    "print(arr)\n",
    "print()\n",
    "\n",
    "data = np.random.randint(1, 9, (2, 5))\n",
    "print(data)\n",
    "print()\n",
    "\n",
    "arr[1:3] = data[:]\n",
    "print(arr)"
   ]
  },
  {
   "cell_type": "markdown",
   "id": "686a13ab-f1e2-4367-9c7f-94a7e882ea61",
   "metadata": {},
   "source": [
    "## **Iterating Numpy Arrays**\n",
    "- **for lst in iter(arr)**\n",
    "- **for mtx, lst in enumerate(arr)**\n",
    "- **for val in nditer(arr)**\n",
    "- **for idx, val in ndenumerate(arr)**"
   ]
  },
  {
   "cell_type": "code",
   "execution_count": 55,
   "id": "7588289e-cd67-466e-90be-e124f7918917",
   "metadata": {
    "tags": []
   },
   "outputs": [
    {
     "name": "stdout",
     "output_type": "stream",
     "text": [
      "[29 50 14 81 50 20 47 69 49 19 63 61 42 81 47]\n",
      "1\n",
      "(15,)\n",
      "\n",
      "29\n",
      "50\n",
      "14\n",
      "81\n",
      "50\n",
      "20\n",
      "47\n",
      "69\n",
      "49\n",
      "19\n",
      "63\n",
      "61\n",
      "42\n",
      "81\n",
      "47\n"
     ]
    }
   ],
   "source": [
    "arr = np.random.randint(10, 90, 15)\n",
    "print(arr)\n",
    "print(arr.ndim)\n",
    "print(arr.shape)\n",
    "print()\n",
    "\n",
    "for val in arr:\n",
    "    print(val)\n"
   ]
  },
  {
   "cell_type": "code",
   "execution_count": 56,
   "id": "29be5b49-6174-4003-a64b-d7100f9c9fdf",
   "metadata": {
    "tags": []
   },
   "outputs": [
    {
     "name": "stdout",
     "output_type": "stream",
     "text": [
      "[[34 13 66 82 10 31 29]\n",
      " [84 51 20 31 48 30 54]\n",
      " [49 24 36 32 76 12 73]\n",
      " [70 11 61 79 39 34 72]\n",
      " [17 53 43 89 58 47 30]\n",
      " [59 31 88 38 64 10 74]\n",
      " [28 73 47 66 66 81 47]\n",
      " [56 43 11 84 26 42 26]]\n",
      "2\n",
      "(8, 7)\n",
      "\n",
      "[34 13 66 82 10 31 29]\n",
      "[84 51 20 31 48 30 54]\n",
      "[49 24 36 32 76 12 73]\n",
      "[70 11 61 79 39 34 72]\n",
      "[17 53 43 89 58 47 30]\n",
      "[59 31 88 38 64 10 74]\n",
      "[28 73 47 66 66 81 47]\n",
      "[56 43 11 84 26 42 26]\n",
      "34\n",
      "13\n",
      "66\n",
      "82\n",
      "10\n",
      "31\n",
      "29\n",
      "84\n",
      "51\n",
      "20\n",
      "31\n",
      "48\n",
      "30\n",
      "54\n",
      "49\n",
      "24\n",
      "36\n",
      "32\n",
      "76\n",
      "12\n",
      "73\n",
      "70\n",
      "11\n",
      "61\n",
      "79\n",
      "39\n",
      "34\n",
      "72\n",
      "17\n",
      "53\n",
      "43\n",
      "89\n",
      "58\n",
      "47\n",
      "30\n",
      "59\n",
      "31\n",
      "88\n",
      "38\n",
      "64\n",
      "10\n",
      "74\n",
      "28\n",
      "73\n",
      "47\n",
      "66\n",
      "66\n",
      "81\n",
      "47\n",
      "56\n",
      "43\n",
      "11\n",
      "84\n",
      "26\n",
      "42\n",
      "26\n",
      "\n"
     ]
    }
   ],
   "source": [
    "np.random.seed(3)\n",
    "arr = np.random.randint(10, 90, (8, 7))\n",
    "print(arr)\n",
    "print(arr.ndim)\n",
    "print(arr.shape)\n",
    "print()\n",
    "\n",
    "for lst in arr:\n",
    "    print(lst)\n",
    "\n",
    "for lst in arr:\n",
    "    for val in lst:\n",
    "        print(val)\n",
    "\n",
    "print()"
   ]
  },
  {
   "cell_type": "code",
   "execution_count": 57,
   "id": "01725a9a-251f-4bd5-bf1b-c74c7a6c2fc2",
   "metadata": {
    "tags": []
   },
   "outputs": [
    {
     "name": "stdout",
     "output_type": "stream",
     "text": [
      "[[28 85 65 23 47 40 58]\n",
      " [71 43 62 12 38 46 54]\n",
      " [58 69 84 64 31 66 49]\n",
      " [39 42 58 19 43 70 65]\n",
      " [21 20 86 78 54 54 29]\n",
      " [26 49 60 75 45 55 62]\n",
      " [11 28 73 12 30 72 32]\n",
      " [17 67 53 42 70 26 37]]\n",
      "2\n",
      "(8, 7)\n",
      "\n",
      "--------------------------------------------\n",
      "\n",
      "[28 85 65 23 47 40 58]\n",
      "[71 43 62 12 38 46 54]\n",
      "[58 69 84 64 31 66 49]\n",
      "[39 42 58 19 43 70 65]\n",
      "[21 20 86 78 54 54 29]\n",
      "[26 49 60 75 45 55 62]\n",
      "[11 28 73 12 30 72 32]\n",
      "[17 67 53 42 70 26 37]\n",
      "\n",
      "--------------------------------------------\n",
      "\n",
      "28\n",
      "85\n",
      "65\n",
      "23\n",
      "47\n",
      "40\n",
      "58\n",
      "71\n",
      "43\n",
      "62\n",
      "12\n",
      "38\n",
      "46\n",
      "54\n",
      "58\n",
      "69\n",
      "84\n",
      "64\n",
      "31\n",
      "66\n",
      "49\n",
      "39\n",
      "42\n",
      "58\n",
      "19\n",
      "43\n",
      "70\n",
      "65\n",
      "21\n",
      "20\n",
      "86\n",
      "78\n",
      "54\n",
      "54\n",
      "29\n",
      "26\n",
      "49\n",
      "60\n",
      "75\n",
      "45\n",
      "55\n",
      "62\n",
      "11\n",
      "28\n",
      "73\n",
      "12\n",
      "30\n",
      "72\n",
      "32\n",
      "17\n",
      "67\n",
      "53\n",
      "42\n",
      "70\n",
      "26\n",
      "37\n"
     ]
    }
   ],
   "source": [
    "arr = np.random.randint(10, 90, (8, 7))\n",
    "print(arr)\n",
    "print(arr.ndim)\n",
    "print(arr.shape)\n",
    "print() \n",
    "print(\"--------------------------------------------\")\n",
    "print()\n",
    "\n",
    "for lst in iter(arr):\n",
    "    print(lst)\n",
    "print()\n",
    "print(\"--------------------------------------------\")\n",
    "print()\n",
    "\n",
    "for lst in iter(arr):\n",
    "    for val in iter(lst):\n",
    "        print(val)"
   ]
  },
  {
   "cell_type": "code",
   "execution_count": 58,
   "id": "827b7553-2366-4364-85f4-734d2017db83",
   "metadata": {
    "tags": []
   },
   "outputs": [
    {
     "name": "stdout",
     "output_type": "stream",
     "text": [
      "[[63 18 30 18 34 88 86]\n",
      " [29 19 36 60 70 15 19]\n",
      " [42 23 54 81 46 52 82]\n",
      " [36 34 30 72 54 40 27]\n",
      " [42 63 49 70 42 43 61]\n",
      " [89 21 27 61 81 23 78]\n",
      " [73 51 23 87 70 57 46]\n",
      " [65 66 80 22 38 20 21]]\n",
      "2\n",
      "(8, 7)\n",
      "\n",
      "--------------------------------------------\n",
      "63\n",
      "18\n",
      "30\n",
      "18\n",
      "34\n",
      "88\n",
      "86\n",
      "29\n",
      "19\n",
      "36\n",
      "60\n",
      "70\n",
      "15\n",
      "19\n",
      "42\n",
      "23\n",
      "54\n",
      "81\n",
      "46\n",
      "52\n",
      "82\n",
      "36\n",
      "34\n",
      "30\n",
      "72\n",
      "54\n",
      "40\n",
      "27\n",
      "42\n",
      "63\n",
      "49\n",
      "70\n",
      "42\n",
      "43\n",
      "61\n",
      "89\n",
      "21\n",
      "27\n",
      "61\n",
      "81\n",
      "23\n",
      "78\n",
      "73\n",
      "51\n",
      "23\n",
      "87\n",
      "70\n",
      "57\n",
      "46\n",
      "65\n",
      "66\n",
      "80\n",
      "22\n",
      "38\n",
      "20\n",
      "21\n"
     ]
    }
   ],
   "source": [
    "arr = np.random.randint(10, 90, (8, 7))\n",
    "print(arr)\n",
    "print(arr.ndim)\n",
    "print(arr.shape)\n",
    "print() \n",
    "print(\"--------------------------------------------\")\n",
    "\n",
    "for val in np.nditer(arr):\n",
    "    print(val)"
   ]
  },
  {
   "cell_type": "code",
   "execution_count": 59,
   "id": "8ab71a64-efa1-43d7-b665-fc59bcef436f",
   "metadata": {
    "tags": []
   },
   "outputs": [
    {
     "name": "stdout",
     "output_type": "stream",
     "text": [
      "[[45 59 82 44 21 69 14]\n",
      " [10 66 55 81 31 44 39]\n",
      " [52 17 40 86 85 49 67]\n",
      " [59 54 31 51 81 44 25]\n",
      " [32 55 46 50 62 19 29]\n",
      " [79 64 22 36 45 34 62]\n",
      " [53 33 60 28 74 81 63]\n",
      " [42 88 36 13 47 31 33]]\n",
      "2\n",
      "(8, 7)\n",
      "\n",
      "--------------------------------------------\n",
      "(0, 0) 45\n",
      "(0, 1) 59\n",
      "(0, 2) 82\n",
      "(0, 3) 44\n",
      "(0, 4) 21\n",
      "(0, 5) 69\n",
      "(0, 6) 14\n",
      "(1, 0) 10\n",
      "(1, 1) 66\n",
      "(1, 2) 55\n",
      "(1, 3) 81\n",
      "(1, 4) 31\n",
      "(1, 5) 44\n",
      "(1, 6) 39\n",
      "(2, 0) 52\n",
      "(2, 1) 17\n",
      "(2, 2) 40\n",
      "(2, 3) 86\n",
      "(2, 4) 85\n",
      "(2, 5) 49\n",
      "(2, 6) 67\n",
      "(3, 0) 59\n",
      "(3, 1) 54\n",
      "(3, 2) 31\n",
      "(3, 3) 51\n",
      "(3, 4) 81\n",
      "(3, 5) 44\n",
      "(3, 6) 25\n",
      "(4, 0) 32\n",
      "(4, 1) 55\n",
      "(4, 2) 46\n",
      "(4, 3) 50\n",
      "(4, 4) 62\n",
      "(4, 5) 19\n",
      "(4, 6) 29\n",
      "(5, 0) 79\n",
      "(5, 1) 64\n",
      "(5, 2) 22\n",
      "(5, 3) 36\n",
      "(5, 4) 45\n",
      "(5, 5) 34\n",
      "(5, 6) 62\n",
      "(6, 0) 53\n",
      "(6, 1) 33\n",
      "(6, 2) 60\n",
      "(6, 3) 28\n",
      "(6, 4) 74\n",
      "(6, 5) 81\n",
      "(6, 6) 63\n",
      "(7, 0) 42\n",
      "(7, 1) 88\n",
      "(7, 2) 36\n",
      "(7, 3) 13\n",
      "(7, 4) 47\n",
      "(7, 5) 31\n",
      "(7, 6) 33\n"
     ]
    }
   ],
   "source": [
    "arr = np.random.randint(10, 90, (8, 7))\n",
    "print(arr)\n",
    "print(arr.ndim)\n",
    "print(arr.shape)\n",
    "print() \n",
    "print(\"--------------------------------------------\")\n",
    "\n",
    "for idx, val in np.ndenumerate(arr):\n",
    "    print(idx, val)"
   ]
  },
  {
   "cell_type": "code",
   "execution_count": 60,
   "id": "5728e3cd-7fc8-4b29-b55e-8c1469eec1b8",
   "metadata": {
    "tags": []
   },
   "outputs": [
    {
     "name": "stdout",
     "output_type": "stream",
     "text": [
      "[[[86 28 44 16 80]\n",
      "  [29 70 87 49 74]\n",
      "  [70 22 50 14 52]\n",
      "  [68 31 10 45 87]\n",
      "  [31 78 79 51 80]\n",
      "  [55 42 75 81 77]\n",
      "  [35 36 88 32 86]]\n",
      "\n",
      " [[21 40 89 13 80]\n",
      "  [56 57 24 85 15]\n",
      "  [89 70 44 75 48]\n",
      "  [60 69 28 39 73]\n",
      "  [31 36 22 33 27]\n",
      "  [40 46 17 84 35]\n",
      "  [20 61 11 63 22]]\n",
      "\n",
      " [[78 13 72 44 59]\n",
      "  [52 70 14 31 82]\n",
      "  [29 11 28 79 65]\n",
      "  [59 85 13 84 29]\n",
      "  [49 54 16 72 36]\n",
      "  [10 46 64 88 47]\n",
      "  [46 33 28 84 54]]\n",
      "\n",
      " [[41 86 21 34 36]\n",
      "  [14 66 10 30 65]\n",
      "  [20 15 69 19 64]\n",
      "  [71 48 43 78 85]\n",
      "  [56 56 31 59 18]\n",
      "  [35 22 75 85 30]\n",
      "  [63 39 42 17 30]]\n",
      "\n",
      " [[77 32 33 19 43]\n",
      "  [25 23 38 38 55]\n",
      "  [81 79 76 40 12]\n",
      "  [75 29 68 53 30]\n",
      "  [38 61 50 88 32]\n",
      "  [45 66 70 28 73]\n",
      "  [54 52 34 54 42]]\n",
      "\n",
      " [[14 50 82 64 62]\n",
      "  [21 61 86 54 58]\n",
      "  [36 12 80 28 40]\n",
      "  [74 43 31 79 64]\n",
      "  [35 15 69 39 56]\n",
      "  [62 57 35 32 43]\n",
      "  [62 66 23 65 31]]\n",
      "\n",
      " [[34 17 56 43 67]\n",
      "  [30 39 16 29 64]\n",
      "  [59 39 87 25 50]\n",
      "  [89 64 43 30 17]\n",
      "  [50 21 60 40 23]\n",
      "  [80 22 10 18 26]\n",
      "  [34 86 69 60 50]]\n",
      "\n",
      " [[61 61 72 31 73]\n",
      "  [80 19 60 21 11]\n",
      "  [38 54 30 60 67]\n",
      "  [25 53 82 29 43]\n",
      "  [39 39 40 12 53]\n",
      "  [43 15 37 50 13]\n",
      "  [61 46 48 40 76]]]\n",
      "3\n",
      "(8, 7, 5)\n",
      "\n",
      "--------------------------------------------\n",
      "\n",
      "[[86 28 44 16 80]\n",
      " [29 70 87 49 74]\n",
      " [70 22 50 14 52]\n",
      " [68 31 10 45 87]\n",
      " [31 78 79 51 80]\n",
      " [55 42 75 81 77]\n",
      " [35 36 88 32 86]]\n",
      "0 2 (7, 5)\n",
      "[[21 40 89 13 80]\n",
      " [56 57 24 85 15]\n",
      " [89 70 44 75 48]\n",
      " [60 69 28 39 73]\n",
      " [31 36 22 33 27]\n",
      " [40 46 17 84 35]\n",
      " [20 61 11 63 22]]\n",
      "1 2 (7, 5)\n",
      "[[78 13 72 44 59]\n",
      " [52 70 14 31 82]\n",
      " [29 11 28 79 65]\n",
      " [59 85 13 84 29]\n",
      " [49 54 16 72 36]\n",
      " [10 46 64 88 47]\n",
      " [46 33 28 84 54]]\n",
      "2 2 (7, 5)\n",
      "[[41 86 21 34 36]\n",
      " [14 66 10 30 65]\n",
      " [20 15 69 19 64]\n",
      " [71 48 43 78 85]\n",
      " [56 56 31 59 18]\n",
      " [35 22 75 85 30]\n",
      " [63 39 42 17 30]]\n",
      "3 2 (7, 5)\n",
      "[[77 32 33 19 43]\n",
      " [25 23 38 38 55]\n",
      " [81 79 76 40 12]\n",
      " [75 29 68 53 30]\n",
      " [38 61 50 88 32]\n",
      " [45 66 70 28 73]\n",
      " [54 52 34 54 42]]\n",
      "4 2 (7, 5)\n",
      "[[14 50 82 64 62]\n",
      " [21 61 86 54 58]\n",
      " [36 12 80 28 40]\n",
      " [74 43 31 79 64]\n",
      " [35 15 69 39 56]\n",
      " [62 57 35 32 43]\n",
      " [62 66 23 65 31]]\n",
      "5 2 (7, 5)\n",
      "[[34 17 56 43 67]\n",
      " [30 39 16 29 64]\n",
      " [59 39 87 25 50]\n",
      " [89 64 43 30 17]\n",
      " [50 21 60 40 23]\n",
      " [80 22 10 18 26]\n",
      " [34 86 69 60 50]]\n",
      "6 2 (7, 5)\n",
      "[[61 61 72 31 73]\n",
      " [80 19 60 21 11]\n",
      " [38 54 30 60 67]\n",
      " [25 53 82 29 43]\n",
      " [39 39 40 12 53]\n",
      " [43 15 37 50 13]\n",
      " [61 46 48 40 76]]\n",
      "7 2 (7, 5)\n",
      "\n",
      "--------------------------------------------\n",
      "\n",
      "[86 28 44 16 80]\n",
      "0 0\n",
      "[29 70 87 49 74]\n",
      "0 1\n",
      "[70 22 50 14 52]\n",
      "0 2\n",
      "[68 31 10 45 87]\n",
      "0 3\n",
      "[31 78 79 51 80]\n",
      "0 4\n",
      "[55 42 75 81 77]\n",
      "0 5\n",
      "[35 36 88 32 86]\n",
      "0 6\n",
      "[21 40 89 13 80]\n",
      "1 0\n",
      "[56 57 24 85 15]\n",
      "1 1\n",
      "[89 70 44 75 48]\n",
      "1 2\n",
      "[60 69 28 39 73]\n",
      "1 3\n",
      "[31 36 22 33 27]\n",
      "1 4\n",
      "[40 46 17 84 35]\n",
      "1 5\n",
      "[20 61 11 63 22]\n",
      "1 6\n",
      "[78 13 72 44 59]\n",
      "2 0\n",
      "[52 70 14 31 82]\n",
      "2 1\n",
      "[29 11 28 79 65]\n",
      "2 2\n",
      "[59 85 13 84 29]\n",
      "2 3\n",
      "[49 54 16 72 36]\n",
      "2 4\n",
      "[10 46 64 88 47]\n",
      "2 5\n",
      "[46 33 28 84 54]\n",
      "2 6\n",
      "[41 86 21 34 36]\n",
      "3 0\n",
      "[14 66 10 30 65]\n",
      "3 1\n",
      "[20 15 69 19 64]\n",
      "3 2\n",
      "[71 48 43 78 85]\n",
      "3 3\n",
      "[56 56 31 59 18]\n",
      "3 4\n",
      "[35 22 75 85 30]\n",
      "3 5\n",
      "[63 39 42 17 30]\n",
      "3 6\n",
      "[77 32 33 19 43]\n",
      "4 0\n",
      "[25 23 38 38 55]\n",
      "4 1\n",
      "[81 79 76 40 12]\n",
      "4 2\n",
      "[75 29 68 53 30]\n",
      "4 3\n",
      "[38 61 50 88 32]\n",
      "4 4\n",
      "[45 66 70 28 73]\n",
      "4 5\n",
      "[54 52 34 54 42]\n",
      "4 6\n",
      "[14 50 82 64 62]\n",
      "5 0\n",
      "[21 61 86 54 58]\n",
      "5 1\n",
      "[36 12 80 28 40]\n",
      "5 2\n",
      "[74 43 31 79 64]\n",
      "5 3\n",
      "[35 15 69 39 56]\n",
      "5 4\n",
      "[62 57 35 32 43]\n",
      "5 5\n",
      "[62 66 23 65 31]\n",
      "5 6\n",
      "[34 17 56 43 67]\n",
      "6 0\n",
      "[30 39 16 29 64]\n",
      "6 1\n",
      "[59 39 87 25 50]\n",
      "6 2\n",
      "[89 64 43 30 17]\n",
      "6 3\n",
      "[50 21 60 40 23]\n",
      "6 4\n",
      "[80 22 10 18 26]\n",
      "6 5\n",
      "[34 86 69 60 50]\n",
      "6 6\n",
      "[61 61 72 31 73]\n",
      "7 0\n",
      "[80 19 60 21 11]\n",
      "7 1\n",
      "[38 54 30 60 67]\n",
      "7 2\n",
      "[25 53 82 29 43]\n",
      "7 3\n",
      "[39 39 40 12 53]\n",
      "7 4\n",
      "[43 15 37 50 13]\n",
      "7 5\n",
      "[61 46 48 40 76]\n",
      "7 6\n"
     ]
    }
   ],
   "source": [
    "arr = np.random.randint(10, 90, (8, 7, 5))\n",
    "print(arr)\n",
    "print(arr.ndim)\n",
    "print(arr.shape)\n",
    "print() \n",
    "\n",
    "print(\"--------------------------------------------\")\n",
    "\n",
    "print()\n",
    "for idx, lst in enumerate(arr):\n",
    "    print(lst)\n",
    "    print(idx, lst.ndim, lst.shape)\n",
    "print()\n",
    "\n",
    "print(\"--------------------------------------------\")\n",
    "\n",
    "print()\n",
    "for mtx, lst2d in enumerate(arr):\n",
    "    for idx, lst1d in enumerate(lst2d):\n",
    "        print(lst1d)\n",
    "        print(mtx, idx)"
   ]
  },
  {
   "cell_type": "code",
   "execution_count": 61,
   "id": "4179c4cf-de30-49f2-b8bd-830666867a1b",
   "metadata": {
    "tags": []
   },
   "outputs": [
    {
     "name": "stdout",
     "output_type": "stream",
     "text": [
      "[[[14 43 81 22 43]\n",
      "  [53 40 74 77 32]\n",
      "  [10 83 69 80 59]\n",
      "  [70 74 76 71 27]\n",
      "  [66 24 54 53 56]\n",
      "  [67 38 23 64 14]\n",
      "  [70 43 11 31 31]]\n",
      "\n",
      " [[22 39 69 64 33]\n",
      "  [76 63 63 45 51]\n",
      "  [38 66 23 74 36]\n",
      "  [65 69 16 89 43]\n",
      "  [36 85 77 76 43]\n",
      "  [87 47 69 59 43]\n",
      "  [25 66 27 23 64]]\n",
      "\n",
      " [[78 42 32 87 76]\n",
      "  [69 27 59 40 70]\n",
      "  [73 34 45 84 35]\n",
      "  [45 55 32 21 22]\n",
      "  [29 13 65 43 38]\n",
      "  [88 29 48 18 63]\n",
      "  [52 89 24 74 31]]\n",
      "\n",
      " [[68 66 33 23 64]\n",
      "  [87 20 41 63 59]\n",
      "  [32 85 48 48 15]\n",
      "  [22 77 28 13 34]\n",
      "  [72 72 22 14 32]\n",
      "  [24 74 34 41 53]\n",
      "  [49 38 12 43 89]]\n",
      "\n",
      " [[16 64 31 81 10]\n",
      "  [87 32 54 45 84]\n",
      "  [11 65 64 85 31]\n",
      "  [45 36 64 57 28]\n",
      "  [70 43 72 68 45]\n",
      "  [16 31 26 28 25]\n",
      "  [19 87 86 87 44]]\n",
      "\n",
      " [[78 29 78 54 63]\n",
      "  [33 14 56 80 87]\n",
      "  [54 88 32 25 83]\n",
      "  [88 28 23 73 46]\n",
      "  [66 63 36 52 25]\n",
      "  [13 18 66 56 77]\n",
      "  [89 48 48 21 87]]\n",
      "\n",
      " [[65 13 36 55 56]\n",
      "  [74 15 87 51 34]\n",
      "  [68 51 86 17 25]\n",
      "  [19 62 74 74 43]\n",
      "  [30 76 18 59 30]\n",
      "  [22 78 53 35 26]\n",
      "  [57 32 49 62 59]]\n",
      "\n",
      " [[15 64 11 10 62]\n",
      "  [35 19 36 55 26]\n",
      "  [19 54 79 45 81]\n",
      "  [44 87 70 22 70]\n",
      "  [11 55 15 56 64]\n",
      "  [18 83 40 79 44]\n",
      "  [87 75 45 50 77]]]\n",
      "3\n",
      "(8, 7, 5)\n",
      "\n",
      "( 0 0 0 ) 14\n",
      "( 0 0 1 ) 43\n",
      "( 0 0 2 ) 81\n",
      "( 0 0 3 ) 22\n",
      "( 0 0 4 ) 43\n",
      "( 0 1 0 ) 53\n",
      "( 0 1 1 ) 40\n",
      "( 0 1 2 ) 74\n",
      "( 0 1 3 ) 77\n",
      "( 0 1 4 ) 32\n",
      "( 0 2 0 ) 10\n",
      "( 0 2 1 ) 83\n",
      "( 0 2 2 ) 69\n",
      "( 0 2 3 ) 80\n",
      "( 0 2 4 ) 59\n",
      "( 0 3 0 ) 70\n",
      "( 0 3 1 ) 74\n",
      "( 0 3 2 ) 76\n",
      "( 0 3 3 ) 71\n",
      "( 0 3 4 ) 27\n",
      "( 0 4 0 ) 66\n",
      "( 0 4 1 ) 24\n",
      "( 0 4 2 ) 54\n",
      "( 0 4 3 ) 53\n",
      "( 0 4 4 ) 56\n",
      "( 0 5 0 ) 67\n",
      "( 0 5 1 ) 38\n",
      "( 0 5 2 ) 23\n",
      "( 0 5 3 ) 64\n",
      "( 0 5 4 ) 14\n",
      "( 0 6 0 ) 70\n",
      "( 0 6 1 ) 43\n",
      "( 0 6 2 ) 11\n",
      "( 0 6 3 ) 31\n",
      "( 0 6 4 ) 31\n",
      "( 1 0 0 ) 22\n",
      "( 1 0 1 ) 39\n",
      "( 1 0 2 ) 69\n",
      "( 1 0 3 ) 64\n",
      "( 1 0 4 ) 33\n",
      "( 1 1 0 ) 76\n",
      "( 1 1 1 ) 63\n",
      "( 1 1 2 ) 63\n",
      "( 1 1 3 ) 45\n",
      "( 1 1 4 ) 51\n",
      "( 1 2 0 ) 38\n",
      "( 1 2 1 ) 66\n",
      "( 1 2 2 ) 23\n",
      "( 1 2 3 ) 74\n",
      "( 1 2 4 ) 36\n",
      "( 1 3 0 ) 65\n",
      "( 1 3 1 ) 69\n",
      "( 1 3 2 ) 16\n",
      "( 1 3 3 ) 89\n",
      "( 1 3 4 ) 43\n",
      "( 1 4 0 ) 36\n",
      "( 1 4 1 ) 85\n",
      "( 1 4 2 ) 77\n",
      "( 1 4 3 ) 76\n",
      "( 1 4 4 ) 43\n",
      "( 1 5 0 ) 87\n",
      "( 1 5 1 ) 47\n",
      "( 1 5 2 ) 69\n",
      "( 1 5 3 ) 59\n",
      "( 1 5 4 ) 43\n",
      "( 1 6 0 ) 25\n",
      "( 1 6 1 ) 66\n",
      "( 1 6 2 ) 27\n",
      "( 1 6 3 ) 23\n",
      "( 1 6 4 ) 64\n",
      "( 2 0 0 ) 78\n",
      "( 2 0 1 ) 42\n",
      "( 2 0 2 ) 32\n",
      "( 2 0 3 ) 87\n",
      "( 2 0 4 ) 76\n",
      "( 2 1 0 ) 69\n",
      "( 2 1 1 ) 27\n",
      "( 2 1 2 ) 59\n",
      "( 2 1 3 ) 40\n",
      "( 2 1 4 ) 70\n",
      "( 2 2 0 ) 73\n",
      "( 2 2 1 ) 34\n",
      "( 2 2 2 ) 45\n",
      "( 2 2 3 ) 84\n",
      "( 2 2 4 ) 35\n",
      "( 2 3 0 ) 45\n",
      "( 2 3 1 ) 55\n",
      "( 2 3 2 ) 32\n",
      "( 2 3 3 ) 21\n",
      "( 2 3 4 ) 22\n",
      "( 2 4 0 ) 29\n",
      "( 2 4 1 ) 13\n",
      "( 2 4 2 ) 65\n",
      "( 2 4 3 ) 43\n",
      "( 2 4 4 ) 38\n",
      "( 2 5 0 ) 88\n",
      "( 2 5 1 ) 29\n",
      "( 2 5 2 ) 48\n",
      "( 2 5 3 ) 18\n",
      "( 2 5 4 ) 63\n",
      "( 2 6 0 ) 52\n",
      "( 2 6 1 ) 89\n",
      "( 2 6 2 ) 24\n",
      "( 2 6 3 ) 74\n",
      "( 2 6 4 ) 31\n",
      "( 3 0 0 ) 68\n",
      "( 3 0 1 ) 66\n",
      "( 3 0 2 ) 33\n",
      "( 3 0 3 ) 23\n",
      "( 3 0 4 ) 64\n",
      "( 3 1 0 ) 87\n",
      "( 3 1 1 ) 20\n",
      "( 3 1 2 ) 41\n",
      "( 3 1 3 ) 63\n",
      "( 3 1 4 ) 59\n",
      "( 3 2 0 ) 32\n",
      "( 3 2 1 ) 85\n",
      "( 3 2 2 ) 48\n",
      "( 3 2 3 ) 48\n",
      "( 3 2 4 ) 15\n",
      "( 3 3 0 ) 22\n",
      "( 3 3 1 ) 77\n",
      "( 3 3 2 ) 28\n",
      "( 3 3 3 ) 13\n",
      "( 3 3 4 ) 34\n",
      "( 3 4 0 ) 72\n",
      "( 3 4 1 ) 72\n",
      "( 3 4 2 ) 22\n",
      "( 3 4 3 ) 14\n",
      "( 3 4 4 ) 32\n",
      "( 3 5 0 ) 24\n",
      "( 3 5 1 ) 74\n",
      "( 3 5 2 ) 34\n",
      "( 3 5 3 ) 41\n",
      "( 3 5 4 ) 53\n",
      "( 3 6 0 ) 49\n",
      "( 3 6 1 ) 38\n",
      "( 3 6 2 ) 12\n",
      "( 3 6 3 ) 43\n",
      "( 3 6 4 ) 89\n",
      "( 4 0 0 ) 16\n",
      "( 4 0 1 ) 64\n",
      "( 4 0 2 ) 31\n",
      "( 4 0 3 ) 81\n",
      "( 4 0 4 ) 10\n",
      "( 4 1 0 ) 87\n",
      "( 4 1 1 ) 32\n",
      "( 4 1 2 ) 54\n",
      "( 4 1 3 ) 45\n",
      "( 4 1 4 ) 84\n",
      "( 4 2 0 ) 11\n",
      "( 4 2 1 ) 65\n",
      "( 4 2 2 ) 64\n",
      "( 4 2 3 ) 85\n",
      "( 4 2 4 ) 31\n",
      "( 4 3 0 ) 45\n",
      "( 4 3 1 ) 36\n",
      "( 4 3 2 ) 64\n",
      "( 4 3 3 ) 57\n",
      "( 4 3 4 ) 28\n",
      "( 4 4 0 ) 70\n",
      "( 4 4 1 ) 43\n",
      "( 4 4 2 ) 72\n",
      "( 4 4 3 ) 68\n",
      "( 4 4 4 ) 45\n",
      "( 4 5 0 ) 16\n",
      "( 4 5 1 ) 31\n",
      "( 4 5 2 ) 26\n",
      "( 4 5 3 ) 28\n",
      "( 4 5 4 ) 25\n",
      "( 4 6 0 ) 19\n",
      "( 4 6 1 ) 87\n",
      "( 4 6 2 ) 86\n",
      "( 4 6 3 ) 87\n",
      "( 4 6 4 ) 44\n",
      "( 5 0 0 ) 78\n",
      "( 5 0 1 ) 29\n",
      "( 5 0 2 ) 78\n",
      "( 5 0 3 ) 54\n",
      "( 5 0 4 ) 63\n",
      "( 5 1 0 ) 33\n",
      "( 5 1 1 ) 14\n",
      "( 5 1 2 ) 56\n",
      "( 5 1 3 ) 80\n",
      "( 5 1 4 ) 87\n",
      "( 5 2 0 ) 54\n",
      "( 5 2 1 ) 88\n",
      "( 5 2 2 ) 32\n",
      "( 5 2 3 ) 25\n",
      "( 5 2 4 ) 83\n",
      "( 5 3 0 ) 88\n",
      "( 5 3 1 ) 28\n",
      "( 5 3 2 ) 23\n",
      "( 5 3 3 ) 73\n",
      "( 5 3 4 ) 46\n",
      "( 5 4 0 ) 66\n",
      "( 5 4 1 ) 63\n",
      "( 5 4 2 ) 36\n",
      "( 5 4 3 ) 52\n",
      "( 5 4 4 ) 25\n",
      "( 5 5 0 ) 13\n",
      "( 5 5 1 ) 18\n",
      "( 5 5 2 ) 66\n",
      "( 5 5 3 ) 56\n",
      "( 5 5 4 ) 77\n",
      "( 5 6 0 ) 89\n",
      "( 5 6 1 ) 48\n",
      "( 5 6 2 ) 48\n",
      "( 5 6 3 ) 21\n",
      "( 5 6 4 ) 87\n",
      "( 6 0 0 ) 65\n",
      "( 6 0 1 ) 13\n",
      "( 6 0 2 ) 36\n",
      "( 6 0 3 ) 55\n",
      "( 6 0 4 ) 56\n",
      "( 6 1 0 ) 74\n",
      "( 6 1 1 ) 15\n",
      "( 6 1 2 ) 87\n",
      "( 6 1 3 ) 51\n",
      "( 6 1 4 ) 34\n",
      "( 6 2 0 ) 68\n",
      "( 6 2 1 ) 51\n",
      "( 6 2 2 ) 86\n",
      "( 6 2 3 ) 17\n",
      "( 6 2 4 ) 25\n",
      "( 6 3 0 ) 19\n",
      "( 6 3 1 ) 62\n",
      "( 6 3 2 ) 74\n",
      "( 6 3 3 ) 74\n",
      "( 6 3 4 ) 43\n",
      "( 6 4 0 ) 30\n",
      "( 6 4 1 ) 76\n",
      "( 6 4 2 ) 18\n",
      "( 6 4 3 ) 59\n",
      "( 6 4 4 ) 30\n",
      "( 6 5 0 ) 22\n",
      "( 6 5 1 ) 78\n",
      "( 6 5 2 ) 53\n",
      "( 6 5 3 ) 35\n",
      "( 6 5 4 ) 26\n",
      "( 6 6 0 ) 57\n",
      "( 6 6 1 ) 32\n",
      "( 6 6 2 ) 49\n",
      "( 6 6 3 ) 62\n",
      "( 6 6 4 ) 59\n",
      "( 7 0 0 ) 15\n",
      "( 7 0 1 ) 64\n",
      "( 7 0 2 ) 11\n",
      "( 7 0 3 ) 10\n",
      "( 7 0 4 ) 62\n",
      "( 7 1 0 ) 35\n",
      "( 7 1 1 ) 19\n",
      "( 7 1 2 ) 36\n",
      "( 7 1 3 ) 55\n",
      "( 7 1 4 ) 26\n",
      "( 7 2 0 ) 19\n",
      "( 7 2 1 ) 54\n",
      "( 7 2 2 ) 79\n",
      "( 7 2 3 ) 45\n",
      "( 7 2 4 ) 81\n",
      "( 7 3 0 ) 44\n",
      "( 7 3 1 ) 87\n",
      "( 7 3 2 ) 70\n",
      "( 7 3 3 ) 22\n",
      "( 7 3 4 ) 70\n",
      "( 7 4 0 ) 11\n",
      "( 7 4 1 ) 55\n",
      "( 7 4 2 ) 15\n",
      "( 7 4 3 ) 56\n",
      "( 7 4 4 ) 64\n",
      "( 7 5 0 ) 18\n",
      "( 7 5 1 ) 83\n",
      "( 7 5 2 ) 40\n",
      "( 7 5 3 ) 79\n",
      "( 7 5 4 ) 44\n",
      "( 7 6 0 ) 87\n",
      "( 7 6 1 ) 75\n",
      "( 7 6 2 ) 45\n",
      "( 7 6 3 ) 50\n",
      "( 7 6 4 ) 77\n"
     ]
    }
   ],
   "source": [
    "arr = np.random.randint(10, 90, (8, 7, 5))\n",
    "print(arr)\n",
    "print(arr.ndim)\n",
    "print(arr.shape)\n",
    "print() \n",
    "\n",
    "for mtx, lst2d in enumerate(arr):\n",
    "    for lst, lst1d in enumerate(lst2d):\n",
    "        for pos, val in enumerate(lst1d):\n",
    "            print(\"(\", mtx, lst, pos, \")\", val)"
   ]
  },
  {
   "cell_type": "code",
   "execution_count": 62,
   "id": "1acff292-7eba-49ca-9f5a-ea8b1dc19617",
   "metadata": {
    "tags": []
   },
   "outputs": [
    {
     "name": "stdout",
     "output_type": "stream",
     "text": [
      "[[[89 20 65 63 53]\n",
      "  [47 21 54 18 41]\n",
      "  [30 27 43 77 20]\n",
      "  [73 49 64 61 61]\n",
      "  [23 18 42 63 71]\n",
      "  [30 76 49 40 64]\n",
      "  [48 35 58 37 35]]\n",
      "\n",
      " [[38 32 22 21 17]\n",
      "  [81 34 58 81 24]\n",
      "  [89 12 25 51 43]\n",
      "  [69 23 51 88 58]\n",
      "  [84 77 10 24 24]\n",
      "  [19 55 85 80 10]\n",
      "  [60 24 49 22 65]]\n",
      "\n",
      " [[17 50 74 72 86]\n",
      "  [27 66 76 29 58]\n",
      "  [24 23 49 49 87]\n",
      "  [70 54 32 48 70]\n",
      "  [19 51 35 71 49]\n",
      "  [54 59 38 87 52]\n",
      "  [64 45 85 54 58]]\n",
      "\n",
      " [[24 59 86 12 15]\n",
      "  [88 17 24 27 14]\n",
      "  [79 65 18 58 10]\n",
      "  [53 38 30 52 52]\n",
      "  [77 70 43 68 54]\n",
      "  [67 37 54 51 57]\n",
      "  [16 41 61 44 27]]\n",
      "\n",
      " [[62 23 71 74 11]\n",
      "  [21 65 26 87 61]\n",
      "  [14 23 73 69 70]\n",
      "  [35 78 57 18 57]\n",
      "  [82 75 75 54 43]\n",
      "  [18 84 24 63 74]\n",
      "  [24 20 87 40 69]]\n",
      "\n",
      " [[54 71 79 16 40]\n",
      "  [27 71 41 25 24]\n",
      "  [26 52 84 13 28]\n",
      "  [70 28 72 12 59]\n",
      "  [56 31 14 37 48]\n",
      "  [88 76 33 58 36]\n",
      "  [66 50 50 19 86]]\n",
      "\n",
      " [[38 59 19 47 19]\n",
      "  [49 34 21 24 19]\n",
      "  [89 50 36 83 51]\n",
      "  [59 38 49 29 36]\n",
      "  [67 50 88 48 87]\n",
      "  [72 14 59 66 11]\n",
      "  [84 81 44 10 55]]\n",
      "\n",
      " [[12 13 62 88 46]\n",
      "  [53 48 62 35 40]\n",
      "  [29 62 77 56 45]\n",
      "  [55 38 46 65 28]\n",
      "  [77 64 88 74 44]\n",
      "  [63 34 81 17 57]\n",
      "  [36 12 80 33 88]]]\n",
      "3\n",
      "(8, 7, 5)\n",
      "\n",
      "--------------------------------------------\n",
      "89\n",
      "20\n",
      "65\n",
      "63\n",
      "53\n",
      "47\n",
      "21\n",
      "54\n",
      "18\n",
      "41\n",
      "30\n",
      "27\n",
      "43\n",
      "77\n",
      "20\n",
      "73\n",
      "49\n",
      "64\n",
      "61\n",
      "61\n",
      "23\n",
      "18\n",
      "42\n",
      "63\n",
      "71\n",
      "30\n",
      "76\n",
      "49\n",
      "40\n",
      "64\n",
      "48\n",
      "35\n",
      "58\n",
      "37\n",
      "35\n",
      "38\n",
      "32\n",
      "22\n",
      "21\n",
      "17\n",
      "81\n",
      "34\n",
      "58\n",
      "81\n",
      "24\n",
      "89\n",
      "12\n",
      "25\n",
      "51\n",
      "43\n",
      "69\n",
      "23\n",
      "51\n",
      "88\n",
      "58\n",
      "84\n",
      "77\n",
      "10\n",
      "24\n",
      "24\n",
      "19\n",
      "55\n",
      "85\n",
      "80\n",
      "10\n",
      "60\n",
      "24\n",
      "49\n",
      "22\n",
      "65\n",
      "17\n",
      "50\n",
      "74\n",
      "72\n",
      "86\n",
      "27\n",
      "66\n",
      "76\n",
      "29\n",
      "58\n",
      "24\n",
      "23\n",
      "49\n",
      "49\n",
      "87\n",
      "70\n",
      "54\n",
      "32\n",
      "48\n",
      "70\n",
      "19\n",
      "51\n",
      "35\n",
      "71\n",
      "49\n",
      "54\n",
      "59\n",
      "38\n",
      "87\n",
      "52\n",
      "64\n",
      "45\n",
      "85\n",
      "54\n",
      "58\n",
      "24\n",
      "59\n",
      "86\n",
      "12\n",
      "15\n",
      "88\n",
      "17\n",
      "24\n",
      "27\n",
      "14\n",
      "79\n",
      "65\n",
      "18\n",
      "58\n",
      "10\n",
      "53\n",
      "38\n",
      "30\n",
      "52\n",
      "52\n",
      "77\n",
      "70\n",
      "43\n",
      "68\n",
      "54\n",
      "67\n",
      "37\n",
      "54\n",
      "51\n",
      "57\n",
      "16\n",
      "41\n",
      "61\n",
      "44\n",
      "27\n",
      "62\n",
      "23\n",
      "71\n",
      "74\n",
      "11\n",
      "21\n",
      "65\n",
      "26\n",
      "87\n",
      "61\n",
      "14\n",
      "23\n",
      "73\n",
      "69\n",
      "70\n",
      "35\n",
      "78\n",
      "57\n",
      "18\n",
      "57\n",
      "82\n",
      "75\n",
      "75\n",
      "54\n",
      "43\n",
      "18\n",
      "84\n",
      "24\n",
      "63\n",
      "74\n",
      "24\n",
      "20\n",
      "87\n",
      "40\n",
      "69\n",
      "54\n",
      "71\n",
      "79\n",
      "16\n",
      "40\n",
      "27\n",
      "71\n",
      "41\n",
      "25\n",
      "24\n",
      "26\n",
      "52\n",
      "84\n",
      "13\n",
      "28\n",
      "70\n",
      "28\n",
      "72\n",
      "12\n",
      "59\n",
      "56\n",
      "31\n",
      "14\n",
      "37\n",
      "48\n",
      "88\n",
      "76\n",
      "33\n",
      "58\n",
      "36\n",
      "66\n",
      "50\n",
      "50\n",
      "19\n",
      "86\n",
      "38\n",
      "59\n",
      "19\n",
      "47\n",
      "19\n",
      "49\n",
      "34\n",
      "21\n",
      "24\n",
      "19\n",
      "89\n",
      "50\n",
      "36\n",
      "83\n",
      "51\n",
      "59\n",
      "38\n",
      "49\n",
      "29\n",
      "36\n",
      "67\n",
      "50\n",
      "88\n",
      "48\n",
      "87\n",
      "72\n",
      "14\n",
      "59\n",
      "66\n",
      "11\n",
      "84\n",
      "81\n",
      "44\n",
      "10\n",
      "55\n",
      "12\n",
      "13\n",
      "62\n",
      "88\n",
      "46\n",
      "53\n",
      "48\n",
      "62\n",
      "35\n",
      "40\n",
      "29\n",
      "62\n",
      "77\n",
      "56\n",
      "45\n",
      "55\n",
      "38\n",
      "46\n",
      "65\n",
      "28\n",
      "77\n",
      "64\n",
      "88\n",
      "74\n",
      "44\n",
      "63\n",
      "34\n",
      "81\n",
      "17\n",
      "57\n",
      "36\n",
      "12\n",
      "80\n",
      "33\n",
      "88\n"
     ]
    }
   ],
   "source": [
    "# nditer()\n",
    "arr = np.random.randint(10, 90, (8, 7, 5))\n",
    "print(arr)\n",
    "print(arr.ndim)\n",
    "print(arr.shape)\n",
    "print() \n",
    "print(\"--------------------------------------------\")\n",
    "\n",
    "for val in np.nditer(arr):\n",
    "    print(val)"
   ]
  },
  {
   "cell_type": "code",
   "execution_count": 63,
   "id": "05085471-03f3-48e2-be7f-959884c7fb6b",
   "metadata": {
    "tags": []
   },
   "outputs": [
    {
     "name": "stdout",
     "output_type": "stream",
     "text": [
      "[[[24 10 45 68 43]\n",
      "  [80 79 56 42 71]\n",
      "  [20 25 84 82 45]\n",
      "  [14 89 57 21 77]\n",
      "  [25 23 50 74 36]\n",
      "  [45 28 68 24 52]\n",
      "  [76 57 50 47 37]]\n",
      "\n",
      " [[84 57 50 73 85]\n",
      "  [63 38 81 72 60]\n",
      "  [55 20 44 72 63]\n",
      "  [87 68 21 19 60]\n",
      "  [74 79 60 21 83]\n",
      "  [57 85 12 40 63]\n",
      "  [70 49 71 40 87]]\n",
      "\n",
      " [[41 11 55 64 79]\n",
      "  [85 40 66 82 34]\n",
      "  [37 57 42 85 56]\n",
      "  [80 46 52 73 73]\n",
      "  [58 85 53 73 73]\n",
      "  [19 20 68 35 70]\n",
      "  [61 51 62 84 40]]\n",
      "\n",
      " [[25 47 18 16 28]\n",
      "  [60 35 48 46 58]\n",
      "  [28 70 82 29 10]\n",
      "  [38 55 67 16 29]\n",
      "  [31 34 69 40 10]\n",
      "  [67 64 74 15 63]\n",
      "  [54 15 77 49 36]]\n",
      "\n",
      " [[63 25 56 70 51]\n",
      "  [70 71 84 48 57]\n",
      "  [11 18 25 15 68]\n",
      "  [82 81 68 12 62]\n",
      "  [84 27 63 62 41]\n",
      "  [16 86 40 69 40]\n",
      "  [61 57 18 54 24]]\n",
      "\n",
      " [[77 89 11 45 33]\n",
      "  [60 44 38 19 57]\n",
      "  [43 34 27 20 26]\n",
      "  [52 44 89 55 18]\n",
      "  [69 42 70 30 66]\n",
      "  [29 16 38 54 83]\n",
      "  [13 71 36 86 66]]\n",
      "\n",
      " [[17 48 67 16 88]\n",
      "  [69 17 34 50 32]\n",
      "  [53 51 37 56 29]\n",
      "  [75 69 80 65 28]\n",
      "  [39 52 77 38 32]\n",
      "  [81 45 80 68 36]\n",
      "  [20 52 29 13 87]]\n",
      "\n",
      " [[44 75 84 59 24]\n",
      "  [11 58 24 74 76]\n",
      "  [83 45 15 27 25]\n",
      "  [74 16 63 76 47]\n",
      "  [72 62 62 22 50]\n",
      "  [13 22 40 42 51]\n",
      "  [21 37 27 70 48]]]\n",
      "3\n",
      "(8, 7, 5)\n",
      "\n",
      "(0, 0, 0) 24\n",
      "(0, 0, 1) 10\n",
      "(0, 0, 2) 45\n",
      "(0, 0, 3) 68\n",
      "(0, 0, 4) 43\n",
      "(0, 1, 0) 80\n",
      "(0, 1, 1) 79\n",
      "(0, 1, 2) 56\n",
      "(0, 1, 3) 42\n",
      "(0, 1, 4) 71\n",
      "(0, 2, 0) 20\n",
      "(0, 2, 1) 25\n",
      "(0, 2, 2) 84\n",
      "(0, 2, 3) 82\n",
      "(0, 2, 4) 45\n",
      "(0, 3, 0) 14\n",
      "(0, 3, 1) 89\n",
      "(0, 3, 2) 57\n",
      "(0, 3, 3) 21\n",
      "(0, 3, 4) 77\n",
      "(0, 4, 0) 25\n",
      "(0, 4, 1) 23\n",
      "(0, 4, 2) 50\n",
      "(0, 4, 3) 74\n",
      "(0, 4, 4) 36\n",
      "(0, 5, 0) 45\n",
      "(0, 5, 1) 28\n",
      "(0, 5, 2) 68\n",
      "(0, 5, 3) 24\n",
      "(0, 5, 4) 52\n",
      "(0, 6, 0) 76\n",
      "(0, 6, 1) 57\n",
      "(0, 6, 2) 50\n",
      "(0, 6, 3) 47\n",
      "(0, 6, 4) 37\n",
      "(1, 0, 0) 84\n",
      "(1, 0, 1) 57\n",
      "(1, 0, 2) 50\n",
      "(1, 0, 3) 73\n",
      "(1, 0, 4) 85\n",
      "(1, 1, 0) 63\n",
      "(1, 1, 1) 38\n",
      "(1, 1, 2) 81\n",
      "(1, 1, 3) 72\n",
      "(1, 1, 4) 60\n",
      "(1, 2, 0) 55\n",
      "(1, 2, 1) 20\n",
      "(1, 2, 2) 44\n",
      "(1, 2, 3) 72\n",
      "(1, 2, 4) 63\n",
      "(1, 3, 0) 87\n",
      "(1, 3, 1) 68\n",
      "(1, 3, 2) 21\n",
      "(1, 3, 3) 19\n",
      "(1, 3, 4) 60\n",
      "(1, 4, 0) 74\n",
      "(1, 4, 1) 79\n",
      "(1, 4, 2) 60\n",
      "(1, 4, 3) 21\n",
      "(1, 4, 4) 83\n",
      "(1, 5, 0) 57\n",
      "(1, 5, 1) 85\n",
      "(1, 5, 2) 12\n",
      "(1, 5, 3) 40\n",
      "(1, 5, 4) 63\n",
      "(1, 6, 0) 70\n",
      "(1, 6, 1) 49\n",
      "(1, 6, 2) 71\n",
      "(1, 6, 3) 40\n",
      "(1, 6, 4) 87\n",
      "(2, 0, 0) 41\n",
      "(2, 0, 1) 11\n",
      "(2, 0, 2) 55\n",
      "(2, 0, 3) 64\n",
      "(2, 0, 4) 79\n",
      "(2, 1, 0) 85\n",
      "(2, 1, 1) 40\n",
      "(2, 1, 2) 66\n",
      "(2, 1, 3) 82\n",
      "(2, 1, 4) 34\n",
      "(2, 2, 0) 37\n",
      "(2, 2, 1) 57\n",
      "(2, 2, 2) 42\n",
      "(2, 2, 3) 85\n",
      "(2, 2, 4) 56\n",
      "(2, 3, 0) 80\n",
      "(2, 3, 1) 46\n",
      "(2, 3, 2) 52\n",
      "(2, 3, 3) 73\n",
      "(2, 3, 4) 73\n",
      "(2, 4, 0) 58\n",
      "(2, 4, 1) 85\n",
      "(2, 4, 2) 53\n",
      "(2, 4, 3) 73\n",
      "(2, 4, 4) 73\n",
      "(2, 5, 0) 19\n",
      "(2, 5, 1) 20\n",
      "(2, 5, 2) 68\n",
      "(2, 5, 3) 35\n",
      "(2, 5, 4) 70\n",
      "(2, 6, 0) 61\n",
      "(2, 6, 1) 51\n",
      "(2, 6, 2) 62\n",
      "(2, 6, 3) 84\n",
      "(2, 6, 4) 40\n",
      "(3, 0, 0) 25\n",
      "(3, 0, 1) 47\n",
      "(3, 0, 2) 18\n",
      "(3, 0, 3) 16\n",
      "(3, 0, 4) 28\n",
      "(3, 1, 0) 60\n",
      "(3, 1, 1) 35\n",
      "(3, 1, 2) 48\n",
      "(3, 1, 3) 46\n",
      "(3, 1, 4) 58\n",
      "(3, 2, 0) 28\n",
      "(3, 2, 1) 70\n",
      "(3, 2, 2) 82\n",
      "(3, 2, 3) 29\n",
      "(3, 2, 4) 10\n",
      "(3, 3, 0) 38\n",
      "(3, 3, 1) 55\n",
      "(3, 3, 2) 67\n",
      "(3, 3, 3) 16\n",
      "(3, 3, 4) 29\n",
      "(3, 4, 0) 31\n",
      "(3, 4, 1) 34\n",
      "(3, 4, 2) 69\n",
      "(3, 4, 3) 40\n",
      "(3, 4, 4) 10\n",
      "(3, 5, 0) 67\n",
      "(3, 5, 1) 64\n",
      "(3, 5, 2) 74\n",
      "(3, 5, 3) 15\n",
      "(3, 5, 4) 63\n",
      "(3, 6, 0) 54\n",
      "(3, 6, 1) 15\n",
      "(3, 6, 2) 77\n",
      "(3, 6, 3) 49\n",
      "(3, 6, 4) 36\n",
      "(4, 0, 0) 63\n",
      "(4, 0, 1) 25\n",
      "(4, 0, 2) 56\n",
      "(4, 0, 3) 70\n",
      "(4, 0, 4) 51\n",
      "(4, 1, 0) 70\n",
      "(4, 1, 1) 71\n",
      "(4, 1, 2) 84\n",
      "(4, 1, 3) 48\n",
      "(4, 1, 4) 57\n",
      "(4, 2, 0) 11\n",
      "(4, 2, 1) 18\n",
      "(4, 2, 2) 25\n",
      "(4, 2, 3) 15\n",
      "(4, 2, 4) 68\n",
      "(4, 3, 0) 82\n",
      "(4, 3, 1) 81\n",
      "(4, 3, 2) 68\n",
      "(4, 3, 3) 12\n",
      "(4, 3, 4) 62\n",
      "(4, 4, 0) 84\n",
      "(4, 4, 1) 27\n",
      "(4, 4, 2) 63\n",
      "(4, 4, 3) 62\n",
      "(4, 4, 4) 41\n",
      "(4, 5, 0) 16\n",
      "(4, 5, 1) 86\n",
      "(4, 5, 2) 40\n",
      "(4, 5, 3) 69\n",
      "(4, 5, 4) 40\n",
      "(4, 6, 0) 61\n",
      "(4, 6, 1) 57\n",
      "(4, 6, 2) 18\n",
      "(4, 6, 3) 54\n",
      "(4, 6, 4) 24\n",
      "(5, 0, 0) 77\n",
      "(5, 0, 1) 89\n",
      "(5, 0, 2) 11\n",
      "(5, 0, 3) 45\n",
      "(5, 0, 4) 33\n",
      "(5, 1, 0) 60\n",
      "(5, 1, 1) 44\n",
      "(5, 1, 2) 38\n",
      "(5, 1, 3) 19\n",
      "(5, 1, 4) 57\n",
      "(5, 2, 0) 43\n",
      "(5, 2, 1) 34\n",
      "(5, 2, 2) 27\n",
      "(5, 2, 3) 20\n",
      "(5, 2, 4) 26\n",
      "(5, 3, 0) 52\n",
      "(5, 3, 1) 44\n",
      "(5, 3, 2) 89\n",
      "(5, 3, 3) 55\n",
      "(5, 3, 4) 18\n",
      "(5, 4, 0) 69\n",
      "(5, 4, 1) 42\n",
      "(5, 4, 2) 70\n",
      "(5, 4, 3) 30\n",
      "(5, 4, 4) 66\n",
      "(5, 5, 0) 29\n",
      "(5, 5, 1) 16\n",
      "(5, 5, 2) 38\n",
      "(5, 5, 3) 54\n",
      "(5, 5, 4) 83\n",
      "(5, 6, 0) 13\n",
      "(5, 6, 1) 71\n",
      "(5, 6, 2) 36\n",
      "(5, 6, 3) 86\n",
      "(5, 6, 4) 66\n",
      "(6, 0, 0) 17\n",
      "(6, 0, 1) 48\n",
      "(6, 0, 2) 67\n",
      "(6, 0, 3) 16\n",
      "(6, 0, 4) 88\n",
      "(6, 1, 0) 69\n",
      "(6, 1, 1) 17\n",
      "(6, 1, 2) 34\n",
      "(6, 1, 3) 50\n",
      "(6, 1, 4) 32\n",
      "(6, 2, 0) 53\n",
      "(6, 2, 1) 51\n",
      "(6, 2, 2) 37\n",
      "(6, 2, 3) 56\n",
      "(6, 2, 4) 29\n",
      "(6, 3, 0) 75\n",
      "(6, 3, 1) 69\n",
      "(6, 3, 2) 80\n",
      "(6, 3, 3) 65\n",
      "(6, 3, 4) 28\n",
      "(6, 4, 0) 39\n",
      "(6, 4, 1) 52\n",
      "(6, 4, 2) 77\n",
      "(6, 4, 3) 38\n",
      "(6, 4, 4) 32\n",
      "(6, 5, 0) 81\n",
      "(6, 5, 1) 45\n",
      "(6, 5, 2) 80\n",
      "(6, 5, 3) 68\n",
      "(6, 5, 4) 36\n",
      "(6, 6, 0) 20\n",
      "(6, 6, 1) 52\n",
      "(6, 6, 2) 29\n",
      "(6, 6, 3) 13\n",
      "(6, 6, 4) 87\n",
      "(7, 0, 0) 44\n",
      "(7, 0, 1) 75\n",
      "(7, 0, 2) 84\n",
      "(7, 0, 3) 59\n",
      "(7, 0, 4) 24\n",
      "(7, 1, 0) 11\n",
      "(7, 1, 1) 58\n",
      "(7, 1, 2) 24\n",
      "(7, 1, 3) 74\n",
      "(7, 1, 4) 76\n",
      "(7, 2, 0) 83\n",
      "(7, 2, 1) 45\n",
      "(7, 2, 2) 15\n",
      "(7, 2, 3) 27\n",
      "(7, 2, 4) 25\n",
      "(7, 3, 0) 74\n",
      "(7, 3, 1) 16\n",
      "(7, 3, 2) 63\n",
      "(7, 3, 3) 76\n",
      "(7, 3, 4) 47\n",
      "(7, 4, 0) 72\n",
      "(7, 4, 1) 62\n",
      "(7, 4, 2) 62\n",
      "(7, 4, 3) 22\n",
      "(7, 4, 4) 50\n",
      "(7, 5, 0) 13\n",
      "(7, 5, 1) 22\n",
      "(7, 5, 2) 40\n",
      "(7, 5, 3) 42\n",
      "(7, 5, 4) 51\n",
      "(7, 6, 0) 21\n",
      "(7, 6, 1) 37\n",
      "(7, 6, 2) 27\n",
      "(7, 6, 3) 70\n",
      "(7, 6, 4) 48\n"
     ]
    }
   ],
   "source": [
    "# ndenumerate()\n",
    "arr = np.random.randint(10, 90, (8, 7, 5))\n",
    "print(arr)\n",
    "print(arr.ndim)\n",
    "print(arr.shape)\n",
    "print() \n",
    "\n",
    "for idx, val in np.ndenumerate(arr):\n",
    "    print(idx, val)"
   ]
  },
  {
   "cell_type": "markdown",
   "id": "69332e4f-375e-4c30-894a-5c2abab39045",
   "metadata": {
    "tags": []
   },
   "source": [
    "## **Copy vs View in Numpy Arrays**\n",
    "- Both are use to copy the array\n",
    "- arr.view() for the shallow copy\n",
    "- arr.copy() for the deep copy"
   ]
  },
  {
   "cell_type": "code",
   "execution_count": 64,
   "id": "91e55d26-87f8-432e-b559-8242aaf80140",
   "metadata": {
    "tags": []
   },
   "outputs": [
    {
     "name": "stdout",
     "output_type": "stream",
     "text": [
      "copy() : \n",
      "[1 2 3 4]\n",
      "[1 2 3 4]\n",
      "\n",
      "[1 2 3 4]\n",
      "[ 1  2 45  4]\n",
      "\n",
      "[1 7 3 4]\n",
      "[ 1  2 45  4]\n",
      "\n",
      "----------------------------------------------\n",
      "view() : \n",
      "[2 4 6 8]\n",
      "[2 4 6 8]\n",
      "\n",
      "[ 2  4 14  8]\n",
      "[ 2  4 14  8]\n",
      "\n",
      "[ 2 78 14  8]\n",
      "[ 2 78 14  8]\n",
      "\n"
     ]
    }
   ],
   "source": [
    "# copy() # Deep Copy\n",
    "print(\"copy() : \")\n",
    "arr1 = np.array([x for x in range(1, 5)])\n",
    "print(arr1)\n",
    "cp = arr1.copy()\n",
    "print(cp)\n",
    "print()\n",
    "\n",
    "cp[2] = 45\n",
    "print(arr1)\n",
    "print(cp)\n",
    "print()\n",
    "\n",
    "arr1[1] = 7\n",
    "print(arr1)\n",
    "print(cp)\n",
    "print()\n",
    "\n",
    "print(\"----------------------------------------------\")\n",
    "\n",
    "# view() # Shallow copy\n",
    "print(\"view() : \")\n",
    "arr2 = np.array([x*2 for x in range(1, 5)])\n",
    "print(arr2)\n",
    "vw = arr2.view()\n",
    "print(vw)\n",
    "print()\n",
    "\n",
    "vw[2] = 14\n",
    "print(arr2)\n",
    "print(vw)\n",
    "print()\n",
    "\n",
    "arr2[1] = 78\n",
    "print(arr2)\n",
    "print(vw)\n",
    "print()"
   ]
  },
  {
   "cell_type": "markdown",
   "id": "1c3190eb-7a84-4c45-acfc-a8311d4cbf91",
   "metadata": {},
   "source": [
    "## **Joining & Split Numpy Arrays**\n",
    "### **Using :** *concatenate, stack, array_split*\n",
    "- **Join Array :** Joining means putting contents of two or more arrays in a single array."
   ]
  },
  {
   "cell_type": "markdown",
   "id": "9dc63017-1bef-4530-9a4e-63d97f9a4e18",
   "metadata": {},
   "source": [
    "### **Join Array**"
   ]
  },
  {
   "cell_type": "code",
   "execution_count": 65,
   "id": "1a7ee7fb-4af1-4690-9e04-a19c39a42279",
   "metadata": {
    "tags": []
   },
   "outputs": [
    {
     "name": "stdout",
     "output_type": "stream",
     "text": [
      "[1 2 3 4]\n",
      "[ 7 14 21 28]\n",
      "[ 1  2  3  4  7 14 21 28]\n"
     ]
    }
   ],
   "source": [
    "# joinint of 2 1D array\n",
    "arr1 = np.array([x for x in range(1, 5)])\n",
    "arr2 = np.array([x*7 for x in range(1, 5)])\n",
    "print(arr1)\n",
    "print(arr2)\n",
    "\n",
    "arr = np.concatenate((arr1, arr2))\n",
    "print(arr)\n"
   ]
  },
  {
   "cell_type": "code",
   "execution_count": 66,
   "id": "287e5fa2-fc0c-4757-8aee-1b6e3114b3a6",
   "metadata": {
    "tags": []
   },
   "outputs": [
    {
     "name": "stdout",
     "output_type": "stream",
     "text": [
      "[[1 2 3]\n",
      " [4 5 6]\n",
      " [7 8 9]]\n",
      "\n",
      "[[ 7 14 21]\n",
      " [28 35 42]\n",
      " [49 56 63]]\n",
      "\n",
      "[[ 1  2  3  7 14 21]\n",
      " [ 4  5  6 28 35 42]\n",
      " [ 7  8  9 49 56 63]]\n",
      "\n",
      "[[ 1  2  3]\n",
      " [ 4  5  6]\n",
      " [ 7  8  9]\n",
      " [ 7 14 21]\n",
      " [28 35 42]\n",
      " [49 56 63]]\n",
      "\n"
     ]
    }
   ],
   "source": [
    "arr1 = np.array([x for x in range(1, 10)]).reshape(3, 3)\n",
    "arr2 = np.array([x*7 for x in range(1, 10)]).reshape(3, 3)\n",
    "print(arr1); print()\n",
    "print(arr2); print()\n",
    "\n",
    "arr = np.concatenate((arr1, arr2), axis=1) # axis=1 : row     similar to hstack\n",
    "print(arr); print()\n",
    "\n",
    "arr = np.concatenate((arr1, arr2), axis=0) # axis=0 : col     similar to vstack\n",
    "print(arr); print()\n"
   ]
  },
  {
   "cell_type": "markdown",
   "id": "76ab59c5-b54b-44f2-b746-9efbce06aa68",
   "metadata": {},
   "source": [
    "### **stack, hstack, vstack, dstack Arrays**"
   ]
  },
  {
   "cell_type": "code",
   "execution_count": 67,
   "id": "e1e0c243-97a7-453a-9418-da11879800e0",
   "metadata": {
    "tags": []
   },
   "outputs": [
    {
     "name": "stdout",
     "output_type": "stream",
     "text": [
      "[[1 2 3]\n",
      " [4 5 6]\n",
      " [7 8 9]]\n",
      "\n",
      "[[10 20 30]\n",
      " [40 50 60]\n",
      " [70 80 90]]\n",
      "\n",
      "===================================================\n",
      "axis=1 : \n",
      "[[[ 1  2  3]\n",
      "  [10 20 30]]\n",
      "\n",
      " [[ 4  5  6]\n",
      "  [40 50 60]]\n",
      "\n",
      " [[ 7  8  9]\n",
      "  [70 80 90]]]\n",
      "(3, 2, 3)\n",
      "\n",
      "---------------------------------------------------\n",
      "axis=0 : \n",
      "[[[ 1  2  3]\n",
      "  [ 4  5  6]\n",
      "  [ 7  8  9]]\n",
      "\n",
      " [[10 20 30]\n",
      "  [40 50 60]\n",
      "  [70 80 90]]]\n",
      "(2, 3, 3)\n",
      "\n",
      "---------------------------------------------------\n",
      "axis=-1 : \n",
      "[[[ 1 10]\n",
      "  [ 2 20]\n",
      "  [ 3 30]]\n",
      "\n",
      " [[ 4 40]\n",
      "  [ 5 50]\n",
      "  [ 6 60]]\n",
      "\n",
      " [[ 7 70]\n",
      "  [ 8 80]\n",
      "  [ 9 90]]]\n",
      "(3, 3, 2)\n",
      "\n",
      "---------------------------------------------------\n",
      "\n",
      "===================================================\n",
      "\n",
      "stack : \n",
      "[[[ 1  2  3]\n",
      "  [ 4  5  6]\n",
      "  [ 7  8  9]]\n",
      "\n",
      " [[10 20 30]\n",
      "  [40 50 60]\n",
      "  [70 80 90]]]\n",
      "\n",
      "---------------------------------------------------\n",
      "hstack : \n",
      "[[ 1  2  3 10 20 30]\n",
      " [ 4  5  6 40 50 60]\n",
      " [ 7  8  9 70 80 90]]\n",
      "\n",
      "---------------------------------------------------\n",
      "vstack : \n",
      "[[ 1  2  3]\n",
      " [ 4  5  6]\n",
      " [ 7  8  9]\n",
      " [10 20 30]\n",
      " [40 50 60]\n",
      " [70 80 90]]\n",
      "\n",
      "---------------------------------------------------\n",
      "dstack : \n",
      "[[[ 1 10]\n",
      "  [ 2 20]\n",
      "  [ 3 30]]\n",
      "\n",
      " [[ 4 40]\n",
      "  [ 5 50]\n",
      "  [ 6 60]]\n",
      "\n",
      " [[ 7 70]\n",
      "  [ 8 80]\n",
      "  [ 9 90]]]\n",
      "\n",
      "---------------------------------------------------\n"
     ]
    }
   ],
   "source": [
    "arr1 = np.array([x for x in range(1, 10)]).reshape(3, 3)\n",
    "arr2 = np.array([x*10 for x in range(1, 10)]).reshape(3, 3)\n",
    "print(arr1); print()\n",
    "print(arr2); print()\n",
    "\n",
    "print(\"===================================================\")\n",
    "print(\"axis=1 : \")\n",
    "arr = np.stack((arr1, arr2), axis=1) # axis=1 : row\n",
    "print(arr)\n",
    "print(arr.shape)\n",
    "print()\n",
    "print(\"---------------------------------------------------\")\n",
    "\n",
    "print(\"axis=0 : \")\n",
    "arr = np.stack((arr1, arr2), axis=0) # axis=0 : col\n",
    "print(arr)\n",
    "print(arr.shape)\n",
    "print()\n",
    "print(\"---------------------------------------------------\")\n",
    "\n",
    "print(\"axis=-1 : \")\n",
    "arr = np.stack((arr1, arr2), axis=-1) # axis=-1 : height\n",
    "print(arr)\n",
    "print(arr.shape)\n",
    "print()\n",
    "print(\"---------------------------------------------------\")\n",
    "\n",
    "print()\n",
    "print(\"===================================================\")\n",
    "print()\n",
    "\n",
    "print(\"stack : \")\n",
    "arr = np.stack((arr1, arr2))\n",
    "print(arr); print()\n",
    "print(\"---------------------------------------------------\")\n",
    "\n",
    "print(\"hstack : \")\n",
    "arr = np.hstack((arr1, arr2)) # h: horizontal\n",
    "print(arr); print()\n",
    "print(\"---------------------------------------------------\")\n",
    "\n",
    "print(\"vstack : \")\n",
    "arr = np.vstack((arr1, arr2)) # v: vertical\n",
    "print(arr); print()\n",
    "print(\"---------------------------------------------------\")\n",
    "\n",
    "print(\"dstack : \")\n",
    "arr = np.dstack((arr1, arr2)) # d: height\n",
    "print(arr); print()\n",
    "print(\"---------------------------------------------------\")"
   ]
  },
  {
   "cell_type": "markdown",
   "id": "fe5432e8-2fca-46e9-a46a-f247607be588",
   "metadata": {},
   "source": [
    "### **array_split Array**"
   ]
  },
  {
   "cell_type": "code",
   "execution_count": 68,
   "id": "ff79dbda-3ea6-4ec6-9d47-dd2cc2822165",
   "metadata": {
    "tags": []
   },
   "outputs": [
    {
     "name": "stdout",
     "output_type": "stream",
     "text": [
      "[1 2 3 4 5 6 7 8 9]\n",
      "\n",
      "[array([1, 2, 3]), array([4, 5, 6]), array([7, 8, 9])]\n",
      "\n",
      "[1 2 3]\n",
      "\n",
      "[4 5 6]\n",
      "\n",
      "[7 8 9]\n",
      "\n",
      "[1 2 3]\n",
      "[4 5 6]\n",
      "[7 8 9]\n"
     ]
    }
   ],
   "source": [
    "arr = np.array([x for x in range(1, 10)])\n",
    "print(arr); print()\n",
    "sarr = np.array_split(arr, 3)\n",
    "print(sarr); print()\n",
    "\n",
    "print(sarr[0]); print()\n",
    "print(sarr[1]); print()\n",
    "print(sarr[2]); print()\n",
    "\n",
    "for a in iter(sarr):\n",
    "    print(a)"
   ]
  },
  {
   "cell_type": "code",
   "execution_count": 69,
   "id": "86ed8543-a65a-47cb-ba9a-c22b00eae576",
   "metadata": {
    "tags": []
   },
   "outputs": [
    {
     "name": "stdout",
     "output_type": "stream",
     "text": [
      "[1 2 3 4 5 6 7 8 9]\n",
      "\n",
      "[array([1, 2, 3, 4, 5]), array([6, 7, 8, 9])]\n",
      "\n",
      "[array([1, 2, 3]), array([4, 5, 6]), array([7, 8, 9])]\n",
      "\n",
      "[array([1, 2, 3]), array([4, 5]), array([6, 7]), array([8, 9])]\n",
      "\n",
      "[array([1, 2]), array([3, 4]), array([5, 6]), array([7, 8]), array([9])]\n",
      "\n"
     ]
    }
   ],
   "source": [
    "arr = np.array([x for x in range(1, 10)])\n",
    "print(arr); print()\n",
    "sarr = np.array_split(arr, 2)\n",
    "print(sarr); print()\n",
    "\n",
    "sarr = np.array_split(arr, 3)\n",
    "print(sarr); print()\n",
    "\n",
    "sarr = np.array_split(arr, 4)\n",
    "print(sarr); print()\n",
    "\n",
    "sarr = np.array_split(arr, 5)\n",
    "print(sarr); print()"
   ]
  },
  {
   "cell_type": "code",
   "execution_count": 70,
   "id": "2dfda209-a99a-4865-a3b2-f1753a4f13e6",
   "metadata": {
    "tags": []
   },
   "outputs": [
    {
     "name": "stdout",
     "output_type": "stream",
     "text": [
      "[[41 48 27 78]\n",
      " [67 81 63 85]\n",
      " [45 85 33 85]]\n",
      "\n",
      "[array([[41, 48, 27, 78]]), array([[67, 81, 63, 85]]), array([[45, 85, 33, 85]])]\n",
      "\n",
      "[array([[41, 48, 27, 78]]), array([[67, 81, 63, 85]]), array([[45, 85, 33, 85]]), array([], shape=(0, 4), dtype=int64)]\n",
      "\n",
      "[array([[41, 48, 27, 78]]), array([[67, 81, 63, 85]]), array([[45, 85, 33, 85]]), array([], shape=(0, 4), dtype=int64), array([], shape=(0, 4), dtype=int64)]\n",
      "\n"
     ]
    }
   ],
   "source": [
    "arr = np.random.randint(10, 90, (3, 4))\n",
    "print(arr); print()\n",
    "\n",
    "sarr = np.array_split(arr, 3)\n",
    "print(sarr); print()\n",
    "\n",
    "sarr = np.array_split(arr, 4)\n",
    "print(sarr); print()\n",
    "\n",
    "sarr = np.array_split(arr, 5)\n",
    "print(sarr); print()"
   ]
  },
  {
   "cell_type": "code",
   "execution_count": 71,
   "id": "20607602-008f-49f6-989a-2161f2089d3a",
   "metadata": {
    "tags": []
   },
   "outputs": [
    {
     "name": "stdout",
     "output_type": "stream",
     "text": [
      "[32 12 18 51 44 82 10 37 32 40 73 61]\n",
      "\n",
      "[array([32, 12, 18, 51]), array([44, 82, 10, 37]), array([32, 40, 73, 61])]\n",
      "\n",
      "[array([32, 12, 18]), array([51, 44, 82]), array([10, 37, 32]), array([40, 73, 61])]\n",
      "\n",
      "[array([32, 12, 18]), array([51, 44, 82]), array([10, 37]), array([32, 40]), array([73, 61])]\n",
      "\n",
      "[array([32, 12]), array([18, 51]), array([44, 82]), array([10, 37]), array([32, 40]), array([73, 61])]\n",
      "\n"
     ]
    }
   ],
   "source": [
    "arr = np.random.randint(10, 90, (3, 4)).reshape(-1)\n",
    "print(arr); print()\n",
    "\n",
    "sarr = np.array_split(arr, 3)\n",
    "print(sarr); print()\n",
    "\n",
    "sarr = np.array_split(arr, 4)\n",
    "print(sarr); print()\n",
    "\n",
    "sarr = np.array_split(arr, 5)\n",
    "print(sarr); print()\n",
    "\n",
    "sarr = np.array_split(arr, 6)\n",
    "print(sarr); print()\n"
   ]
  },
  {
   "cell_type": "code",
   "execution_count": 72,
   "id": "f6ad75e8-631e-458e-b5d6-26200345225c",
   "metadata": {
    "tags": []
   },
   "outputs": [
    {
     "name": "stdout",
     "output_type": "stream",
     "text": [
      "[[16 58 10 53]\n",
      " [37 23 14 53]\n",
      " [23 40 81 35]]\n",
      "-----------------------------------\n",
      "\n",
      "[[16 58]\n",
      " [37 23]\n",
      " [23 40]]\n",
      "\n",
      "[[10 53]\n",
      " [14 53]\n",
      " [81 35]]\n",
      "\n",
      "-----------------------------------\n",
      "\n",
      "[[16 58]\n",
      " [37 23]\n",
      " [23 40]]\n",
      "\n",
      "[[10]\n",
      " [14]\n",
      " [81]]\n",
      "\n",
      "[[53]\n",
      " [53]\n",
      " [35]]\n",
      "\n",
      "-----------------------------------\n",
      "\n",
      "[[16]\n",
      " [37]\n",
      " [23]]\n",
      "\n",
      "[[58]\n",
      " [23]\n",
      " [40]]\n",
      "\n",
      "[[10]\n",
      " [14]\n",
      " [81]]\n",
      "\n",
      "[[53]\n",
      " [53]\n",
      " [35]]\n",
      "\n",
      "-----------------------------------\n",
      "\n",
      "[[16]\n",
      " [37]\n",
      " [23]]\n",
      "\n",
      "[[58]\n",
      " [23]\n",
      " [40]]\n",
      "\n",
      "[[10]\n",
      " [14]\n",
      " [81]]\n",
      "\n",
      "[[53]\n",
      " [53]\n",
      " [35]]\n",
      "\n",
      "[]\n",
      "\n",
      "-----------------------------------\n",
      "\n"
     ]
    }
   ],
   "source": [
    "# split along row\n",
    "arr = np.random.randint(10, 90, (3, 4))\n",
    "print(arr)\n",
    "print(\"-----------------------------------\")\n",
    "print()\n",
    "\n",
    "sarr = np.array_split(arr, 2, axis=1)\n",
    "for ar in sarr:\n",
    "    print(ar); print()\n",
    "print(\"-----------------------------------\")\n",
    "print()\n",
    "\n",
    "sarr = np.array_split(arr, 3, axis=1)\n",
    "for ar in sarr:\n",
    "    print(ar); print()\n",
    "print(\"-----------------------------------\")\n",
    "print()\n",
    "\n",
    "sarr = np.array_split(arr, 4, axis=1)\n",
    "for ar in sarr:\n",
    "    print(ar); print()\n",
    "print(\"-----------------------------------\")\n",
    "print()\n",
    "\n",
    "sarr = np.array_split(arr, 5, axis=1)\n",
    "for ar in sarr:\n",
    "    print(ar); print()\n",
    "print(\"-----------------------------------\")\n",
    "print()"
   ]
  },
  {
   "cell_type": "code",
   "execution_count": 73,
   "id": "b50e9c0b-6856-44df-aaad-e9633d06f1c9",
   "metadata": {
    "tags": []
   },
   "outputs": [
    {
     "name": "stdout",
     "output_type": "stream",
     "text": [
      "[[50 36 67 11]\n",
      " [83 51 47 89]\n",
      " [71 20 59 35]]\n",
      "-----------------------------------\n",
      "\n",
      "[[50 36 67 11]\n",
      " [83 51 47 89]]\n",
      "\n",
      "[[71 20 59 35]]\n",
      "\n",
      "-----------------------------------\n",
      "\n",
      "[[50 36 67 11]]\n",
      "\n",
      "[[83 51 47 89]]\n",
      "\n",
      "[[71 20 59 35]]\n",
      "\n",
      "-----------------------------------\n",
      "\n",
      "[[50 36 67 11]]\n",
      "\n",
      "[[83 51 47 89]]\n",
      "\n",
      "[[71 20 59 35]]\n",
      "\n",
      "[]\n",
      "\n",
      "-----------------------------------\n",
      "\n",
      "[[50 36 67 11]]\n",
      "\n",
      "[[83 51 47 89]]\n",
      "\n",
      "[[71 20 59 35]]\n",
      "\n",
      "[]\n",
      "\n",
      "[]\n",
      "\n",
      "-----------------------------------\n",
      "\n"
     ]
    }
   ],
   "source": [
    "# axis=0\n",
    "arr = np.random.randint(10, 90, (3, 4))\n",
    "print(arr)\n",
    "print(\"-----------------------------------\")\n",
    "print()\n",
    "\n",
    "sarr = np.array_split(arr, 2, axis=0)\n",
    "for ar in sarr:\n",
    "    print(ar); print()\n",
    "print(\"-----------------------------------\")\n",
    "print()\n",
    "\n",
    "sarr = np.array_split(arr, 3, axis=0)\n",
    "for ar in sarr:\n",
    "    print(ar); print()\n",
    "print(\"-----------------------------------\")\n",
    "print()\n",
    "\n",
    "sarr = np.array_split(arr, 4, axis=0)\n",
    "for ar in sarr:\n",
    "    print(ar); print()\n",
    "print(\"-----------------------------------\")\n",
    "print()\n",
    "\n",
    "sarr = np.array_split(arr, 5, axis=0)\n",
    "for ar in sarr:\n",
    "    print(ar); print()\n",
    "print(\"-----------------------------------\")\n",
    "print()"
   ]
  },
  {
   "cell_type": "markdown",
   "id": "4bb4f87c-0c02-4bc4-8745-2415104a1a41",
   "metadata": {},
   "source": [
    "## **NumPy Arrays Functions**\n",
    "- **Search :** Search an array for a certain value, and return the indexes that get a match \n",
    "- **Search Sorted :** Which performs a binary search in the array, and returns the index where the specified value would be inserted to maintain\\\n",
    "    the search order.\n",
    "- **Sort :** Sort the array\n",
    "- **Filter Array :** Getting some elements out of an existing array and creating a new array out of them."
   ]
  },
  {
   "cell_type": "markdown",
   "id": "76804b57-5f58-49d3-9706-7ced13baef9b",
   "metadata": {},
   "source": [
    "### **Search**"
   ]
  },
  {
   "cell_type": "code",
   "execution_count": 74,
   "id": "21e561a4-901f-450a-a85f-99c97271c0b5",
   "metadata": {
    "tags": []
   },
   "outputs": [
    {
     "name": "stdout",
     "output_type": "stream",
     "text": [
      "[5 2 7 5 5 3 3 3 3 7 7 2 4 3 6 5]\n",
      "\n"
     ]
    }
   ],
   "source": [
    "arr = np.random.randint(1, 9, 16)\n",
    "print(arr)\n",
    "print()"
   ]
  },
  {
   "cell_type": "code",
   "execution_count": 75,
   "id": "3d95e037-4eaa-4e04-bfd3-e5f23102cf8f",
   "metadata": {
    "tags": []
   },
   "outputs": [
    {
     "name": "stdout",
     "output_type": "stream",
     "text": [
      "(array([ 2,  9, 10]),)\n",
      "\n",
      "(array([ 1, 11, 12, 14]),)\n"
     ]
    }
   ],
   "source": [
    "x = np.where(arr == 7) # array of index\n",
    "print(x); print()\n",
    "\n",
    "x = np.where((arr%2) == 0) # array of index\n",
    "print(x)"
   ]
  },
  {
   "cell_type": "markdown",
   "id": "04f0030e-e29d-44c4-9bac-4792fd1e4c96",
   "metadata": {},
   "source": [
    "### **Searchsorted**"
   ]
  },
  {
   "cell_type": "code",
   "execution_count": 76,
   "id": "e019cb41-458b-4e9f-a9f0-5a5662c72365",
   "metadata": {
    "tags": []
   },
   "outputs": [
    {
     "name": "stdout",
     "output_type": "stream",
     "text": [
      "[1 2 3 4 6 8 9]\n",
      "\n",
      "5\n",
      "5\n",
      "5\n"
     ]
    }
   ],
   "source": [
    "arr = np.array([x for x in range(1, 10) if x!=7 and x!=5])\n",
    "print(arr); print()\n",
    "\n",
    "x = np.searchsorted(arr, 7)\n",
    "print(x)\n",
    "x = np.searchsorted(arr, 7, side=\"right\")\n",
    "print(x)\n",
    "x = np.searchsorted(arr, 7, side=\"left\")\n",
    "print(x)\n"
   ]
  },
  {
   "cell_type": "code",
   "execution_count": 77,
   "id": "898322ae-433c-4221-a10a-88f8ad85e4cc",
   "metadata": {
    "tags": []
   },
   "outputs": [
    {
     "name": "stdout",
     "output_type": "stream",
     "text": [
      "[1 3 5 7 9]\n",
      "\n",
      "[1 2 3 4]\n"
     ]
    }
   ],
   "source": [
    "arr = np.array([x for x in range(1, 10) if x%2!=0])\n",
    "print(arr); print()\n",
    "\n",
    "x = np.searchsorted(arr, [2, 4, 6, 8])\n",
    "print(x)"
   ]
  },
  {
   "cell_type": "markdown",
   "id": "59046599-01ca-4b9f-a464-cd9c16b17daa",
   "metadata": {},
   "source": [
    "### **Sort**"
   ]
  },
  {
   "cell_type": "code",
   "execution_count": 78,
   "id": "2a321713-7cf8-40ba-be76-b6a6c2c5a69f",
   "metadata": {
    "tags": []
   },
   "outputs": [
    {
     "name": "stdout",
     "output_type": "stream",
     "text": [
      "[70 33 44 64 17 72 42 30 33 75]\n",
      "\n",
      "[17 30 33 33 42 44 64 70 72 75]\n"
     ]
    }
   ],
   "source": [
    "arr = np.random.randint(10, 90, 10)\n",
    "print(arr); print()\n",
    "\n",
    "ar = np.sort(arr) # reverse=True not work\n",
    "print(ar)\n"
   ]
  },
  {
   "cell_type": "code",
   "execution_count": 79,
   "id": "d3676fb3-228e-46c9-b36f-fe27f664a9b2",
   "metadata": {
    "tags": []
   },
   "outputs": [
    {
     "name": "stdout",
     "output_type": "stream",
     "text": [
      "[[55 17 54 27 74]\n",
      " [78 16 46 59 42]\n",
      " [49 85 18 43 33]\n",
      " [51 43 60 47 78]]\n",
      "\n",
      "[[17 27 54 55 74]\n",
      " [16 42 46 59 78]\n",
      " [18 33 43 49 85]\n",
      " [43 47 51 60 78]]\n"
     ]
    }
   ],
   "source": [
    "# sort every row of 2D array\n",
    "arr = np.random.randint(10, 90, (4, 5))\n",
    "print(arr); print()\n",
    "\n",
    "ar = np.sort(arr) # reverse=True not work\n",
    "print(ar)\n"
   ]
  },
  {
   "cell_type": "markdown",
   "id": "39a91ad5-ef99-4608-91c1-9446a7abdd65",
   "metadata": {},
   "source": [
    "### **Filter Array**"
   ]
  },
  {
   "cell_type": "code",
   "execution_count": 80,
   "id": "262ef843-4197-4a6d-bb41-c88fa896e260",
   "metadata": {
    "tags": []
   },
   "outputs": [
    {
     "name": "stdout",
     "output_type": "stream",
     "text": [
      "[42 47 76 35 20 62]\n",
      "\n",
      "[True, False, False, True, False, True]\n",
      "[42 35 62]\n"
     ]
    }
   ],
   "source": [
    "arr = np.random.randint(10, 90, 6)\n",
    "print(arr); print()\n",
    "flt = [True, False, False, True, False, True]\n",
    "print(flt)\n",
    "ar = arr[flt] # size of arr = size of flt\n",
    "print(ar)"
   ]
  },
  {
   "cell_type": "markdown",
   "id": "8e1aef70-60db-41ac-83c9-caa8a024bf83",
   "metadata": {},
   "source": [
    "## **Numpy Arrays Functions**\n",
    "### **Arithmetic Functions :**\n",
    "- **Shuffle**\n",
    "- **Unique**\n",
    "- **Resize**\n",
    "- **Flatten**\n",
    "- **Ravel**"
   ]
  },
  {
   "cell_type": "code",
   "execution_count": 81,
   "id": "d1874ecb-5c0b-4d20-b449-61d61c3e2fa8",
   "metadata": {
    "tags": []
   },
   "outputs": [
    {
     "name": "stdout",
     "output_type": "stream",
     "text": [
      "[1 2 3 4 5 6 7 8 9]\n",
      "[8 6 1 9 2 3 7 5 4]\n"
     ]
    }
   ],
   "source": [
    "arr = np.arange(1, 10)\n",
    "print(arr)\n",
    "np.random.shuffle(arr)\n",
    "print(arr)\n"
   ]
  },
  {
   "cell_type": "code",
   "execution_count": 82,
   "id": "00413f6b-e636-4bee-a5a1-add5eda3dc72",
   "metadata": {
    "tags": []
   },
   "outputs": [
    {
     "name": "stdout",
     "output_type": "stream",
     "text": [
      "[8 3 1 6 2 6 2 4 2 7 5 3 3 5 5 6 6 6 7 6]\n",
      "[1 2 3 4 5 6 7 8]\n",
      "(array([1, 2, 3, 4, 5, 6, 7, 8]), array([ 2,  4,  1,  7, 10,  3,  9,  0]), array([1, 3, 3, 1, 3, 6, 2, 1]))\n"
     ]
    }
   ],
   "source": [
    "arr = np.random.randint(1, 9, 20)\n",
    "print(arr)\n",
    "x = np.unique(arr)\n",
    "print(x)\n",
    "\n",
    "x = np.unique(arr, return_index=True, return_counts=True)\n",
    "print(x)"
   ]
  },
  {
   "cell_type": "code",
   "execution_count": 83,
   "id": "b4074778-e3a3-443e-8a26-dd3320b00e07",
   "metadata": {
    "tags": []
   },
   "outputs": [
    {
     "name": "stdout",
     "output_type": "stream",
     "text": [
      "[1 2 3 4 5 6 7 8 9]\n",
      "\n",
      "[[1 2]\n",
      " [3 4]]\n",
      "\n",
      "[[1 2 3]\n",
      " [4 5 6]]\n",
      "\n",
      "[[1 2 3]\n",
      " [4 5 6]\n",
      " [7 8 9]]\n",
      "\n",
      "[[1 2 3]\n",
      " [4 5 6]\n",
      " [7 8 9]\n",
      " [1 2 3]]\n",
      "\n",
      "[[1 2 3 4 5]\n",
      " [6 7 8 9 1]\n",
      " [2 3 4 5 6]\n",
      " [7 8 9 1 2]]\n",
      "\n"
     ]
    }
   ],
   "source": [
    "arr = np.arange(1, 10)\n",
    "print(arr); print()\n",
    "\n",
    "ar = np.resize(arr, (2, 2))\n",
    "print(ar); print()\n",
    "\n",
    "ar = np.resize(arr, (2, 3))\n",
    "print(ar); print()\n",
    "\n",
    "ar = np.resize(arr, (3, 3))\n",
    "print(ar); print()\n",
    "\n",
    "ar = np.resize(arr, (4, 3))\n",
    "print(ar); print()\n",
    "\n",
    "ar = np.resize(arr, (4, 5))\n",
    "print(ar); print()"
   ]
  },
  {
   "cell_type": "markdown",
   "id": "8c51fab6-0f4b-4256-89ec-c20fd526f00e",
   "metadata": {},
   "source": [
    "### **Flatten, Ravel**\n",
    "**Order : {'C', 'F', 'A', 'K'} Optional**\n",
    "- 'C' means to flatten in row-major (C-Style) order.\n",
    "- 'F' means to flatten in column-major (Fortran-style) order.\n",
    "- 'A' means to flatten in column-major order if `a` is Fortran *contiguous* in memory,\\\n",
    "    row-major order otherwise.\n",
    "- 'K' means to flatten `a` in the order the elements occur in memory\n",
    "- The default is 'C'\n",
    "    "
   ]
  },
  {
   "cell_type": "code",
   "execution_count": 84,
   "id": "a84de240-9112-407a-a523-1c730346d06d",
   "metadata": {
    "tags": []
   },
   "outputs": [
    {
     "name": "stdout",
     "output_type": "stream",
     "text": [
      "[[1 2 3]\n",
      " [4 5 6]\n",
      " [7 8 9]]\n",
      "\n",
      "Flatten : \n",
      "[1 2 3 4 5 6 7 8 9]\n",
      "[1 2 3 4 5 6 7 8 9]\n",
      "[1 2 3 4 5 6 7 8 9]\n",
      "[1 4 7 2 5 8 3 6 9]\n",
      "[1 2 3 4 5 6 7 8 9]\n",
      "\n",
      "Ravel : \n",
      "[1 2 3 4 5 6 7 8 9]\n",
      "[1 2 3 4 5 6 7 8 9]\n",
      "[1 2 3 4 5 6 7 8 9]\n",
      "[1 4 7 2 5 8 3 6 9]\n",
      "[1 2 3 4 5 6 7 8 9]\n"
     ]
    }
   ],
   "source": [
    "arr = np.arange(1, 10)\n",
    "arr = np.resize(arr, (3, 3))\n",
    "print(arr); print()\n",
    "\n",
    "print(\"Flatten : \")\n",
    "print(arr.flatten())\n",
    "print(arr.flatten(order=\"A\"))\n",
    "print(arr.flatten(order=\"C\"))\n",
    "print(arr.flatten(order=\"F\"))\n",
    "print(arr.flatten(order=\"K\"))\n",
    "print()\n",
    "print(\"Ravel : \")\n",
    "print(arr.ravel())\n",
    "print(arr.ravel(order=\"A\"))\n",
    "print(arr.ravel(order=\"C\"))\n",
    "print(arr.ravel(order=\"F\"))\n",
    "print(arr.ravel(order=\"K\"))"
   ]
  },
  {
   "cell_type": "markdown",
   "id": "6f1811a4-21e8-4d41-a972-560b00868013",
   "metadata": {},
   "source": [
    "## **Numpy Arrays Functions**\n",
    "### **Insert, append and Delete Function**\n"
   ]
  },
  {
   "cell_type": "markdown",
   "id": "67168c0f-7248-4272-ac56-ccce5e5217f5",
   "metadata": {},
   "source": [
    "### **Insert :** \n",
    "np.insert(_arrayName_, _position_, _value_)"
   ]
  },
  {
   "cell_type": "code",
   "execution_count": 85,
   "id": "66b8151d-838e-4282-9635-9c7d6d44abe5",
   "metadata": {
    "tags": []
   },
   "outputs": [
    {
     "name": "stdout",
     "output_type": "stream",
     "text": [
      "[1 2 3 4 5 6 7 8 9]\n",
      "\n",
      "[ 1 40  2  3  4  5  6  7  8  9]\n",
      "\n",
      "[ 1 78  2  3 54  4  5  6  7  8  9]\n",
      "\n",
      "[ 1 23  2  3 43  4  5 76  6  7 90  8  9]\n",
      "\n",
      "[ 1  2  3  4  5  6  7  8  9 44]\n",
      "[1.  2.  3.  4.  5.  6.  7.  8.  9.  4.6]\n"
     ]
    }
   ],
   "source": [
    "arr = np.arange(1, 10)\n",
    "print(arr); print()\n",
    "\n",
    "ar = np.insert(arr, 1, 40)\n",
    "print(ar); print()\n",
    "\n",
    "ar = np.insert(arr, [1, 3], [78, 54])\n",
    "print(ar); print()\n",
    "\n",
    "idx = [ 1, 3, 5, 7]\n",
    "data = [23, 43, 76, 90] # data type change will give error\n",
    "ar = np.insert(arr, idx, data)\n",
    "print(ar); print()\n",
    "\n",
    "ar = np.append(arr, 44)\n",
    "print(ar)\n",
    "\n",
    "ar = np.append(arr, 4.6)\n",
    "print(ar)"
   ]
  },
  {
   "cell_type": "code",
   "execution_count": 86,
   "id": "f9324c6b-9fca-4eb0-8f7f-2ea69898601e",
   "metadata": {
    "tags": []
   },
   "outputs": [
    {
     "name": "stdout",
     "output_type": "stream",
     "text": [
      "[[1 2 3]\n",
      " [4 5 6]\n",
      " [7 8 9]]\n",
      "\n",
      "[[ 1  2 16  3]\n",
      " [ 4  5 16  6]\n",
      " [ 7  8 16  9]]\n",
      "\n",
      "[[ 1  2  3]\n",
      " [ 4  5  6]\n",
      " [16 16 16]\n",
      " [ 7  8  9]]\n",
      "\n"
     ]
    }
   ],
   "source": [
    "arr = np.arange(1, 10).reshape(3, 3)\n",
    "print(arr); print()\n",
    "\n",
    "ar = np.insert(arr, 2, 16, axis=1)\n",
    "print(ar); print()\n",
    "\n",
    "ar = np.insert(arr, 2, 16, axis=0)  # float value are not allow\n",
    "print(ar); print()"
   ]
  },
  {
   "cell_type": "code",
   "execution_count": 87,
   "id": "7d5679ed-be0f-44e6-91aa-0706ee010769",
   "metadata": {
    "tags": []
   },
   "outputs": [
    {
     "name": "stdout",
     "output_type": "stream",
     "text": [
      "[[1 2 3]\n",
      " [4 5 6]\n",
      " [7 8 9]]\n",
      "\n",
      "[ 1  2 10 20 30  3  4  5  6  7  8  9]\n",
      "\n",
      "[[ 1  2 10  3]\n",
      " [ 4  5 20  6]\n",
      " [ 7  8 30  9]]\n",
      "\n",
      "[[ 1  2  3]\n",
      " [ 4  5  6]\n",
      " [10 20 30]\n",
      " [ 7  8  9]]\n",
      "\n",
      "[ 1  2  3  4  5  6  7  8  9 44]\n",
      "\n",
      "[[ 1  2  3]\n",
      " [ 4  5  6]\n",
      " [ 7  8  9]\n",
      " [11 22 33]]\n",
      "\n",
      "[[ 1  2  3 11]\n",
      " [ 4  5  6 22]\n",
      " [ 7  8  9 33]]\n",
      "\n"
     ]
    }
   ],
   "source": [
    "arr = np.arange(1, 10).reshape(3, 3)\n",
    "print(arr); print()\n",
    "\n",
    "ar = np.insert(arr, 2, [10, 20, 30])\n",
    "print(ar); print()\n",
    "\n",
    "ar = np.insert(arr, 2, [10, 20, 30], axis=1) # size of column = size of data\n",
    "print(ar); print()\n",
    "\n",
    "ar = np.insert(arr, 2, [10, 20, 30], axis=0) # size of row = size of data\n",
    "print(ar); print()\n",
    "\n",
    "ar = np.append(arr, 44)\n",
    "print(ar); print()\n",
    "\n",
    "ar = np.append(arr, [[11, 22, 33]], axis=0)\n",
    "print(ar); print()\n",
    "\n",
    "ar = np.append(arr, [[11], [22], [33]], axis=1)\n",
    "print(ar); print()\n"
   ]
  },
  {
   "cell_type": "markdown",
   "id": "7a052a29-5cfc-4c7d-97f7-1be414d6a085",
   "metadata": {},
   "source": [
    "### **Transpose**"
   ]
  },
  {
   "cell_type": "code",
   "execution_count": 88,
   "id": "0fbb1cb5-7c2e-4b0a-b9bb-074be543514d",
   "metadata": {
    "tags": []
   },
   "outputs": [
    {
     "name": "stdout",
     "output_type": "stream",
     "text": [
      "[[1 2 3]\n",
      " [4 5 6]\n",
      " [7 8 9]]\n",
      "\n",
      "[[1 4 7]\n",
      " [2 5 8]\n",
      " [3 6 9]]\n",
      "\n",
      "[[1 4 7]\n",
      " [2 5 8]\n",
      " [3 6 9]]\n",
      "\n"
     ]
    }
   ],
   "source": [
    "arr = np.arange(1, 10).reshape(3, 3)\n",
    "print(arr); print()\n",
    "print(arr.T); print()\n",
    "print(np.transpose(arr)); print()"
   ]
  },
  {
   "cell_type": "markdown",
   "id": "317d6801-c3b9-4813-98b1-a29b054d982c",
   "metadata": {},
   "source": [
    "### **Delete :**\n",
    "np.delete(_arrayName, index_)"
   ]
  },
  {
   "cell_type": "code",
   "execution_count": 89,
   "id": "a91129b8-cc25-4e56-8b23-9b61a7ec0a12",
   "metadata": {
    "tags": []
   },
   "outputs": [
    {
     "name": "stdout",
     "output_type": "stream",
     "text": [
      "arr : \n",
      "[1 2 3 4 5 6 7 8 9]\n",
      "\n",
      "---------------------------------\n",
      "[1 2 3 4 6 7 8 9]\n",
      "\n",
      "[1 2 4 6 8 9]\n",
      "\n",
      "[1 2 3 4 5 6 7 8]\n",
      "\n",
      "[1 2 3 4 6 8]\n",
      "\n"
     ]
    }
   ],
   "source": [
    "arr = np.arange(1, 10)\n",
    "print(\"arr : \")\n",
    "print(arr); print()\n",
    "print(\"---------------------------------\")\n",
    "dar = np.delete(arr, 4)\n",
    "print(dar); print()\n",
    "\n",
    "dar = np.delete(arr, [2, 4, 6])\n",
    "print(dar); print()\n",
    "\n",
    "dar = np.delete(arr, -1)\n",
    "print(dar); print()\n",
    "\n",
    "dar = np.delete(arr, [-1, -3, -5])\n",
    "print(dar); print()"
   ]
  },
  {
   "cell_type": "markdown",
   "id": "4464a394-e6d8-420c-9a8a-b749d33cdd2f",
   "metadata": {},
   "source": [
    "## **Matrix in Numpy Arrays**"
   ]
  },
  {
   "cell_type": "markdown",
   "id": "efba3b38-320d-4c5b-9d7f-ca33762e7761",
   "metadata": {},
   "source": [
    "### **Difference b/w array and matrix**"
   ]
  },
  {
   "cell_type": "code",
   "execution_count": 90,
   "id": "de6b834f-cf56-44ed-ba12-3feaf80d1f4e",
   "metadata": {
    "tags": []
   },
   "outputs": [
    {
     "name": "stdout",
     "output_type": "stream",
     "text": [
      "[[1 2 3]\n",
      " [2 4 6]]\n",
      "<class 'numpy.ndarray'>\n",
      "\n",
      "[[1 2 3]\n",
      " [2 4 6]]\n",
      "<class 'numpy.matrix'>\n",
      "\n"
     ]
    }
   ],
   "source": [
    "arr = np.array([[1, 2, 3], [2, 4, 6]])\n",
    "print(arr)\n",
    "print(type(arr))\n",
    "print()\n",
    "\n",
    "mtx = np.matrix([[1, 2, 3], [2, 4, 6]])\n",
    "print(mtx)\n",
    "print(type(mtx))\n",
    "print()"
   ]
  },
  {
   "cell_type": "markdown",
   "id": "e6f1d7c3-c426-4fc7-a653-271580da37af",
   "metadata": {},
   "source": [
    "### **Arithmetic Operation In Matrix**\n",
    "- Addition +\n",
    "- Substraction -\n",
    "- Division /\n",
    "- Division //\n",
    "- Remainder %\n",
    "- Multiplication * # condition: M1(nxm) & M2(pxn)\n",
    "- Dot m1.dot(m2) # condition: M1(nxm) & M2(pxn)\n",
    "- Exponent ** Not Possible"
   ]
  },
  {
   "cell_type": "code",
   "execution_count": 91,
   "id": "ea597ff1-6131-4496-87f2-86932a628ba2",
   "metadata": {
    "tags": []
   },
   "outputs": [
    {
     "name": "stdout",
     "output_type": "stream",
     "text": [
      "mtx1 : \n",
      "[[ 4  8 12]\n",
      " [ 5 10 15]]\n",
      "\n",
      "mtx2 : \n",
      "[[1 2 3]\n",
      " [2 4 6]]\n",
      "\n",
      "Addition : \n",
      "[[ 5 10 15]\n",
      " [ 7 14 21]]\n",
      "\n",
      "Substraction : \n",
      "[[3 6 9]\n",
      " [3 6 9]]\n",
      "\n",
      "Multiplication : \n",
      "[[ 56 112]\n",
      " [ 70 140]]\n",
      "\n",
      "Dot : \n",
      "[[ 56 112]\n",
      " [ 70 140]]\n",
      "\n",
      "Division : \n",
      "[[4.  4.  4. ]\n",
      " [2.5 2.5 2.5]]\n",
      "\n",
      "Division : \n",
      "[[4 4 4]\n",
      " [2 2 2]]\n",
      "\n",
      "Remainder : \n",
      "[[0 0 0]\n",
      " [1 2 3]]\n",
      "\n"
     ]
    }
   ],
   "source": [
    "mtx1 = np.matrix([[x*4 for x in range(1, 4)], [x*5 for x in range(1, 4)]])\n",
    "print(\"mtx1 : \")\n",
    "print(mtx1)\n",
    "print()\n",
    "\n",
    "mtx2 = np.matrix([[x for x in range(1, 4)], [x*2 for x in range(1, 4)]])\n",
    "print(\"mtx2 : \")\n",
    "print(mtx2)\n",
    "print()\n",
    "\n",
    "print(\"Addition : \")\n",
    "print(mtx1+mtx2)\n",
    "print()\n",
    "\n",
    "print(\"Substraction : \")\n",
    "print(mtx1-mtx2)\n",
    "print()\n",
    "\n",
    "print(\"Multiplication : \")\n",
    "# print(mtx1*mtx2) # Error row != col\n",
    "print(mtx1*mtx2.T)\n",
    "print()\n",
    "\n",
    "print(\"Dot : \")\n",
    "# print(mtx1.dot(mtx2))  # Error row != col\n",
    "print(mtx1.dot(mtx2.T))\n",
    "print()\n",
    "\n",
    "print(\"Division : \")\n",
    "print(mtx1/mtx2)\n",
    "print()\n",
    "\n",
    "print(\"Division : \")\n",
    "print(mtx1//mtx2)\n",
    "print()\n",
    "\n",
    "print(\"Remainder : \")\n",
    "print(mtx1%mtx2)\n",
    "print()\n",
    "\n",
    "# Exponent not work with matrix **"
   ]
  },
  {
   "cell_type": "markdown",
   "id": "60b54d25-f059-4899-b969-17132531118c",
   "metadata": {},
   "source": [
    "### **Matrix Function in Numpy Arrays**\n",
    "- **Transpose**\n",
    "- **Swapaxes**\n",
    "- **Inverse**\n",
    "- **Power**\n",
    "- **Determinate**"
   ]
  },
  {
   "cell_type": "markdown",
   "id": "da16ae35-d245-4c4d-baa2-17b376ab1ac4",
   "metadata": {},
   "source": [
    "### ***Transpose & Swapaxes***"
   ]
  },
  {
   "cell_type": "code",
   "execution_count": 92,
   "id": "6814fdc7-1116-445a-8267-80d4630bdb67",
   "metadata": {
    "tags": []
   },
   "outputs": [
    {
     "name": "stdout",
     "output_type": "stream",
     "text": [
      "mtx : \n",
      "[[4 1 8 4 8]\n",
      " [6 5 1 3 8]\n",
      " [5 2 4 5 2]]\n",
      "<class 'numpy.matrix'>\n",
      "\n",
      "mtx transpose : \n",
      "[[4 6 5]\n",
      " [1 5 2]\n",
      " [8 1 4]\n",
      " [4 3 5]\n",
      " [8 8 2]]\n",
      "\n",
      "[[4 6 5]\n",
      " [1 5 2]\n",
      " [8 1 4]\n",
      " [4 3 5]\n",
      " [8 8 2]]\n",
      "\n",
      "mtx swapaxes : \n",
      "[[4 6 5]\n",
      " [1 5 2]\n",
      " [8 1 4]\n",
      " [4 3 5]\n",
      " [8 8 2]]\n",
      "\n",
      "[[4 6 5]\n",
      " [1 5 2]\n",
      " [8 1 4]\n",
      " [4 3 5]\n",
      " [8 8 2]]\n",
      "\n",
      "[[4 1 8 4 8]\n",
      " [6 5 1 3 8]\n",
      " [5 2 4 5 2]]\n",
      "\n",
      "[[4 1 8 4 8]\n",
      " [6 5 1 3 8]\n",
      " [5 2 4 5 2]]\n",
      "\n",
      "[[4 1 8 4 8]\n",
      " [6 5 1 3 8]\n",
      " [5 2 4 5 2]]\n",
      "\n"
     ]
    }
   ],
   "source": [
    "# np.mat()\n",
    "# np.matrix()\n",
    "# Both are same\n",
    "\n",
    "mtx = np.mat(np.random.randint(1, 9, (3, 5)))\n",
    "print(\"mtx : \")\n",
    "print(mtx)\n",
    "print(type(mtx))\n",
    "print()\n",
    "\n",
    "# transpose\n",
    "print(\"mtx transpose : \")\n",
    "print(np.transpose(mtx))\n",
    "print()\n",
    "\n",
    "print(mtx.T)\n",
    "print()\n",
    "\n",
    "# swapaxes\n",
    "print(\"mtx swapaxes : \")\n",
    "print(np.swapaxes(mtx, 0, 1))\n",
    "print()\n",
    "\n",
    "print(np.swapaxes(mtx, 0, -1))\n",
    "print()\n",
    "\n",
    "mtxS = np.swapaxes(mtx, 0, 1)\n",
    "print(np.swapaxes(mtxS, 1, 0))\n",
    "print()\n",
    "\n",
    "print(np.swapaxes(mtxS, -1, 0))\n",
    "print()\n",
    "\n",
    "print(np.swapaxes(mtx, 1, -1))\n",
    "print()\n"
   ]
  },
  {
   "cell_type": "markdown",
   "id": "92dcf572-3b19-4eaa-82a1-8e242615173d",
   "metadata": {},
   "source": [
    "### ***Inverse***"
   ]
  },
  {
   "cell_type": "code",
   "execution_count": 93,
   "id": "b60e96ef-ee33-43b9-bfa9-029515413814",
   "metadata": {
    "tags": []
   },
   "outputs": [
    {
     "name": "stdout",
     "output_type": "stream",
     "text": [
      "[[3 9]\n",
      " [5 5]]\n",
      "<class 'numpy.matrix'>\n",
      "\n",
      "[[-0.16666667  0.3       ]\n",
      " [ 0.16666667 -0.1       ]]\n",
      "\n"
     ]
    }
   ],
   "source": [
    "mtx = np.mat(np.random.randint(1, 10, (2, 2)))\n",
    "print(mtx)\n",
    "print(type(mtx))\n",
    "print()\n",
    "\n",
    "imtx = np.linalg.inv(mtx)\n",
    "print(imtx)\n",
    "print()"
   ]
  },
  {
   "cell_type": "code",
   "execution_count": 94,
   "id": "aadfdca5-1457-457c-bee1-73d674e0ca0b",
   "metadata": {
    "tags": []
   },
   "outputs": [
    {
     "name": "stdout",
     "output_type": "stream",
     "text": [
      "[[8 2 4]\n",
      " [9 5 4]\n",
      " [1 8 4]]\n",
      "<class 'numpy.matrix'>\n",
      "\n",
      "[[-0.11111111  0.22222222 -0.11111111]\n",
      " [-0.2962963   0.25925926  0.03703704]\n",
      " [ 0.62037037 -0.57407407  0.2037037 ]]\n",
      "\n"
     ]
    }
   ],
   "source": [
    "mtx = np.mat(np.random.randint(1, 10, (3, 3)))\n",
    "print(mtx)\n",
    "print(type(mtx))\n",
    "print()\n",
    "\n",
    "imtx = np.linalg.inv(mtx)\n",
    "print(imtx)\n",
    "print()"
   ]
  },
  {
   "cell_type": "code",
   "execution_count": 95,
   "id": "3daf2d27-cb89-4597-9fc7-c3d3a0c1db05",
   "metadata": {
    "tags": []
   },
   "outputs": [
    {
     "name": "stdout",
     "output_type": "stream",
     "text": [
      "[[-33 -34 -80  13]\n",
      " [-60  63  58  81]\n",
      " [ 59  66 -44  39]\n",
      " [-43 -61 -58  60]]\n",
      "<class 'numpy.matrix'>\n",
      "\n",
      "[[-0.0155838  -0.00738222  0.00709061  0.0087336 ]\n",
      " [ 0.01204616  0.00611774  0.00341832 -0.01309086]\n",
      " [-0.01306895  0.0007072  -0.00354385  0.00418039]\n",
      " [-0.01155478  0.00161273  0.00513118  0.01365775]]\n",
      "\n"
     ]
    }
   ],
   "source": [
    "mtx = np.mat(np.random.randint(-90, 90, (4, 4)))\n",
    "print(mtx)\n",
    "print(type(mtx))\n",
    "print()\n",
    "\n",
    "imtx = np.linalg.inv(mtx)\n",
    "print(imtx)\n",
    "print()"
   ]
  },
  {
   "cell_type": "markdown",
   "id": "d3092ef5-1a85-47fd-bc72-bcad83fb331d",
   "metadata": {},
   "source": [
    "### ***Power***\n",
    "- **np.linalg.matrix_power(_matrixName_, n)** \\\n",
    "    n could be n<0, n=0, n>0\n",
    "- if `n=0` : Identity Matrix\n",
    "- if `n>0` : Matrix x Power\n",
    "- if `n<0` : Inverse x Power"
   ]
  },
  {
   "cell_type": "code",
   "execution_count": 96,
   "id": "3f0b52bd-834e-4606-abf6-8507ea27d7a1",
   "metadata": {
    "tags": []
   },
   "outputs": [
    {
     "name": "stdout",
     "output_type": "stream",
     "text": [
      "[[ 79   9 -75  86]\n",
      " [ -1  57  14 -54]\n",
      " [  3  46  19  39]\n",
      " [-67  77  77  -8]]\n",
      "<class 'numpy.matrix'>\n",
      "\n",
      "[[1 0 0 0]\n",
      " [0 1 0 0]\n",
      " [0 0 1 0]\n",
      " [0 0 0 1]]\n",
      "\n",
      "[[  245  4396  -602  2695]\n",
      " [ 3524  -274 -3019 -2186]\n",
      " [-2365  6526  3783 -1797]\n",
      " [-4603  6712  6950 -6853]]\n",
      "\n",
      "[[-1.54297859e-03  2.77518480e-04  2.41837649e-03 -1.32946231e-03]\n",
      " [ 2.84220602e-04  4.58442059e-05 -1.86516703e-04  1.46057144e-04]\n",
      " [-1.60226932e-03  5.24712813e-05  2.39186538e-03 -1.27404058e-03]\n",
      " [-3.10193004e-04 -8.82877348e-05  6.18674636e-04 -4.01974533e-04]]\n",
      "\n"
     ]
    }
   ],
   "source": [
    "mtx = np.matrix(np.random.randint(-90, 90, (4, 4)))\n",
    "print(mtx)\n",
    "print(type(mtx))\n",
    "print()\n",
    "\n",
    "# n=0\n",
    "pmtx = np.linalg.matrix_power(mtx, 0)\n",
    "print(pmtx)\n",
    "print()\n",
    "\n",
    "# n>0\n",
    "pmtx = np.linalg.matrix_power(mtx, 2)\n",
    "print(pmtx)\n",
    "print()\n",
    "\n",
    "# n<0\n",
    "pmtx = np.linalg.matrix_power(mtx, -2) # inverse * power\n",
    "print(pmtx)\n",
    "print()"
   ]
  },
  {
   "cell_type": "markdown",
   "id": "1994ce8e-2241-42c6-bc66-03fb8b1b01b2",
   "metadata": {},
   "source": [
    "### ***Determinate***\n",
    "- **np.linalg.det(_matrixName_)**"
   ]
  },
  {
   "cell_type": "code",
   "execution_count": 97,
   "id": "b20facfe-fecd-4a95-8ffc-4353a6dce086",
   "metadata": {},
   "outputs": [
    {
     "name": "stdout",
     "output_type": "stream",
     "text": [
      "[[7 6]\n",
      " [7 3]]\n",
      "<class 'numpy.matrix'>\n",
      "\n",
      "-21.0\n",
      "\n"
     ]
    }
   ],
   "source": [
    "mtx = np.matrix(np.random.randint(1, 10, (2, 2)))\n",
    "print(mtx)\n",
    "print(type(mtx))\n",
    "print()\n",
    "\n",
    "dmtx = np.linalg.det(mtx)\n",
    "print(dmtx)\n",
    "print()\n"
   ]
  },
  {
   "cell_type": "code",
   "execution_count": 98,
   "id": "a830da92-0b96-466b-9380-0a47a0132d83",
   "metadata": {
    "tags": []
   },
   "outputs": [
    {
     "name": "stdout",
     "output_type": "stream",
     "text": [
      "[[2 3 8]\n",
      " [1 6 2]\n",
      " [6 4 6]]\n",
      "<class 'numpy.matrix'>\n",
      "\n",
      "-181.99999999999997\n",
      "\n"
     ]
    }
   ],
   "source": [
    "mtx = np.matrix(np.random.randint(1, 10, (3, 3)))\n",
    "print(mtx)\n",
    "print(type(mtx))\n",
    "print()\n",
    "\n",
    "dmtx = np.linalg.det(mtx)\n",
    "print(dmtx)\n",
    "print()\n"
   ]
  },
  {
   "cell_type": "code",
   "execution_count": 99,
   "id": "ba1a924e-5629-4784-8bbe-8f021c16d7d3",
   "metadata": {
    "tags": []
   },
   "outputs": [
    {
     "name": "stdout",
     "output_type": "stream",
     "text": [
      "[[ 48  35   7  84 -48]\n",
      " [ 67  32 -44  84 -68]\n",
      " [ 25 -47  88  39 -66]\n",
      " [ 47  12   2  81 -76]\n",
      " [-23  18  38 -55 -81]]\n",
      "<class 'numpy.matrix'>\n",
      "\n",
      "643427861.0000001\n",
      "\n"
     ]
    }
   ],
   "source": [
    "mtx = np.matrix(np.random.randint(-90, 90, (5, 5)))\n",
    "print(mtx)\n",
    "print(type(mtx))\n",
    "print()\n",
    "\n",
    "dmtx = np.linalg.det(mtx)\n",
    "print(dmtx)\n",
    "print()\n"
   ]
  },
  {
   "cell_type": "markdown",
   "id": "bff757f2-1b79-43a3-adba-a52e83b525a5",
   "metadata": {},
   "source": [
    "## **Typecasting**"
   ]
  },
  {
   "cell_type": "code",
   "execution_count": 105,
   "id": "65dac7ac-d74b-4797-bb88-673cf792cf0c",
   "metadata": {
    "tags": []
   },
   "outputs": [
    {
     "name": "stdout",
     "output_type": "stream",
     "text": [
      "[[1, 2, 3, 4], [2, 4, 6, 8]]\n",
      "<class 'list'>\n",
      "\n",
      "[[1 2 3 4]\n",
      " [2 4 6 8]]\n",
      "<class 'numpy.ndarray'>\n",
      "\n",
      "[[1 2 3 4]\n",
      " [2 4 6 8]]\n",
      "<class 'numpy.matrix'>\n",
      "\n",
      "============================================\n",
      "\n",
      "[[1 2 3]\n",
      " [2 4 6]]\n",
      "<class 'numpy.ndarray'>\n",
      "\n",
      "[array([1, 2, 3]), array([2, 4, 6])]\n",
      "<class 'list'>\n",
      "\n",
      "[[1 2 3]\n",
      " [2 4 6]]\n",
      "<class 'numpy.matrix'>\n",
      "============================================\n",
      "\n",
      "[[1 2 3]\n",
      " [2 4 6]]\n",
      "<class 'numpy.matrix'>\n",
      "\n",
      "[matrix([[1, 2, 3]]), matrix([[2, 4, 6]])]\n",
      "<class 'list'>\n",
      "\n",
      "[[1 2 3]\n",
      " [2 4 6]]\n",
      "<class 'numpy.ndarray'>\n",
      "\n"
     ]
    }
   ],
   "source": [
    "## to_numpy() only work with pandas\n",
    "\n",
    "lst = [[1, 2, 3, 4], [2, 4, 6, 8]]\n",
    "print(lst)\n",
    "print(type(lst))\n",
    "print()\n",
    "\n",
    "lst2arr = np.asarray(lst)\n",
    "print(lst2arr)\n",
    "print(type(lst2arr))\n",
    "print()\n",
    "\n",
    "lst2mtx = np.asmatrix(lst)\n",
    "print(lst2mtx)\n",
    "print(type(lst2mtx))\n",
    "print()\n",
    "\n",
    "print(\"============================================\")\n",
    "print()\n",
    "\n",
    "arr = np.array([[1, 2, 3], [2, 4, 6]])\n",
    "print(arr)\n",
    "print(type(arr))\n",
    "print()\n",
    "\n",
    "arr2lst = list(arr)\n",
    "print(arr2lst)\n",
    "print(type(arr2lst))\n",
    "print()\n",
    "\n",
    "arr2mtx = np.asmatrix(arr)\n",
    "print(arr2mtx)\n",
    "print(type(arr2mtx))\n",
    "\n",
    "print(\"============================================\")\n",
    "print()\n",
    "\n",
    "mtx = np.matrix([[1, 2, 3], [2, 4, 6]])\n",
    "print(mtx)\n",
    "print(type(mtx))\n",
    "print()\n",
    "\n",
    "mtx2lst = list(mtx)\n",
    "print(mtx2lst)\n",
    "print(type(mtx2lst))\n",
    "print()\n",
    "\n",
    "mtx2arr = np.asarray(mtx)\n",
    "print(mtx2arr)\n",
    "print(type(mtx2arr))\n",
    "print()\n"
   ]
  }
 ],
 "metadata": {
  "kernelspec": {
   "display_name": "Python 3",
   "language": "python",
   "name": "python3"
  },
  "language_info": {
   "codemirror_mode": {
    "name": "ipython",
    "version": 3
   },
   "file_extension": ".py",
   "mimetype": "text/x-python",
   "name": "python",
   "nbconvert_exporter": "python",
   "pygments_lexer": "ipython3",
   "version": "3.9.16"
  }
 },
 "nbformat": 4,
 "nbformat_minor": 5
}
