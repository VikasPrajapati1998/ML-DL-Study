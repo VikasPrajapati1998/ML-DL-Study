{
 "cells": [
  {
   "cell_type": "markdown",
   "id": "ab9d18c0-ec64-4e56-899a-f3d0ac9995f2",
   "metadata": {},
   "source": [
    "# **Linear Regression**"
   ]
  },
  {
   "cell_type": "markdown",
   "id": "b82acbd9-4432-4714-a7d5-fdb427842584",
   "metadata": {},
   "source": [
    "## **Supervised**\n",
    "- #### **Classification**\n",
    "- #### **Regression**\n",
    "     - **Simple Linear Regression**\n",
    "     - **Multiple Linear Regression**\n",
    "     - **Polynomial Linear Regression**\n",
    "     "
   ]
  },
  {
   "cell_type": "markdown",
   "id": "238747be-00be-46c8-9a42-35481ab3d948",
   "metadata": {},
   "source": [
    "### **Linear Regression**\n",
    "- Linear Regression is a statistical model used to predict the relationship b/w independent and dependent variables.\n",
    "    - Economic Growth, GDP Prediction\n",
    "    - Product Price Prediction\n",
    "    - Housing Sales, Price Prediction\n",
    "    - Score Prediction, Cricket\n",
    "- Examine 2 Factors :-\n",
    "    - Which variable in particular are significant predictors of the outcome variables?\n",
    "    - How significant is the Regression line to make predictions with highest possible accuracy.\n",
    "- #### **Regression Equation**\n",
    "    - y = mx + c : Line\n",
    "        - y : dependent variable\n",
    "        - x : independent variable\n",
    "        - m : slop of the line \\\n",
    "          m = y2-y1/x2-x1\n",
    "        - c : cofficient of the line\n",
    "- Linear equation is represented as y = m*x+c \\\n",
    "  ### **`m = {n*sum(x*y)-(sum(x)*sum(y)} / {(n*sum(x^2)-sum(x)^2}`**\n",
    "  ### **`c = {(sum(y)*sum(x^2)-(sum(x)*sum(x*y)} / {(n*sum(x^2)-sum(x)^2}`**"
   ]
  },
  {
   "cell_type": "markdown",
   "id": "96db9a86-a7a6-4e5b-8aeb-86ed07b67989",
   "metadata": {},
   "source": [
    "### **How to draw the regression line.**"
   ]
  },
  {
   "cell_type": "code",
   "execution_count": 1,
   "id": "24944959-f2f5-42df-b662-c057b0339fc5",
   "metadata": {
    "tags": []
   },
   "outputs": [],
   "source": [
    "import numpy as np\n",
    "import matplotlib.pyplot as plt\n",
    "import pandas as pd\n",
    "import seaborn as sns\n",
    "\n",
    "%matplotlib inline"
   ]
  },
  {
   "cell_type": "code",
   "execution_count": 5,
   "id": "7b3f0090-fcef-473b-9779-dfafd195fb0b",
   "metadata": {},
   "outputs": [
    {
     "name": "stdout",
     "output_type": "stream",
     "text": [
      "x =  [1, 2, 3, 4, 5]\n",
      "y =  [2, 4, 5, 4, 5]\n",
      "mean(x) =  3.0\n",
      "mean(y) =  4.0\n",
      "x squire :  [1, 4, 9, 16, 25]\n",
      "y squire :  [4, 16, 25, 16, 25]\n",
      "x*y =  [2, 8, 15, 16, 25]\n",
      "slop m =  0.6\n",
      "cofficent c =  2.2\n",
      "[0, 1, 2, 3, 4, 5] [2.2, 2.8000000000000003, 3.4000000000000004, 4.0, 4.6, 5.2]\n"
     ]
    }
   ],
   "source": [
    "x = [1, 2, 3, 4, 5]\n",
    "y = [2, 4, 5, 4, 5]\n",
    "print(\"x = \", x)\n",
    "print(\"y = \", y)\n",
    "\n",
    "avg_x = np.mean(x)\n",
    "avg_y = np.mean(y)\n",
    "print(\"mean(x) = \", avg_x)\n",
    "print(\"mean(y) = \", avg_y)\n",
    "\n",
    "x2 = list(map(lambda k:k**2, x))\n",
    "y2 = list(map(lambda k:k**2, y))\n",
    "print(\"x squire : \", x2)\n",
    "print(\"y squire : \", y2)\n",
    "\n",
    "# x*y\n",
    "xy = []\n",
    "for k in range(len(x)):\n",
    "    xy.append(x[k]*y[k])\n",
    "    \n",
    "print('x*y = ', xy)\n",
    "n=len(x)\n",
    "m = (n*np.sum(xy)-np.sum(x)*np.sum(y)) / (n*np.sum(x2) - np.sum(x)**2)\n",
    "print('slop m = ', m)\n",
    "c = ((np.sum(y)*np.sum(x2)) - (np.sum(x)*np.sum(xy))) / ((n*np.sum(x2))-(np.sum(x)**2))\n",
    "print('cofficent c = ', c)\n",
    "\n",
    "# Y = m*X + c\n",
    "X = [0, 1, 2, 3, 4, 5]\n",
    "Y = list(map(lambda k:m*k+c, X))\n",
    "print(X, Y)"
   ]
  },
  {
   "cell_type": "markdown",
   "id": "bb2bccdf-a2a6-4729-b1e0-c3a3e9555cb7",
   "metadata": {},
   "source": [
    "- using the above m and c formula calculating the slop and cofficient for best fit line\n",
    "- m=0.6 and c=2.2\n",
    "- Xm=3.0, Ym=4.0\n",
    "- equation of best fit line Ym = m\\*Xm + c\n",
    "- calculate the **error (e)** and **error squire (e^2)**\n",
    "- **e = (y-Ypred)**\n",
    "- **e^2 = (y-Ypred)^2**"
   ]
  },
  {
   "cell_type": "markdown",
   "id": "da3d4e21-9dd6-4bbb-b034-d61a355e03a6",
   "metadata": {},
   "source": [
    "- Sum of Squired Error = sum(e^2)\n",
    "- **Minimizing the Distance :**\n",
    "    - There are lots of ways to minimize the distance b/w the line and the data points like `Sum of Squired Errors`, `Sum of Absolute Errors`, `Root Mean Squire Error`"
   ]
  },
  {
   "cell_type": "markdown",
   "id": "b61e034f-66a7-4da5-92ac-dc96bd595cdc",
   "metadata": {},
   "source": [
    "### **Multiple Linear Regression**\n",
    "- Simple Linear Regression : y=mx+c\n",
    "- Multiple Linear Regression :\n",
    "    - Y = m1\\*x1 + m2\\*x2 + m3\\*x3 + ........... + mn\\*xn + c\n",
    "        - Where Y:Dependent Variable(DV)\n",
    "        - m1, m2, m3, ......, mn : slops\n",
    "        - c : cofficient"
   ]
  },
  {
   "cell_type": "code",
   "execution_count": 6,
   "id": "5a1010c9-8594-4462-a1c3-4ca2a92dad6f",
   "metadata": {
    "tags": []
   },
   "outputs": [
    {
     "data": {
      "image/png": "[encoded data removed]",
      "text/plain": [
       "<Figure size 1200x800 with 1 Axes>"
      ]
     },
     "metadata": {},
     "output_type": "display_data"
    }
   ],
   "source": [
    "plt.figure(1, figsize=(12, 8), facecolor='skyblue')\n",
    "plt.scatter(x, y, color='r')\n",
    "plt.plot(X, Y, color='g')\n",
    "plt.xlabel(\"X - Axis\", color='m', size=18)\n",
    "plt.ylabel(\"Y - Axis\", color='m', size=18)\n",
    "plt.show()"
   ]
  },
  {
   "cell_type": "code",
   "execution_count": 7,
   "id": "6bf4a97a-650e-4ec3-b8b2-13a75aefc03e",
   "metadata": {
    "tags": []
   },
   "outputs": [
    {
     "data": {
      "text/html": [
       "<div>\n",
       "<style scoped>\n",
       "    .dataframe tbody tr th:only-of-type {\n",
       "        vertical-align: middle;\n",
       "    }\n",
       "\n",
       "    .dataframe tbody tr th {\n",
       "        vertical-align: top;\n",
       "    }\n",
       "\n",
       "    .dataframe thead th {\n",
       "        text-align: right;\n",
       "    }\n",
       "</style>\n",
       "<table border=\"1\" class=\"dataframe\">\n",
       "  <thead>\n",
       "    <tr style=\"text-align: right;\">\n",
       "      <th></th>\n",
       "      <th>R&amp;D Spend</th>\n",
       "      <th>Administration</th>\n",
       "      <th>Marketing Spend</th>\n",
       "      <th>State</th>\n",
       "      <th>Profit</th>\n",
       "    </tr>\n",
       "  </thead>\n",
       "  <tbody>\n",
       "    <tr>\n",
       "      <th>995</th>\n",
       "      <td>54135.00</td>\n",
       "      <td>118451.999</td>\n",
       "      <td>173232.6695</td>\n",
       "      <td>California</td>\n",
       "      <td>95279.96251</td>\n",
       "    </tr>\n",
       "    <tr>\n",
       "      <th>996</th>\n",
       "      <td>134970.00</td>\n",
       "      <td>130390.080</td>\n",
       "      <td>329204.0228</td>\n",
       "      <td>California</td>\n",
       "      <td>164336.60550</td>\n",
       "    </tr>\n",
       "    <tr>\n",
       "      <th>997</th>\n",
       "      <td>100275.47</td>\n",
       "      <td>241926.310</td>\n",
       "      <td>227142.8200</td>\n",
       "      <td>California</td>\n",
       "      <td>413956.48000</td>\n",
       "    </tr>\n",
       "    <tr>\n",
       "      <th>998</th>\n",
       "      <td>128456.23</td>\n",
       "      <td>321652.140</td>\n",
       "      <td>281692.3200</td>\n",
       "      <td>California</td>\n",
       "      <td>333962.19000</td>\n",
       "    </tr>\n",
       "    <tr>\n",
       "      <th>999</th>\n",
       "      <td>161181.72</td>\n",
       "      <td>270939.860</td>\n",
       "      <td>295442.1700</td>\n",
       "      <td>New York</td>\n",
       "      <td>476485.43000</td>\n",
       "    </tr>\n",
       "  </tbody>\n",
       "</table>\n",
       "</div>"
      ],
      "text/plain": [
       "     R&D Spend  Administration  Marketing Spend       State        Profit\n",
       "995   54135.00      118451.999      173232.6695  California   95279.96251\n",
       "996  134970.00      130390.080      329204.0228  California  164336.60550\n",
       "997  100275.47      241926.310      227142.8200  California  413956.48000\n",
       "998  128456.23      321652.140      281692.3200  California  333962.19000\n",
       "999  161181.72      270939.860      295442.1700    New York  476485.43000"
      ]
     },
     "execution_count": 7,
     "metadata": {},
     "output_type": "execute_result"
    }
   ],
   "source": [
    "# Importing the dataset\n",
    "companies = pd.read_csv(\"../data/MLAlgorithmData/1000_Companies.csv\")\n",
    "companies.tail()"
   ]
  },
  {
   "cell_type": "code",
   "execution_count": 8,
   "id": "12104b8f-a62c-4fc9-85f5-6a9c83738403",
   "metadata": {
    "tags": []
   },
   "outputs": [
    {
     "data": {
      "text/html": [
       "<div>\n",
       "<style scoped>\n",
       "    .dataframe tbody tr th:only-of-type {\n",
       "        vertical-align: middle;\n",
       "    }\n",
       "\n",
       "    .dataframe tbody tr th {\n",
       "        vertical-align: top;\n",
       "    }\n",
       "\n",
       "    .dataframe thead th {\n",
       "        text-align: right;\n",
       "    }\n",
       "</style>\n",
       "<table border=\"1\" class=\"dataframe\">\n",
       "  <thead>\n",
       "    <tr style=\"text-align: right;\">\n",
       "      <th></th>\n",
       "      <th>R&amp;D Spend</th>\n",
       "      <th>Administration</th>\n",
       "      <th>Marketing Spend</th>\n",
       "      <th>Profit</th>\n",
       "    </tr>\n",
       "  </thead>\n",
       "  <tbody>\n",
       "    <tr>\n",
       "      <th>count</th>\n",
       "      <td>1000.000000</td>\n",
       "      <td>1000.000000</td>\n",
       "      <td>1000.000000</td>\n",
       "      <td>1000.000000</td>\n",
       "    </tr>\n",
       "    <tr>\n",
       "      <th>mean</th>\n",
       "      <td>81668.927200</td>\n",
       "      <td>122963.897612</td>\n",
       "      <td>226205.058419</td>\n",
       "      <td>119546.164656</td>\n",
       "    </tr>\n",
       "    <tr>\n",
       "      <th>std</th>\n",
       "      <td>46537.567891</td>\n",
       "      <td>12613.927535</td>\n",
       "      <td>91578.393542</td>\n",
       "      <td>42888.633848</td>\n",
       "    </tr>\n",
       "    <tr>\n",
       "      <th>min</th>\n",
       "      <td>0.000000</td>\n",
       "      <td>51283.140000</td>\n",
       "      <td>0.000000</td>\n",
       "      <td>14681.400000</td>\n",
       "    </tr>\n",
       "    <tr>\n",
       "      <th>25%</th>\n",
       "      <td>43084.500000</td>\n",
       "      <td>116640.684850</td>\n",
       "      <td>150969.584600</td>\n",
       "      <td>85943.198543</td>\n",
       "    </tr>\n",
       "    <tr>\n",
       "      <th>50%</th>\n",
       "      <td>79936.000000</td>\n",
       "      <td>122421.612150</td>\n",
       "      <td>224517.887350</td>\n",
       "      <td>117641.466300</td>\n",
       "    </tr>\n",
       "    <tr>\n",
       "      <th>75%</th>\n",
       "      <td>124565.500000</td>\n",
       "      <td>129139.118000</td>\n",
       "      <td>308189.808525</td>\n",
       "      <td>155577.107425</td>\n",
       "    </tr>\n",
       "    <tr>\n",
       "      <th>max</th>\n",
       "      <td>165349.200000</td>\n",
       "      <td>321652.140000</td>\n",
       "      <td>471784.100000</td>\n",
       "      <td>476485.430000</td>\n",
       "    </tr>\n",
       "  </tbody>\n",
       "</table>\n",
       "</div>"
      ],
      "text/plain": [
       "           R&D Spend  Administration  Marketing Spend         Profit\n",
       "count    1000.000000     1000.000000      1000.000000    1000.000000\n",
       "mean    81668.927200   122963.897612    226205.058419  119546.164656\n",
       "std     46537.567891    12613.927535     91578.393542   42888.633848\n",
       "min         0.000000    51283.140000         0.000000   14681.400000\n",
       "25%     43084.500000   116640.684850    150969.584600   85943.198543\n",
       "50%     79936.000000   122421.612150    224517.887350  117641.466300\n",
       "75%    124565.500000   129139.118000    308189.808525  155577.107425\n",
       "max    165349.200000   321652.140000    471784.100000  476485.430000"
      ]
     },
     "execution_count": 8,
     "metadata": {},
     "output_type": "execute_result"
    }
   ],
   "source": [
    "# check null values\n",
    "companies.describe()"
   ]
  },
  {
   "cell_type": "code",
   "execution_count": 9,
   "id": "be087c7e-6d23-43fe-a569-6cc08517870a",
   "metadata": {
    "tags": []
   },
   "outputs": [
    {
     "data": {
      "text/plain": [
       "R&D Spend          0\n",
       "Administration     0\n",
       "Marketing Spend    0\n",
       "State              0\n",
       "Profit             0\n",
       "dtype: int64"
      ]
     },
     "execution_count": 9,
     "metadata": {},
     "output_type": "execute_result"
    }
   ],
   "source": [
    "companies.isnull().sum()"
   ]
  },
  {
   "cell_type": "code",
   "execution_count": 10,
   "id": "251bb353-d5a9-4ec2-94be-14291681ca7c",
   "metadata": {
    "tags": []
   },
   "outputs": [
    {
     "data": {
      "text/plain": [
       "False"
      ]
     },
     "execution_count": 10,
     "metadata": {},
     "output_type": "execute_result"
    }
   ],
   "source": [
    "companies.isnull().values.any()"
   ]
  },
  {
   "cell_type": "code",
   "execution_count": 11,
   "id": "f22f7e7e-be53-4187-a5ee-2e51c253f758",
   "metadata": {
    "tags": []
   },
   "outputs": [],
   "source": [
    "# Extracting the Independent and Dependent Variable\n",
    "X = companies.iloc[:, :-1] # Attributes\n",
    "Y = companies.iloc[:, -1] # Labels"
   ]
  },
  {
   "cell_type": "markdown",
   "id": "6d77042b-6856-4661-a5e0-6d04ade1ac7b",
   "metadata": {},
   "source": [
    "- **We need to predict the profit**"
   ]
  },
  {
   "cell_type": "code",
   "execution_count": 12,
   "id": "04d08f13-fdbb-45fe-8b54-f977752d315b",
   "metadata": {},
   "outputs": [
    {
     "data": {
      "text/html": [
       "<div>\n",
       "<style scoped>\n",
       "    .dataframe tbody tr th:only-of-type {\n",
       "        vertical-align: middle;\n",
       "    }\n",
       "\n",
       "    .dataframe tbody tr th {\n",
       "        vertical-align: top;\n",
       "    }\n",
       "\n",
       "    .dataframe thead th {\n",
       "        text-align: right;\n",
       "    }\n",
       "</style>\n",
       "<table border=\"1\" class=\"dataframe\">\n",
       "  <thead>\n",
       "    <tr style=\"text-align: right;\">\n",
       "      <th></th>\n",
       "      <th>R&amp;D Spend</th>\n",
       "      <th>Administration</th>\n",
       "      <th>Marketing Spend</th>\n",
       "      <th>State</th>\n",
       "    </tr>\n",
       "  </thead>\n",
       "  <tbody>\n",
       "    <tr>\n",
       "      <th>995</th>\n",
       "      <td>54135.00</td>\n",
       "      <td>118451.999</td>\n",
       "      <td>173232.6695</td>\n",
       "      <td>California</td>\n",
       "    </tr>\n",
       "    <tr>\n",
       "      <th>996</th>\n",
       "      <td>134970.00</td>\n",
       "      <td>130390.080</td>\n",
       "      <td>329204.0228</td>\n",
       "      <td>California</td>\n",
       "    </tr>\n",
       "    <tr>\n",
       "      <th>997</th>\n",
       "      <td>100275.47</td>\n",
       "      <td>241926.310</td>\n",
       "      <td>227142.8200</td>\n",
       "      <td>California</td>\n",
       "    </tr>\n",
       "    <tr>\n",
       "      <th>998</th>\n",
       "      <td>128456.23</td>\n",
       "      <td>321652.140</td>\n",
       "      <td>281692.3200</td>\n",
       "      <td>California</td>\n",
       "    </tr>\n",
       "    <tr>\n",
       "      <th>999</th>\n",
       "      <td>161181.72</td>\n",
       "      <td>270939.860</td>\n",
       "      <td>295442.1700</td>\n",
       "      <td>New York</td>\n",
       "    </tr>\n",
       "  </tbody>\n",
       "</table>\n",
       "</div>"
      ],
      "text/plain": [
       "     R&D Spend  Administration  Marketing Spend       State\n",
       "995   54135.00      118451.999      173232.6695  California\n",
       "996  134970.00      130390.080      329204.0228  California\n",
       "997  100275.47      241926.310      227142.8200  California\n",
       "998  128456.23      321652.140      281692.3200  California\n",
       "999  161181.72      270939.860      295442.1700    New York"
      ]
     },
     "execution_count": 12,
     "metadata": {},
     "output_type": "execute_result"
    }
   ],
   "source": [
    "X.tail()"
   ]
  },
  {
   "cell_type": "code",
   "execution_count": 13,
   "id": "4b0da4ea-53e8-472a-ad43-feff4da0c861",
   "metadata": {},
   "outputs": [
    {
     "data": {
      "text/plain": [
       "995     95279.96251\n",
       "996    164336.60550\n",
       "997    413956.48000\n",
       "998    333962.19000\n",
       "999    476485.43000\n",
       "Name: Profit, dtype: float64"
      ]
     },
     "execution_count": 13,
     "metadata": {},
     "output_type": "execute_result"
    }
   ],
   "source": [
    "Y.tail()"
   ]
  },
  {
   "cell_type": "code",
   "execution_count": 14,
   "id": "715db5fa-f39e-4172-a023-8a0ea2c61671",
   "metadata": {},
   "outputs": [
    {
     "name": "stderr",
     "output_type": "stream",
     "text": [
      "/tmp/ipykernel_9776/268269702.py:4: FutureWarning: The default value of numeric_only in DataFrame.corr is deprecated. In a future version, it will default to False. Select only valid columns or specify the value of numeric_only to silence this warning.\n",
      "  sns.heatmap(companies.corr(), square=True)\n"
     ]
    },
    {
     "data": {
      "image/png": "[encoded data removed]",
      "text/plain": [
       "<Figure size 1400x1000 with 2 Axes>"
      ]
     },
     "metadata": {},
     "output_type": "display_data"
    }
   ],
   "source": [
    "# Data visualization\n",
    "# Building the Correlation matrix\n",
    "plt.figure(1, figsize=(14, 10), facecolor='aqua')\n",
    "sns.heatmap(companies.corr(), square=True)\n",
    "plt.show()"
   ]
  },
  {
   "cell_type": "markdown",
   "id": "b71da414-4985-496e-b5e4-b27a37e33a16",
   "metadata": {},
   "source": [
    "- **LabelEncoder() :**\n",
    "    The **LabelEncoder** class from the **sklearn.preprocessing** module in **scikit-learn** is used to convert categorical labels into `numerical representations`. \n",
    "    It is a commonly used preprocessing step in machine learning tasks, especially when dealing with categorical variables or target labels that are not in a \n",
    "    numerical format.\n",
    "\n",
    "- **OneHotEncoder() :**\n",
    "    The **OneHotEncoder** class from the **sklearn.preprocessing** module in **scikit-learn** is used to convert categorical features into a `binary one-hot encoded representation`.\n",
    "    It is commonly used when dealing with categorical variables or features that have multiple categories or levels."
   ]
  },
  {
   "cell_type": "code",
   "execution_count": 15,
   "id": "2979e1d6-c80b-4f18-b38b-b2140fa1dc20",
   "metadata": {
    "tags": []
   },
   "outputs": [],
   "source": [
    "from sklearn.preprocessing import LabelEncoder, OneHotEncoder\n",
    "from sklearn.model_selection import train_test_split"
   ]
  },
  {
   "cell_type": "code",
   "execution_count": 16,
   "id": "3ce0b98c-0446-48d5-a53e-fbaa3867dfb5",
   "metadata": {},
   "outputs": [
    {
     "name": "stderr",
     "output_type": "stream",
     "text": [
      "/tmp/ipykernel_9776/630108773.py:4: DeprecationWarning: In a future version, `df.iloc[:, i] = newvals` will attempt to set the values inplace instead of always setting a new array. To retain the old behavior, use either `df[df.columns[i]] = newvals` or, if columns are non-unique, `df.isetitem(i, newvals)`\n",
      "  X.iloc[:, 3] = le.fit_transform(X.iloc[:, 3]) # calling the method of LabelEncoder() class\n"
     ]
    },
    {
     "data": {
      "text/html": [
       "<div>\n",
       "<style scoped>\n",
       "    .dataframe tbody tr th:only-of-type {\n",
       "        vertical-align: middle;\n",
       "    }\n",
       "\n",
       "    .dataframe tbody tr th {\n",
       "        vertical-align: top;\n",
       "    }\n",
       "\n",
       "    .dataframe thead th {\n",
       "        text-align: right;\n",
       "    }\n",
       "</style>\n",
       "<table border=\"1\" class=\"dataframe\">\n",
       "  <thead>\n",
       "    <tr style=\"text-align: right;\">\n",
       "      <th></th>\n",
       "      <th>R&amp;D Spend</th>\n",
       "      <th>Administration</th>\n",
       "      <th>Marketing Spend</th>\n",
       "      <th>State</th>\n",
       "    </tr>\n",
       "  </thead>\n",
       "  <tbody>\n",
       "    <tr>\n",
       "      <th>0</th>\n",
       "      <td>165349.20</td>\n",
       "      <td>136897.800</td>\n",
       "      <td>471784.1000</td>\n",
       "      <td>2</td>\n",
       "    </tr>\n",
       "    <tr>\n",
       "      <th>1</th>\n",
       "      <td>162597.70</td>\n",
       "      <td>151377.590</td>\n",
       "      <td>443898.5300</td>\n",
       "      <td>0</td>\n",
       "    </tr>\n",
       "    <tr>\n",
       "      <th>2</th>\n",
       "      <td>153441.51</td>\n",
       "      <td>101145.550</td>\n",
       "      <td>407934.5400</td>\n",
       "      <td>1</td>\n",
       "    </tr>\n",
       "    <tr>\n",
       "      <th>3</th>\n",
       "      <td>144372.41</td>\n",
       "      <td>118671.850</td>\n",
       "      <td>383199.6200</td>\n",
       "      <td>2</td>\n",
       "    </tr>\n",
       "    <tr>\n",
       "      <th>4</th>\n",
       "      <td>142107.34</td>\n",
       "      <td>91391.770</td>\n",
       "      <td>366168.4200</td>\n",
       "      <td>1</td>\n",
       "    </tr>\n",
       "    <tr>\n",
       "      <th>...</th>\n",
       "      <td>...</td>\n",
       "      <td>...</td>\n",
       "      <td>...</td>\n",
       "      <td>...</td>\n",
       "    </tr>\n",
       "    <tr>\n",
       "      <th>995</th>\n",
       "      <td>54135.00</td>\n",
       "      <td>118451.999</td>\n",
       "      <td>173232.6695</td>\n",
       "      <td>0</td>\n",
       "    </tr>\n",
       "    <tr>\n",
       "      <th>996</th>\n",
       "      <td>134970.00</td>\n",
       "      <td>130390.080</td>\n",
       "      <td>329204.0228</td>\n",
       "      <td>0</td>\n",
       "    </tr>\n",
       "    <tr>\n",
       "      <th>997</th>\n",
       "      <td>100275.47</td>\n",
       "      <td>241926.310</td>\n",
       "      <td>227142.8200</td>\n",
       "      <td>0</td>\n",
       "    </tr>\n",
       "    <tr>\n",
       "      <th>998</th>\n",
       "      <td>128456.23</td>\n",
       "      <td>321652.140</td>\n",
       "      <td>281692.3200</td>\n",
       "      <td>0</td>\n",
       "    </tr>\n",
       "    <tr>\n",
       "      <th>999</th>\n",
       "      <td>161181.72</td>\n",
       "      <td>270939.860</td>\n",
       "      <td>295442.1700</td>\n",
       "      <td>2</td>\n",
       "    </tr>\n",
       "  </tbody>\n",
       "</table>\n",
       "<p>1000 rows × 4 columns</p>\n",
       "</div>"
      ],
      "text/plain": [
       "     R&D Spend  Administration  Marketing Spend  State\n",
       "0    165349.20      136897.800      471784.1000      2\n",
       "1    162597.70      151377.590      443898.5300      0\n",
       "2    153441.51      101145.550      407934.5400      1\n",
       "3    144372.41      118671.850      383199.6200      2\n",
       "4    142107.34       91391.770      366168.4200      1\n",
       "..         ...             ...              ...    ...\n",
       "995   54135.00      118451.999      173232.6695      0\n",
       "996  134970.00      130390.080      329204.0228      0\n",
       "997  100275.47      241926.310      227142.8200      0\n",
       "998  128456.23      321652.140      281692.3200      0\n",
       "999  161181.72      270939.860      295442.1700      2\n",
       "\n",
       "[1000 rows x 4 columns]"
      ]
     },
     "execution_count": 16,
     "metadata": {},
     "output_type": "execute_result"
    }
   ],
   "source": [
    "# Encoding categorical data\n",
    "# LabelEncoder()\n",
    "le = LabelEncoder() # creating an object of LabelEncoder() class\n",
    "X.iloc[:, 3] = le.fit_transform(X.iloc[:, 3]) # calling the method of LabelEncoder() class\n",
    "X"
   ]
  },
  {
   "cell_type": "code",
   "execution_count": 17,
   "id": "f4fd0003-897b-4ce3-82c3-34782fb01c45",
   "metadata": {
    "tags": []
   },
   "outputs": [
    {
     "name": "stdout",
     "output_type": "stream",
     "text": [
      "(1000, 3)\n"
     ]
    },
    {
     "data": {
      "text/plain": [
       "array([[0., 0., 1.],\n",
       "       [1., 0., 0.],\n",
       "       [0., 1., 0.],\n",
       "       ...,\n",
       "       [1., 0., 0.],\n",
       "       [1., 0., 0.],\n",
       "       [0., 0., 1.]])"
      ]
     },
     "execution_count": 17,
     "metadata": {},
     "output_type": "execute_result"
    }
   ],
   "source": [
    "# OneHotEncoder\n",
    "ohe = OneHotEncoder() # creating the object of OneHotEncoder\n",
    "column_to_encode = X.iloc[:, 3:4]\n",
    "encoded_column = ohe.fit_transform(column_to_encode).toarray()\n",
    "print(encoded_column.shape)\n",
    "encoded_column\n"
   ]
  },
  {
   "cell_type": "markdown",
   "id": "94e7933a-03e6-4f2b-aaf8-0020103fe4a3",
   "metadata": {},
   "source": [
    "- **random_state=42 :**\n",
    "    - In the given code snippet, random_state=42 is used as an argument in the train_test_split function. The random_state parameter is an optional parameter that allows you to control the random shuffling and splitting of the data.\n",
    "\n",
    "    - By setting random_state to a specific value, such as 42 in this case, you ensure reproducibility in the random splitting of the data. When you use the same random_state value in subsequent runs, you will obtain the same train-test split. This is useful for making the code's behavior predictable and reproducible, especially during development and debugging.\n",
    "\n",
    "    - It's important to note that the specific value of random_state doesn't matter as long as it's the same across runs. Different values of random_state will result in different random splits of the data."
   ]
  },
  {
   "cell_type": "code",
   "execution_count": 18,
   "id": "87a5d354-50d3-45b3-b4ff-47e0502167f7",
   "metadata": {
    "tags": []
   },
   "outputs": [],
   "source": [
    "X_train, X_test, Y_train, Y_test = train_test_split(X, Y, test_size=0.2, random_state=42)"
   ]
  },
  {
   "cell_type": "code",
   "execution_count": 19,
   "id": "c1ccc137-991a-4bc8-8b06-3a5264790a9a",
   "metadata": {
    "tags": []
   },
   "outputs": [
    {
     "data": {
      "text/plain": [
       "((800, 4), (200, 4))"
      ]
     },
     "execution_count": 19,
     "metadata": {},
     "output_type": "execute_result"
    }
   ],
   "source": [
    "X_train.shape, X_test.shape"
   ]
  },
  {
   "cell_type": "code",
   "execution_count": 20,
   "id": "2c67f35a-6e83-41fb-90ae-ff7fd412318f",
   "metadata": {
    "tags": []
   },
   "outputs": [
    {
     "data": {
      "text/plain": [
       "array([[0., 0., 0., ..., 0., 0., 1.],\n",
       "       [0., 0., 0., ..., 1., 0., 0.],\n",
       "       [0., 0., 0., ..., 1., 0., 0.],\n",
       "       ...,\n",
       "       [0., 0., 0., ..., 0., 0., 1.],\n",
       "       [0., 0., 0., ..., 0., 0., 1.],\n",
       "       [0., 0., 0., ..., 0., 1., 0.]])"
      ]
     },
     "execution_count": 20,
     "metadata": {},
     "output_type": "execute_result"
    }
   ],
   "source": [
    "oneHE = OneHotEncoder()\n",
    "oneHE.fit(X_train)\n",
    "X_train_ohe = oneHE.transform(X_train).toarray()\n",
    "X_train_ohe"
   ]
  },
  {
   "cell_type": "code",
   "execution_count": 21,
   "id": "7cf13b5e-5459-443f-bae2-c7aca3b16707",
   "metadata": {},
   "outputs": [
    {
     "data": {
      "text/plain": [
       "(800, 2394)"
      ]
     },
     "execution_count": 21,
     "metadata": {},
     "output_type": "execute_result"
    }
   ],
   "source": [
    "ohe_df = pd.DataFrame(X_train_ohe, columns=oneHE.get_feature_names_out(X_train.columns))\n",
    "ohe_df.shape"
   ]
  },
  {
   "cell_type": "code",
   "execution_count": 22,
   "id": "4cd92858-f2fb-484b-ac6c-b33c7d71ecf9",
   "metadata": {
    "tags": []
   },
   "outputs": [
    {
     "data": {
      "text/html": [
       "<div>\n",
       "<style scoped>\n",
       "    .dataframe tbody tr th:only-of-type {\n",
       "        vertical-align: middle;\n",
       "    }\n",
       "\n",
       "    .dataframe tbody tr th {\n",
       "        vertical-align: top;\n",
       "    }\n",
       "\n",
       "    .dataframe thead th {\n",
       "        text-align: right;\n",
       "    }\n",
       "</style>\n",
       "<table border=\"1\" class=\"dataframe\">\n",
       "  <thead>\n",
       "    <tr style=\"text-align: right;\">\n",
       "      <th></th>\n",
       "      <th>R&amp;D Spend_0.0</th>\n",
       "      <th>R&amp;D Spend_542.05</th>\n",
       "      <th>R&amp;D Spend_1000.23</th>\n",
       "      <th>R&amp;D Spend_1269.0</th>\n",
       "      <th>R&amp;D Spend_1315.46</th>\n",
       "      <th>R&amp;D Spend_1634.0</th>\n",
       "      <th>R&amp;D Spend_1681.0</th>\n",
       "      <th>R&amp;D Spend_2296.0</th>\n",
       "      <th>R&amp;D Spend_2307.0</th>\n",
       "      <th>R&amp;D Spend_2603.0</th>\n",
       "      <th>...</th>\n",
       "      <th>Marketing Spend_376029.195</th>\n",
       "      <th>Marketing Spend_376669.7899</th>\n",
       "      <th>Marketing Spend_377009.3824</th>\n",
       "      <th>Marketing Spend_383199.62</th>\n",
       "      <th>Marketing Spend_407934.54</th>\n",
       "      <th>Marketing Spend_443898.53</th>\n",
       "      <th>Marketing Spend_471784.1</th>\n",
       "      <th>State_0</th>\n",
       "      <th>State_1</th>\n",
       "      <th>State_2</th>\n",
       "    </tr>\n",
       "  </thead>\n",
       "  <tbody>\n",
       "    <tr>\n",
       "      <th>795</th>\n",
       "      <td>0.0</td>\n",
       "      <td>0.0</td>\n",
       "      <td>0.0</td>\n",
       "      <td>0.0</td>\n",
       "      <td>0.0</td>\n",
       "      <td>0.0</td>\n",
       "      <td>0.0</td>\n",
       "      <td>0.0</td>\n",
       "      <td>0.0</td>\n",
       "      <td>0.0</td>\n",
       "      <td>...</td>\n",
       "      <td>0.0</td>\n",
       "      <td>0.0</td>\n",
       "      <td>0.0</td>\n",
       "      <td>0.0</td>\n",
       "      <td>0.0</td>\n",
       "      <td>0.0</td>\n",
       "      <td>0.0</td>\n",
       "      <td>1.0</td>\n",
       "      <td>0.0</td>\n",
       "      <td>0.0</td>\n",
       "    </tr>\n",
       "    <tr>\n",
       "      <th>796</th>\n",
       "      <td>0.0</td>\n",
       "      <td>0.0</td>\n",
       "      <td>0.0</td>\n",
       "      <td>0.0</td>\n",
       "      <td>0.0</td>\n",
       "      <td>0.0</td>\n",
       "      <td>0.0</td>\n",
       "      <td>0.0</td>\n",
       "      <td>0.0</td>\n",
       "      <td>0.0</td>\n",
       "      <td>...</td>\n",
       "      <td>0.0</td>\n",
       "      <td>0.0</td>\n",
       "      <td>0.0</td>\n",
       "      <td>0.0</td>\n",
       "      <td>0.0</td>\n",
       "      <td>0.0</td>\n",
       "      <td>0.0</td>\n",
       "      <td>0.0</td>\n",
       "      <td>0.0</td>\n",
       "      <td>1.0</td>\n",
       "    </tr>\n",
       "    <tr>\n",
       "      <th>797</th>\n",
       "      <td>0.0</td>\n",
       "      <td>0.0</td>\n",
       "      <td>0.0</td>\n",
       "      <td>0.0</td>\n",
       "      <td>0.0</td>\n",
       "      <td>0.0</td>\n",
       "      <td>0.0</td>\n",
       "      <td>0.0</td>\n",
       "      <td>0.0</td>\n",
       "      <td>0.0</td>\n",
       "      <td>...</td>\n",
       "      <td>0.0</td>\n",
       "      <td>0.0</td>\n",
       "      <td>0.0</td>\n",
       "      <td>0.0</td>\n",
       "      <td>0.0</td>\n",
       "      <td>0.0</td>\n",
       "      <td>0.0</td>\n",
       "      <td>0.0</td>\n",
       "      <td>0.0</td>\n",
       "      <td>1.0</td>\n",
       "    </tr>\n",
       "    <tr>\n",
       "      <th>798</th>\n",
       "      <td>0.0</td>\n",
       "      <td>0.0</td>\n",
       "      <td>0.0</td>\n",
       "      <td>0.0</td>\n",
       "      <td>0.0</td>\n",
       "      <td>0.0</td>\n",
       "      <td>0.0</td>\n",
       "      <td>0.0</td>\n",
       "      <td>0.0</td>\n",
       "      <td>0.0</td>\n",
       "      <td>...</td>\n",
       "      <td>0.0</td>\n",
       "      <td>0.0</td>\n",
       "      <td>0.0</td>\n",
       "      <td>0.0</td>\n",
       "      <td>0.0</td>\n",
       "      <td>0.0</td>\n",
       "      <td>0.0</td>\n",
       "      <td>0.0</td>\n",
       "      <td>0.0</td>\n",
       "      <td>1.0</td>\n",
       "    </tr>\n",
       "    <tr>\n",
       "      <th>799</th>\n",
       "      <td>0.0</td>\n",
       "      <td>0.0</td>\n",
       "      <td>0.0</td>\n",
       "      <td>0.0</td>\n",
       "      <td>0.0</td>\n",
       "      <td>0.0</td>\n",
       "      <td>0.0</td>\n",
       "      <td>0.0</td>\n",
       "      <td>0.0</td>\n",
       "      <td>0.0</td>\n",
       "      <td>...</td>\n",
       "      <td>0.0</td>\n",
       "      <td>0.0</td>\n",
       "      <td>0.0</td>\n",
       "      <td>0.0</td>\n",
       "      <td>0.0</td>\n",
       "      <td>0.0</td>\n",
       "      <td>0.0</td>\n",
       "      <td>0.0</td>\n",
       "      <td>1.0</td>\n",
       "      <td>0.0</td>\n",
       "    </tr>\n",
       "  </tbody>\n",
       "</table>\n",
       "<p>5 rows × 2394 columns</p>\n",
       "</div>"
      ],
      "text/plain": [
       "     R&D Spend_0.0  R&D Spend_542.05  R&D Spend_1000.23  R&D Spend_1269.0  \\\n",
       "795            0.0               0.0                0.0               0.0   \n",
       "796            0.0               0.0                0.0               0.0   \n",
       "797            0.0               0.0                0.0               0.0   \n",
       "798            0.0               0.0                0.0               0.0   \n",
       "799            0.0               0.0                0.0               0.0   \n",
       "\n",
       "     R&D Spend_1315.46  R&D Spend_1634.0  R&D Spend_1681.0  R&D Spend_2296.0  \\\n",
       "795                0.0               0.0               0.0               0.0   \n",
       "796                0.0               0.0               0.0               0.0   \n",
       "797                0.0               0.0               0.0               0.0   \n",
       "798                0.0               0.0               0.0               0.0   \n",
       "799                0.0               0.0               0.0               0.0   \n",
       "\n",
       "     R&D Spend_2307.0  R&D Spend_2603.0  ...  Marketing Spend_376029.195  \\\n",
       "795               0.0               0.0  ...                         0.0   \n",
       "796               0.0               0.0  ...                         0.0   \n",
       "797               0.0               0.0  ...                         0.0   \n",
       "798               0.0               0.0  ...                         0.0   \n",
       "799               0.0               0.0  ...                         0.0   \n",
       "\n",
       "     Marketing Spend_376669.7899  Marketing Spend_377009.3824  \\\n",
       "795                          0.0                          0.0   \n",
       "796                          0.0                          0.0   \n",
       "797                          0.0                          0.0   \n",
       "798                          0.0                          0.0   \n",
       "799                          0.0                          0.0   \n",
       "\n",
       "     Marketing Spend_383199.62  Marketing Spend_407934.54  \\\n",
       "795                        0.0                        0.0   \n",
       "796                        0.0                        0.0   \n",
       "797                        0.0                        0.0   \n",
       "798                        0.0                        0.0   \n",
       "799                        0.0                        0.0   \n",
       "\n",
       "     Marketing Spend_443898.53  Marketing Spend_471784.1  State_0  State_1  \\\n",
       "795                        0.0                       0.0      1.0      0.0   \n",
       "796                        0.0                       0.0      0.0      0.0   \n",
       "797                        0.0                       0.0      0.0      0.0   \n",
       "798                        0.0                       0.0      0.0      0.0   \n",
       "799                        0.0                       0.0      0.0      1.0   \n",
       "\n",
       "     State_2  \n",
       "795      0.0  \n",
       "796      1.0  \n",
       "797      1.0  \n",
       "798      1.0  \n",
       "799      0.0  \n",
       "\n",
       "[5 rows x 2394 columns]"
      ]
     },
     "execution_count": 22,
     "metadata": {},
     "output_type": "execute_result"
    }
   ],
   "source": [
    "ohe_df.tail()"
   ]
  },
  {
   "cell_type": "code",
   "execution_count": 28,
   "id": "ad55feb1-a8b9-41a4-aa8e-2d39efbe801c",
   "metadata": {
    "tags": []
   },
   "outputs": [
    {
     "ename": "AttributeError",
     "evalue": "'numpy.ndarray' object has no attribute 'pd_DataFrame'",
     "output_type": "error",
     "traceback": [
      "\u001b[0;31m---------------------------------------------------------------------------\u001b[0m",
      "\u001b[0;31mAttributeError\u001b[0m                            Traceback (most recent call last)",
      "Cell \u001b[0;32mIn[28], line 1\u001b[0m\n\u001b[0;32m----> 1\u001b[0m X_train_ohe \u001b[38;5;241m=\u001b[39m \u001b[43mX_train_ohe\u001b[49m\u001b[38;5;241;43m.\u001b[39;49m\u001b[43mpd_DataFrame\u001b[49m(X_train_ohe)\n\u001b[1;32m      2\u001b[0m X_train_ohe\n",
      "\u001b[0;31mAttributeError\u001b[0m: 'numpy.ndarray' object has no attribute 'pd_DataFrame'"
     ]
    }
   ],
   "source": [
    "X_train_ohe = X_train_ohe.pd_DataFrame(X_train_ohe)\n",
    "X_train_ohe"
   ]
  },
  {
   "cell_type": "code",
   "execution_count": 24,
   "id": "a38e8c44-52be-4b6c-ae32-e6ecb77d54cd",
   "metadata": {
    "tags": []
   },
   "outputs": [
    {
     "data": {
      "text/html": [
       "<div>\n",
       "<style scoped>\n",
       "    .dataframe tbody tr th:only-of-type {\n",
       "        vertical-align: middle;\n",
       "    }\n",
       "\n",
       "    .dataframe tbody tr th {\n",
       "        vertical-align: top;\n",
       "    }\n",
       "\n",
       "    .dataframe thead th {\n",
       "        text-align: right;\n",
       "    }\n",
       "</style>\n",
       "<table border=\"1\" class=\"dataframe\">\n",
       "  <thead>\n",
       "    <tr style=\"text-align: right;\">\n",
       "      <th></th>\n",
       "      <th>R&amp;D Spend</th>\n",
       "      <th>Administration</th>\n",
       "      <th>Marketing Spend</th>\n",
       "      <th>State</th>\n",
       "    </tr>\n",
       "  </thead>\n",
       "  <tbody>\n",
       "    <tr>\n",
       "      <th>29</th>\n",
       "      <td>65605.48</td>\n",
       "      <td>153032.0600</td>\n",
       "      <td>107138.38000</td>\n",
       "      <td>2</td>\n",
       "    </tr>\n",
       "    <tr>\n",
       "      <th>535</th>\n",
       "      <td>12068.00</td>\n",
       "      <td>112239.3528</td>\n",
       "      <td>92064.27813</td>\n",
       "      <td>0</td>\n",
       "    </tr>\n",
       "    <tr>\n",
       "      <th>695</th>\n",
       "      <td>133587.00</td>\n",
       "      <td>130185.8323</td>\n",
       "      <td>326535.52050</td>\n",
       "      <td>0</td>\n",
       "    </tr>\n",
       "    <tr>\n",
       "      <th>557</th>\n",
       "      <td>83794.00</td>\n",
       "      <td>122832.1752</td>\n",
       "      <td>230459.79100</td>\n",
       "      <td>0</td>\n",
       "    </tr>\n",
       "    <tr>\n",
       "      <th>836</th>\n",
       "      <td>141217.00</td>\n",
       "      <td>131312.6654</td>\n",
       "      <td>341257.62630</td>\n",
       "      <td>2</td>\n",
       "    </tr>\n",
       "    <tr>\n",
       "      <th>...</th>\n",
       "      <td>...</td>\n",
       "      <td>...</td>\n",
       "      <td>...</td>\n",
       "      <td>...</td>\n",
       "    </tr>\n",
       "    <tr>\n",
       "      <th>106</th>\n",
       "      <td>151853.00</td>\n",
       "      <td>132883.4384</td>\n",
       "      <td>361779.81740</td>\n",
       "      <td>0</td>\n",
       "    </tr>\n",
       "    <tr>\n",
       "      <th>270</th>\n",
       "      <td>141804.00</td>\n",
       "      <td>131399.3563</td>\n",
       "      <td>342390.24440</td>\n",
       "      <td>2</td>\n",
       "    </tr>\n",
       "    <tr>\n",
       "      <th>860</th>\n",
       "      <td>154595.00</td>\n",
       "      <td>133288.3894</td>\n",
       "      <td>367070.51390</td>\n",
       "      <td>2</td>\n",
       "    </tr>\n",
       "    <tr>\n",
       "      <th>435</th>\n",
       "      <td>21297.00</td>\n",
       "      <td>113602.3336</td>\n",
       "      <td>109871.65880</td>\n",
       "      <td>2</td>\n",
       "    </tr>\n",
       "    <tr>\n",
       "      <th>102</th>\n",
       "      <td>127529.00</td>\n",
       "      <td>129291.1592</td>\n",
       "      <td>314846.59290</td>\n",
       "      <td>1</td>\n",
       "    </tr>\n",
       "  </tbody>\n",
       "</table>\n",
       "<p>800 rows × 4 columns</p>\n",
       "</div>"
      ],
      "text/plain": [
       "     R&D Spend  Administration  Marketing Spend  State\n",
       "29    65605.48     153032.0600     107138.38000      2\n",
       "535   12068.00     112239.3528      92064.27813      0\n",
       "695  133587.00     130185.8323     326535.52050      0\n",
       "557   83794.00     122832.1752     230459.79100      0\n",
       "836  141217.00     131312.6654     341257.62630      2\n",
       "..         ...             ...              ...    ...\n",
       "106  151853.00     132883.4384     361779.81740      0\n",
       "270  141804.00     131399.3563     342390.24440      2\n",
       "860  154595.00     133288.3894     367070.51390      2\n",
       "435   21297.00     113602.3336     109871.65880      2\n",
       "102  127529.00     129291.1592     314846.59290      1\n",
       "\n",
       "[800 rows x 4 columns]"
      ]
     },
     "execution_count": 24,
     "metadata": {},
     "output_type": "execute_result"
    }
   ],
   "source": [
    "X_train"
   ]
  },
  {
   "cell_type": "code",
   "execution_count": 25,
   "id": "9cde257a-9ad3-4fd7-a875-3fdf31f11095",
   "metadata": {
    "tags": []
   },
   "outputs": [],
   "source": [
    "from sklearn.linear_model import LinearRegression"
   ]
  },
  {
   "cell_type": "code",
   "execution_count": 26,
   "id": "9eee3fe5-bb7d-4ae0-b83c-45fe6ff869a0",
   "metadata": {
    "tags": []
   },
   "outputs": [
    {
     "ename": "ValueError",
     "evalue": "Found unknown categories [1215.0, 2638.0, 4187.0, 4908.0, 5954.0, 6101.0, 6166.0, 6952.0, 9063.0, 9316.0, 9405.0, 10372.0, 13269.0, 14469.0, 15801.0, 16708.0, 17219.0, 17495.0, 18903.0, 18930.0, 18947.0, 18989.0, 19242.0, 20279.0, 21890.0, 22177.74, 22961.0, 22986.0, 24538.0, 26554.0, 28731.0, 29050.0, 29287.0, 29605.0, 30713.0, 30744.0, 30917.0, 32137.0, 33021.0, 33472.0, 33718.0, 34269.0, 34384.0, 36008.0, 37255.0, 38099.0, 38385.0, 38558.51, 39157.0, 42770.0, 43532.0, 45209.0, 46177.0, 46373.0, 46445.0, 47438.0, 47724.0, 49288.0, 49407.0, 49559.0, 49642.0, 49855.0, 50112.0, 52714.0, 52746.0, 53981.0, 54112.0, 54135.0, 55907.0, 58265.0, 58814.0, 58848.0, 58867.0, 59551.0, 60311.0, 60472.0, 60822.0, 60955.0, 61613.0, 61994.48, 63615.0, 63645.0, 64233.0, 64529.0, 64664.71, 65307.0, 65509.0, 65694.0, 65903.0, 66766.0, 67532.53, 67697.0, 68679.0, 68920.0, 70529.0, 70972.0, 72838.0, 73771.0, 74741.0, 75431.0, 76026.0, 78694.0, 78709.0, 79611.0, 80380.0, 80546.0, 80883.0, 81041.0, 83026.0, 83936.0, 84406.0, 84817.0, 85315.0, 87536.0, 88069.0, 89242.0, 90441.0, 91086.0, 91258.0, 92114.0, 92507.0, 94169.0, 95482.0, 96720.0, 99603.0, 100306.0, 100405.0, 101322.0, 101913.08, 104168.0, 104391.0, 104830.0, 105331.0, 106384.0, 107178.0, 107612.0, 107707.0, 107739.0, 107864.0, 108056.0, 112043.0, 113478.0, 114589.0, 116989.0, 118793.0, 120402.0, 121583.0, 122931.0, 124648.0, 124967.0, 127949.0, 128157.0, 128338.0, 128456.23, 129013.0, 130650.0, 131074.0, 131981.0, 132449.0, 133094.0, 133956.0, 134194.0, 134440.0, 135016.0, 135489.0, 135886.0, 136367.0, 137618.0, 137713.0, 137973.0, 138546.0, 139181.0, 139429.0, 140062.0, 140627.0, 141090.0, 141092.0, 141203.0, 142143.0, 142634.0, 144520.0, 144661.0, 145038.0, 145513.0, 146162.0, 146580.0, 146775.0, 147448.0, 149026.0, 150342.0, 150633.0, 151611.0, 152746.0, 154106.0, 154222.0, 155563.0, 155584.0, 158727.0, 159134.0, 159477.0] in column 0 during transform",
     "output_type": "error",
     "traceback": [
      "\u001b[0;31m---------------------------------------------------------------------------\u001b[0m",
      "\u001b[0;31mValueError\u001b[0m                                Traceback (most recent call last)",
      "Cell \u001b[0;32mIn[26], line 3\u001b[0m\n\u001b[1;32m      1\u001b[0m model \u001b[38;5;241m=\u001b[39m LinearRegression()\n\u001b[1;32m      2\u001b[0m model\u001b[38;5;241m.\u001b[39mfit(X_train_ohe, Y_train)\n\u001b[0;32m----> 3\u001b[0m X_test_ohe \u001b[38;5;241m=\u001b[39m \u001b[43moneHE\u001b[49m\u001b[38;5;241;43m.\u001b[39;49m\u001b[43mtransform\u001b[49m\u001b[43m(\u001b[49m\u001b[43mX_test\u001b[49m\u001b[43m)\u001b[49m\n\u001b[1;32m      4\u001b[0m Y_preds \u001b[38;5;241m=\u001b[39m model\u001b[38;5;241m.\u001b[39mpredict(X_test_ohe)\n\u001b[1;32m      5\u001b[0m Y_preds\n",
      "File \u001b[0;32m~/anaconda3/envs/mlenv/lib/python3.9/site-packages/sklearn/utils/_set_output.py:142\u001b[0m, in \u001b[0;36m_wrap_method_output.<locals>.wrapped\u001b[0;34m(self, X, *args, **kwargs)\u001b[0m\n\u001b[1;32m    140\u001b[0m \u001b[38;5;129m@wraps\u001b[39m(f)\n\u001b[1;32m    141\u001b[0m \u001b[38;5;28;01mdef\u001b[39;00m \u001b[38;5;21mwrapped\u001b[39m(\u001b[38;5;28mself\u001b[39m, X, \u001b[38;5;241m*\u001b[39margs, \u001b[38;5;241m*\u001b[39m\u001b[38;5;241m*\u001b[39mkwargs):\n\u001b[0;32m--> 142\u001b[0m     data_to_wrap \u001b[38;5;241m=\u001b[39m \u001b[43mf\u001b[49m\u001b[43m(\u001b[49m\u001b[38;5;28;43mself\u001b[39;49m\u001b[43m,\u001b[49m\u001b[43m \u001b[49m\u001b[43mX\u001b[49m\u001b[43m,\u001b[49m\u001b[43m \u001b[49m\u001b[38;5;241;43m*\u001b[39;49m\u001b[43margs\u001b[49m\u001b[43m,\u001b[49m\u001b[43m \u001b[49m\u001b[38;5;241;43m*\u001b[39;49m\u001b[38;5;241;43m*\u001b[39;49m\u001b[43mkwargs\u001b[49m\u001b[43m)\u001b[49m\n\u001b[1;32m    143\u001b[0m     \u001b[38;5;28;01mif\u001b[39;00m \u001b[38;5;28misinstance\u001b[39m(data_to_wrap, \u001b[38;5;28mtuple\u001b[39m):\n\u001b[1;32m    144\u001b[0m         \u001b[38;5;66;03m# only wrap the first output for cross decomposition\u001b[39;00m\n\u001b[1;32m    145\u001b[0m         \u001b[38;5;28;01mreturn\u001b[39;00m (\n\u001b[1;32m    146\u001b[0m             _wrap_data_with_container(method, data_to_wrap[\u001b[38;5;241m0\u001b[39m], X, \u001b[38;5;28mself\u001b[39m),\n\u001b[1;32m    147\u001b[0m             \u001b[38;5;241m*\u001b[39mdata_to_wrap[\u001b[38;5;241m1\u001b[39m:],\n\u001b[1;32m    148\u001b[0m         )\n",
      "File \u001b[0;32m~/anaconda3/envs/mlenv/lib/python3.9/site-packages/sklearn/preprocessing/_encoders.py:857\u001b[0m, in \u001b[0;36mOneHotEncoder.transform\u001b[0;34m(self, X)\u001b[0m\n\u001b[1;32m    852\u001b[0m \u001b[38;5;66;03m# validation of X happens in _check_X called by _transform\u001b[39;00m\n\u001b[1;32m    853\u001b[0m warn_on_unknown \u001b[38;5;241m=\u001b[39m \u001b[38;5;28mself\u001b[39m\u001b[38;5;241m.\u001b[39mdrop \u001b[38;5;129;01mis\u001b[39;00m \u001b[38;5;129;01mnot\u001b[39;00m \u001b[38;5;28;01mNone\u001b[39;00m \u001b[38;5;129;01mand\u001b[39;00m \u001b[38;5;28mself\u001b[39m\u001b[38;5;241m.\u001b[39mhandle_unknown \u001b[38;5;129;01min\u001b[39;00m {\n\u001b[1;32m    854\u001b[0m     \u001b[38;5;124m\"\u001b[39m\u001b[38;5;124mignore\u001b[39m\u001b[38;5;124m\"\u001b[39m,\n\u001b[1;32m    855\u001b[0m     \u001b[38;5;124m\"\u001b[39m\u001b[38;5;124minfrequent_if_exist\u001b[39m\u001b[38;5;124m\"\u001b[39m,\n\u001b[1;32m    856\u001b[0m }\n\u001b[0;32m--> 857\u001b[0m X_int, X_mask \u001b[38;5;241m=\u001b[39m \u001b[38;5;28;43mself\u001b[39;49m\u001b[38;5;241;43m.\u001b[39;49m\u001b[43m_transform\u001b[49m\u001b[43m(\u001b[49m\n\u001b[1;32m    858\u001b[0m \u001b[43m    \u001b[49m\u001b[43mX\u001b[49m\u001b[43m,\u001b[49m\n\u001b[1;32m    859\u001b[0m \u001b[43m    \u001b[49m\u001b[43mhandle_unknown\u001b[49m\u001b[38;5;241;43m=\u001b[39;49m\u001b[38;5;28;43mself\u001b[39;49m\u001b[38;5;241;43m.\u001b[39;49m\u001b[43mhandle_unknown\u001b[49m\u001b[43m,\u001b[49m\n\u001b[1;32m    860\u001b[0m \u001b[43m    \u001b[49m\u001b[43mforce_all_finite\u001b[49m\u001b[38;5;241;43m=\u001b[39;49m\u001b[38;5;124;43m\"\u001b[39;49m\u001b[38;5;124;43mallow-nan\u001b[39;49m\u001b[38;5;124;43m\"\u001b[39;49m\u001b[43m,\u001b[49m\n\u001b[1;32m    861\u001b[0m \u001b[43m    \u001b[49m\u001b[43mwarn_on_unknown\u001b[49m\u001b[38;5;241;43m=\u001b[39;49m\u001b[43mwarn_on_unknown\u001b[49m\u001b[43m,\u001b[49m\n\u001b[1;32m    862\u001b[0m \u001b[43m\u001b[49m\u001b[43m)\u001b[49m\n\u001b[1;32m    863\u001b[0m \u001b[38;5;28mself\u001b[39m\u001b[38;5;241m.\u001b[39m_map_infrequent_categories(X_int, X_mask)\n\u001b[1;32m    865\u001b[0m n_samples, n_features \u001b[38;5;241m=\u001b[39m X_int\u001b[38;5;241m.\u001b[39mshape\n",
      "File \u001b[0;32m~/anaconda3/envs/mlenv/lib/python3.9/site-packages/sklearn/preprocessing/_encoders.py:154\u001b[0m, in \u001b[0;36m_BaseEncoder._transform\u001b[0;34m(self, X, handle_unknown, force_all_finite, warn_on_unknown)\u001b[0m\n\u001b[1;32m    149\u001b[0m \u001b[38;5;28;01mif\u001b[39;00m handle_unknown \u001b[38;5;241m==\u001b[39m \u001b[38;5;124m\"\u001b[39m\u001b[38;5;124merror\u001b[39m\u001b[38;5;124m\"\u001b[39m:\n\u001b[1;32m    150\u001b[0m     msg \u001b[38;5;241m=\u001b[39m (\n\u001b[1;32m    151\u001b[0m         \u001b[38;5;124m\"\u001b[39m\u001b[38;5;124mFound unknown categories \u001b[39m\u001b[38;5;132;01m{0}\u001b[39;00m\u001b[38;5;124m in column \u001b[39m\u001b[38;5;132;01m{1}\u001b[39;00m\u001b[38;5;124m\"\u001b[39m\n\u001b[1;32m    152\u001b[0m         \u001b[38;5;124m\"\u001b[39m\u001b[38;5;124m during transform\u001b[39m\u001b[38;5;124m\"\u001b[39m\u001b[38;5;241m.\u001b[39mformat(diff, i)\n\u001b[1;32m    153\u001b[0m     )\n\u001b[0;32m--> 154\u001b[0m     \u001b[38;5;28;01mraise\u001b[39;00m \u001b[38;5;167;01mValueError\u001b[39;00m(msg)\n\u001b[1;32m    155\u001b[0m \u001b[38;5;28;01melse\u001b[39;00m:\n\u001b[1;32m    156\u001b[0m     \u001b[38;5;28;01mif\u001b[39;00m warn_on_unknown:\n",
      "\u001b[0;31mValueError\u001b[0m: Found unknown categories [1215.0, 2638.0, 4187.0, 4908.0, 5954.0, 6101.0, 6166.0, 6952.0, 9063.0, 9316.0, 9405.0, 10372.0, 13269.0, 14469.0, 15801.0, 16708.0, 17219.0, 17495.0, 18903.0, 18930.0, 18947.0, 18989.0, 19242.0, 20279.0, 21890.0, 22177.74, 22961.0, 22986.0, 24538.0, 26554.0, 28731.0, 29050.0, 29287.0, 29605.0, 30713.0, 30744.0, 30917.0, 32137.0, 33021.0, 33472.0, 33718.0, 34269.0, 34384.0, 36008.0, 37255.0, 38099.0, 38385.0, 38558.51, 39157.0, 42770.0, 43532.0, 45209.0, 46177.0, 46373.0, 46445.0, 47438.0, 47724.0, 49288.0, 49407.0, 49559.0, 49642.0, 49855.0, 50112.0, 52714.0, 52746.0, 53981.0, 54112.0, 54135.0, 55907.0, 58265.0, 58814.0, 58848.0, 58867.0, 59551.0, 60311.0, 60472.0, 60822.0, 60955.0, 61613.0, 61994.48, 63615.0, 63645.0, 64233.0, 64529.0, 64664.71, 65307.0, 65509.0, 65694.0, 65903.0, 66766.0, 67532.53, 67697.0, 68679.0, 68920.0, 70529.0, 70972.0, 72838.0, 73771.0, 74741.0, 75431.0, 76026.0, 78694.0, 78709.0, 79611.0, 80380.0, 80546.0, 80883.0, 81041.0, 83026.0, 83936.0, 84406.0, 84817.0, 85315.0, 87536.0, 88069.0, 89242.0, 90441.0, 91086.0, 91258.0, 92114.0, 92507.0, 94169.0, 95482.0, 96720.0, 99603.0, 100306.0, 100405.0, 101322.0, 101913.08, 104168.0, 104391.0, 104830.0, 105331.0, 106384.0, 107178.0, 107612.0, 107707.0, 107739.0, 107864.0, 108056.0, 112043.0, 113478.0, 114589.0, 116989.0, 118793.0, 120402.0, 121583.0, 122931.0, 124648.0, 124967.0, 127949.0, 128157.0, 128338.0, 128456.23, 129013.0, 130650.0, 131074.0, 131981.0, 132449.0, 133094.0, 133956.0, 134194.0, 134440.0, 135016.0, 135489.0, 135886.0, 136367.0, 137618.0, 137713.0, 137973.0, 138546.0, 139181.0, 139429.0, 140062.0, 140627.0, 141090.0, 141092.0, 141203.0, 142143.0, 142634.0, 144520.0, 144661.0, 145038.0, 145513.0, 146162.0, 146580.0, 146775.0, 147448.0, 149026.0, 150342.0, 150633.0, 151611.0, 152746.0, 154106.0, 154222.0, 155563.0, 155584.0, 158727.0, 159134.0, 159477.0] in column 0 during transform"
     ]
    }
   ],
   "source": [
    "model = LinearRegression()\n",
    "model.fit(X_train_ohe, Y_train)\n",
    "X_test_ohe = oneHE.transform(X_test)\n",
    "Y_preds = model.predict(X_test_ohe)\n",
    "Y_preds"
   ]
  },
  {
   "cell_type": "code",
   "execution_count": 27,
   "id": "2e0a0899-5c0d-419f-8a31-675e7d9d7e41",
   "metadata": {},
   "outputs": [
    {
     "data": {
      "text/plain": [
       "array([[0., 0., 0., ..., 0., 0., 1.],\n",
       "       [0., 0., 0., ..., 1., 0., 0.],\n",
       "       [0., 0., 0., ..., 1., 0., 0.],\n",
       "       ...,\n",
       "       [0., 0., 0., ..., 0., 0., 1.],\n",
       "       [0., 0., 0., ..., 0., 0., 1.],\n",
       "       [0., 0., 0., ..., 0., 1., 0.]])"
      ]
     },
     "execution_count": 27,
     "metadata": {},
     "output_type": "execute_result"
    }
   ],
   "source": [
    "X_train_ohe"
   ]
  },
  {
   "cell_type": "code",
   "execution_count": null,
   "id": "60ab1fe2-f4d2-4ab4-87ce-15476c88332c",
   "metadata": {},
   "outputs": [],
   "source": []
  },
  {
   "cell_type": "code",
   "execution_count": null,
   "id": "6733603d-fb5a-4fe4-ae08-0a80712913aa",
   "metadata": {},
   "outputs": [],
   "source": []
  },
  {
   "cell_type": "code",
   "execution_count": null,
   "id": "b2cf2144-e9ad-4a0a-920c-f30538ba25ce",
   "metadata": {},
   "outputs": [],
   "source": []
  },
  {
   "cell_type": "code",
   "execution_count": null,
   "id": "39616050-46f7-4c48-80ef-609e06e10452",
   "metadata": {},
   "outputs": [],
   "source": []
  },
  {
   "cell_type": "code",
   "execution_count": null,
   "id": "427c75da-edbe-4247-bdd0-999d72941f4c",
   "metadata": {},
   "outputs": [],
   "source": []
  },
  {
   "cell_type": "code",
   "execution_count": null,
   "id": "f7852f9c-f88a-42d4-a120-9f98b8d2ab6b",
   "metadata": {},
   "outputs": [],
   "source": []
  },
  {
   "cell_type": "code",
   "execution_count": null,
   "id": "2faaa50b-85d5-42bb-89f3-862a4397c2ba",
   "metadata": {},
   "outputs": [],
   "source": []
  }
 ],
 "metadata": {
  "kernelspec": {
   "display_name": "Python 3 (ipykernel)",
   "language": "python",
   "name": "python3"
  },
  "language_info": {
   "codemirror_mode": {
    "name": "ipython",
    "version": 3
   },
   "file_extension": ".py",
   "mimetype": "text/x-python",
   "name": "python",
   "nbconvert_exporter": "python",
   "pygments_lexer": "ipython3",
   "version": "3.9.16"
  }
 },
 "nbformat": 4,
 "nbformat_minor": 5
}
